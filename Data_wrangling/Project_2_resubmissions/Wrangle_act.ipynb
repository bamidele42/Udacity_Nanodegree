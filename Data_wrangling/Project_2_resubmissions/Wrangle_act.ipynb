{
 "cells": [
  {
   "cell_type": "markdown",
   "id": "6cb0026f",
   "metadata": {},
   "source": [
    "# Project: Wrangle and Analyze Data\n",
    "\n",
    "### Introduction\n",
    "This project gather, assess, clean and present findings about dogs, The dataset used for this project is from the Twitter account @WeRateDogs. WeRateDogs is a Twitter account that rates people's dogs with humorous comments about the dog. The gathering stage involves getting data from different source namely: Through direct download, through progammatically download and through API. The data was thereafter assessed for inconsistencies, these issues where later cleaned, the cleaned data was later used to make analysis and drawn conclusions"
   ]
  },
  {
   "cell_type": "markdown",
   "id": "335e99cc",
   "metadata": {},
   "source": [
    "## Data Gathering\n",
    "Gathering the datasets"
   ]
  },
  {
   "cell_type": "markdown",
   "id": "336f96ba",
   "metadata": {},
   "source": [
    "### Import necessary libraries"
   ]
  },
  {
   "cell_type": "code",
   "execution_count": 96,
   "id": "a5413f46",
   "metadata": {},
   "outputs": [],
   "source": [
    "import pandas as pd\n",
    "import numpy as np\n",
    "import requests\n",
    "import tweepy\n",
    "import json\n",
    "import matplotlib.pyplot as plt\n",
    "import seaborn as sns"
   ]
  },
  {
   "cell_type": "code",
   "execution_count": 97,
   "id": "f885f94f",
   "metadata": {},
   "outputs": [],
   "source": [
    "# Read in the downloaded twitter-archive-enchanced.csv\n",
    "twitter_archive = pd.read_csv(\"twitter-archive-enhanced.csv\")"
   ]
  },
  {
   "cell_type": "code",
   "execution_count": 98,
   "id": "ca2d6ec0",
   "metadata": {
    "scrolled": true
   },
   "outputs": [
    {
     "data": {
      "text/html": [
       "<div>\n",
       "<style scoped>\n",
       "    .dataframe tbody tr th:only-of-type {\n",
       "        vertical-align: middle;\n",
       "    }\n",
       "\n",
       "    .dataframe tbody tr th {\n",
       "        vertical-align: top;\n",
       "    }\n",
       "\n",
       "    .dataframe thead th {\n",
       "        text-align: right;\n",
       "    }\n",
       "</style>\n",
       "<table border=\"1\" class=\"dataframe\">\n",
       "  <thead>\n",
       "    <tr style=\"text-align: right;\">\n",
       "      <th></th>\n",
       "      <th>tweet_id</th>\n",
       "      <th>in_reply_to_status_id</th>\n",
       "      <th>in_reply_to_user_id</th>\n",
       "      <th>timestamp</th>\n",
       "      <th>source</th>\n",
       "      <th>text</th>\n",
       "      <th>retweeted_status_id</th>\n",
       "      <th>retweeted_status_user_id</th>\n",
       "      <th>retweeted_status_timestamp</th>\n",
       "      <th>expanded_urls</th>\n",
       "      <th>rating_numerator</th>\n",
       "      <th>rating_denominator</th>\n",
       "      <th>name</th>\n",
       "      <th>doggo</th>\n",
       "      <th>floofer</th>\n",
       "      <th>pupper</th>\n",
       "      <th>puppo</th>\n",
       "    </tr>\n",
       "  </thead>\n",
       "  <tbody>\n",
       "    <tr>\n",
       "      <th>0</th>\n",
       "      <td>892420643555336193</td>\n",
       "      <td>NaN</td>\n",
       "      <td>NaN</td>\n",
       "      <td>2017-08-01 16:23:56 +0000</td>\n",
       "      <td>&lt;a href=\"http://twitter.com/download/iphone\" r...</td>\n",
       "      <td>This is Phineas. He's a mystical boy. Only eve...</td>\n",
       "      <td>NaN</td>\n",
       "      <td>NaN</td>\n",
       "      <td>NaN</td>\n",
       "      <td>https://twitter.com/dog_rates/status/892420643...</td>\n",
       "      <td>13</td>\n",
       "      <td>10</td>\n",
       "      <td>Phineas</td>\n",
       "      <td>None</td>\n",
       "      <td>None</td>\n",
       "      <td>None</td>\n",
       "      <td>None</td>\n",
       "    </tr>\n",
       "    <tr>\n",
       "      <th>1</th>\n",
       "      <td>892177421306343426</td>\n",
       "      <td>NaN</td>\n",
       "      <td>NaN</td>\n",
       "      <td>2017-08-01 00:17:27 +0000</td>\n",
       "      <td>&lt;a href=\"http://twitter.com/download/iphone\" r...</td>\n",
       "      <td>This is Tilly. She's just checking pup on you....</td>\n",
       "      <td>NaN</td>\n",
       "      <td>NaN</td>\n",
       "      <td>NaN</td>\n",
       "      <td>https://twitter.com/dog_rates/status/892177421...</td>\n",
       "      <td>13</td>\n",
       "      <td>10</td>\n",
       "      <td>Tilly</td>\n",
       "      <td>None</td>\n",
       "      <td>None</td>\n",
       "      <td>None</td>\n",
       "      <td>None</td>\n",
       "    </tr>\n",
       "    <tr>\n",
       "      <th>2</th>\n",
       "      <td>891815181378084864</td>\n",
       "      <td>NaN</td>\n",
       "      <td>NaN</td>\n",
       "      <td>2017-07-31 00:18:03 +0000</td>\n",
       "      <td>&lt;a href=\"http://twitter.com/download/iphone\" r...</td>\n",
       "      <td>This is Archie. He is a rare Norwegian Pouncin...</td>\n",
       "      <td>NaN</td>\n",
       "      <td>NaN</td>\n",
       "      <td>NaN</td>\n",
       "      <td>https://twitter.com/dog_rates/status/891815181...</td>\n",
       "      <td>12</td>\n",
       "      <td>10</td>\n",
       "      <td>Archie</td>\n",
       "      <td>None</td>\n",
       "      <td>None</td>\n",
       "      <td>None</td>\n",
       "      <td>None</td>\n",
       "    </tr>\n",
       "    <tr>\n",
       "      <th>3</th>\n",
       "      <td>891689557279858688</td>\n",
       "      <td>NaN</td>\n",
       "      <td>NaN</td>\n",
       "      <td>2017-07-30 15:58:51 +0000</td>\n",
       "      <td>&lt;a href=\"http://twitter.com/download/iphone\" r...</td>\n",
       "      <td>This is Darla. She commenced a snooze mid meal...</td>\n",
       "      <td>NaN</td>\n",
       "      <td>NaN</td>\n",
       "      <td>NaN</td>\n",
       "      <td>https://twitter.com/dog_rates/status/891689557...</td>\n",
       "      <td>13</td>\n",
       "      <td>10</td>\n",
       "      <td>Darla</td>\n",
       "      <td>None</td>\n",
       "      <td>None</td>\n",
       "      <td>None</td>\n",
       "      <td>None</td>\n",
       "    </tr>\n",
       "    <tr>\n",
       "      <th>4</th>\n",
       "      <td>891327558926688256</td>\n",
       "      <td>NaN</td>\n",
       "      <td>NaN</td>\n",
       "      <td>2017-07-29 16:00:24 +0000</td>\n",
       "      <td>&lt;a href=\"http://twitter.com/download/iphone\" r...</td>\n",
       "      <td>This is Franklin. He would like you to stop ca...</td>\n",
       "      <td>NaN</td>\n",
       "      <td>NaN</td>\n",
       "      <td>NaN</td>\n",
       "      <td>https://twitter.com/dog_rates/status/891327558...</td>\n",
       "      <td>12</td>\n",
       "      <td>10</td>\n",
       "      <td>Franklin</td>\n",
       "      <td>None</td>\n",
       "      <td>None</td>\n",
       "      <td>None</td>\n",
       "      <td>None</td>\n",
       "    </tr>\n",
       "  </tbody>\n",
       "</table>\n",
       "</div>"
      ],
      "text/plain": [
       "             tweet_id  in_reply_to_status_id  in_reply_to_user_id  \\\n",
       "0  892420643555336193                    NaN                  NaN   \n",
       "1  892177421306343426                    NaN                  NaN   \n",
       "2  891815181378084864                    NaN                  NaN   \n",
       "3  891689557279858688                    NaN                  NaN   \n",
       "4  891327558926688256                    NaN                  NaN   \n",
       "\n",
       "                   timestamp  \\\n",
       "0  2017-08-01 16:23:56 +0000   \n",
       "1  2017-08-01 00:17:27 +0000   \n",
       "2  2017-07-31 00:18:03 +0000   \n",
       "3  2017-07-30 15:58:51 +0000   \n",
       "4  2017-07-29 16:00:24 +0000   \n",
       "\n",
       "                                              source  \\\n",
       "0  <a href=\"http://twitter.com/download/iphone\" r...   \n",
       "1  <a href=\"http://twitter.com/download/iphone\" r...   \n",
       "2  <a href=\"http://twitter.com/download/iphone\" r...   \n",
       "3  <a href=\"http://twitter.com/download/iphone\" r...   \n",
       "4  <a href=\"http://twitter.com/download/iphone\" r...   \n",
       "\n",
       "                                                text  retweeted_status_id  \\\n",
       "0  This is Phineas. He's a mystical boy. Only eve...                  NaN   \n",
       "1  This is Tilly. She's just checking pup on you....                  NaN   \n",
       "2  This is Archie. He is a rare Norwegian Pouncin...                  NaN   \n",
       "3  This is Darla. She commenced a snooze mid meal...                  NaN   \n",
       "4  This is Franklin. He would like you to stop ca...                  NaN   \n",
       "\n",
       "   retweeted_status_user_id retweeted_status_timestamp  \\\n",
       "0                       NaN                        NaN   \n",
       "1                       NaN                        NaN   \n",
       "2                       NaN                        NaN   \n",
       "3                       NaN                        NaN   \n",
       "4                       NaN                        NaN   \n",
       "\n",
       "                                       expanded_urls  rating_numerator  \\\n",
       "0  https://twitter.com/dog_rates/status/892420643...                13   \n",
       "1  https://twitter.com/dog_rates/status/892177421...                13   \n",
       "2  https://twitter.com/dog_rates/status/891815181...                12   \n",
       "3  https://twitter.com/dog_rates/status/891689557...                13   \n",
       "4  https://twitter.com/dog_rates/status/891327558...                12   \n",
       "\n",
       "   rating_denominator      name doggo floofer pupper puppo  \n",
       "0                  10   Phineas  None    None   None  None  \n",
       "1                  10     Tilly  None    None   None  None  \n",
       "2                  10    Archie  None    None   None  None  \n",
       "3                  10     Darla  None    None   None  None  \n",
       "4                  10  Franklin  None    None   None  None  "
      ]
     },
     "execution_count": 98,
     "metadata": {},
     "output_type": "execute_result"
    }
   ],
   "source": [
    "# check the first five rows of the dataset\n",
    "twitter_archive.head()"
   ]
  },
  {
   "cell_type": "code",
   "execution_count": 99,
   "id": "02300476",
   "metadata": {},
   "outputs": [
    {
     "data": {
      "text/plain": [
       "<Response [200]>"
      ]
     },
     "execution_count": 99,
     "metadata": {},
     "output_type": "execute_result"
    }
   ],
   "source": [
    "# Accessing the content of the image_predictions.tsv hosted on Udacity server\n",
    "image_url = \"https://d17h27t6h515a5.cloudfront.net/topher/2017/August/599fd2ad_image-predictions/image-predictions.tsv\"\n",
    "\n",
    "images_content = requests.get(image_url)\n",
    "images_content"
   ]
  },
  {
   "cell_type": "code",
   "execution_count": 100,
   "id": "aa85e391",
   "metadata": {},
   "outputs": [],
   "source": [
    "# Writing the content of the url to a file\n",
    "with open(\"image_predictions.tsv\", mode=\"wb\") as file:\n",
    "    file.write(images_content.content)"
   ]
  },
  {
   "cell_type": "code",
   "execution_count": 101,
   "id": "b2185f7a",
   "metadata": {},
   "outputs": [],
   "source": [
    "# Reading the content of the image_prediction.tsv file to pandas DataFrame\n",
    "image_prediction = pd.read_csv(\"image_predictions.tsv\", sep=\"\\t\")"
   ]
  },
  {
   "cell_type": "code",
   "execution_count": 102,
   "id": "1abd4df0",
   "metadata": {},
   "outputs": [
    {
     "data": {
      "text/html": [
       "<div>\n",
       "<style scoped>\n",
       "    .dataframe tbody tr th:only-of-type {\n",
       "        vertical-align: middle;\n",
       "    }\n",
       "\n",
       "    .dataframe tbody tr th {\n",
       "        vertical-align: top;\n",
       "    }\n",
       "\n",
       "    .dataframe thead th {\n",
       "        text-align: right;\n",
       "    }\n",
       "</style>\n",
       "<table border=\"1\" class=\"dataframe\">\n",
       "  <thead>\n",
       "    <tr style=\"text-align: right;\">\n",
       "      <th></th>\n",
       "      <th>tweet_id</th>\n",
       "      <th>jpg_url</th>\n",
       "      <th>img_num</th>\n",
       "      <th>p1</th>\n",
       "      <th>p1_conf</th>\n",
       "      <th>p1_dog</th>\n",
       "      <th>p2</th>\n",
       "      <th>p2_conf</th>\n",
       "      <th>p2_dog</th>\n",
       "      <th>p3</th>\n",
       "      <th>p3_conf</th>\n",
       "      <th>p3_dog</th>\n",
       "    </tr>\n",
       "  </thead>\n",
       "  <tbody>\n",
       "    <tr>\n",
       "      <th>0</th>\n",
       "      <td>666020888022790149</td>\n",
       "      <td>https://pbs.twimg.com/media/CT4udn0WwAA0aMy.jpg</td>\n",
       "      <td>1</td>\n",
       "      <td>Welsh_springer_spaniel</td>\n",
       "      <td>0.465074</td>\n",
       "      <td>True</td>\n",
       "      <td>collie</td>\n",
       "      <td>0.156665</td>\n",
       "      <td>True</td>\n",
       "      <td>Shetland_sheepdog</td>\n",
       "      <td>0.061428</td>\n",
       "      <td>True</td>\n",
       "    </tr>\n",
       "    <tr>\n",
       "      <th>1</th>\n",
       "      <td>666029285002620928</td>\n",
       "      <td>https://pbs.twimg.com/media/CT42GRgUYAA5iDo.jpg</td>\n",
       "      <td>1</td>\n",
       "      <td>redbone</td>\n",
       "      <td>0.506826</td>\n",
       "      <td>True</td>\n",
       "      <td>miniature_pinscher</td>\n",
       "      <td>0.074192</td>\n",
       "      <td>True</td>\n",
       "      <td>Rhodesian_ridgeback</td>\n",
       "      <td>0.072010</td>\n",
       "      <td>True</td>\n",
       "    </tr>\n",
       "    <tr>\n",
       "      <th>2</th>\n",
       "      <td>666033412701032449</td>\n",
       "      <td>https://pbs.twimg.com/media/CT4521TWwAEvMyu.jpg</td>\n",
       "      <td>1</td>\n",
       "      <td>German_shepherd</td>\n",
       "      <td>0.596461</td>\n",
       "      <td>True</td>\n",
       "      <td>malinois</td>\n",
       "      <td>0.138584</td>\n",
       "      <td>True</td>\n",
       "      <td>bloodhound</td>\n",
       "      <td>0.116197</td>\n",
       "      <td>True</td>\n",
       "    </tr>\n",
       "    <tr>\n",
       "      <th>3</th>\n",
       "      <td>666044226329800704</td>\n",
       "      <td>https://pbs.twimg.com/media/CT5Dr8HUEAA-lEu.jpg</td>\n",
       "      <td>1</td>\n",
       "      <td>Rhodesian_ridgeback</td>\n",
       "      <td>0.408143</td>\n",
       "      <td>True</td>\n",
       "      <td>redbone</td>\n",
       "      <td>0.360687</td>\n",
       "      <td>True</td>\n",
       "      <td>miniature_pinscher</td>\n",
       "      <td>0.222752</td>\n",
       "      <td>True</td>\n",
       "    </tr>\n",
       "    <tr>\n",
       "      <th>4</th>\n",
       "      <td>666049248165822465</td>\n",
       "      <td>https://pbs.twimg.com/media/CT5IQmsXIAAKY4A.jpg</td>\n",
       "      <td>1</td>\n",
       "      <td>miniature_pinscher</td>\n",
       "      <td>0.560311</td>\n",
       "      <td>True</td>\n",
       "      <td>Rottweiler</td>\n",
       "      <td>0.243682</td>\n",
       "      <td>True</td>\n",
       "      <td>Doberman</td>\n",
       "      <td>0.154629</td>\n",
       "      <td>True</td>\n",
       "    </tr>\n",
       "  </tbody>\n",
       "</table>\n",
       "</div>"
      ],
      "text/plain": [
       "             tweet_id                                          jpg_url  \\\n",
       "0  666020888022790149  https://pbs.twimg.com/media/CT4udn0WwAA0aMy.jpg   \n",
       "1  666029285002620928  https://pbs.twimg.com/media/CT42GRgUYAA5iDo.jpg   \n",
       "2  666033412701032449  https://pbs.twimg.com/media/CT4521TWwAEvMyu.jpg   \n",
       "3  666044226329800704  https://pbs.twimg.com/media/CT5Dr8HUEAA-lEu.jpg   \n",
       "4  666049248165822465  https://pbs.twimg.com/media/CT5IQmsXIAAKY4A.jpg   \n",
       "\n",
       "   img_num                      p1   p1_conf  p1_dog                  p2  \\\n",
       "0        1  Welsh_springer_spaniel  0.465074    True              collie   \n",
       "1        1                 redbone  0.506826    True  miniature_pinscher   \n",
       "2        1         German_shepherd  0.596461    True            malinois   \n",
       "3        1     Rhodesian_ridgeback  0.408143    True             redbone   \n",
       "4        1      miniature_pinscher  0.560311    True          Rottweiler   \n",
       "\n",
       "    p2_conf  p2_dog                   p3   p3_conf  p3_dog  \n",
       "0  0.156665    True    Shetland_sheepdog  0.061428    True  \n",
       "1  0.074192    True  Rhodesian_ridgeback  0.072010    True  \n",
       "2  0.138584    True           bloodhound  0.116197    True  \n",
       "3  0.360687    True   miniature_pinscher  0.222752    True  \n",
       "4  0.243682    True             Doberman  0.154629    True  "
      ]
     },
     "execution_count": 102,
     "metadata": {},
     "output_type": "execute_result"
    }
   ],
   "source": [
    "# Checking the first five rows of the dataframe\n",
    "image_prediction.head()"
   ]
  },
  {
   "cell_type": "code",
   "execution_count": 103,
   "id": "111db87e",
   "metadata": {},
   "outputs": [],
   "source": [
    "# import tweepy\n",
    "# from tweepy import OAuthHandler\n",
    "# import json\n",
    "# from timeit import default_timer as timer\n",
    "\n",
    "# # Query Twitter API for each tweet in the Twitter archive and save JSON in a text file\n",
    "# # These are hidden to comply with Twitter's API terms and conditions\n",
    "# consumer_key = 'HIDDEN'\n",
    "# consumer_secret = 'HIDDEN'\n",
    "# access_token = 'HIDDEN'\n",
    "# access_secret = 'HIDDEN'\n",
    "\n",
    "# auth = OAuthHandler(consumer_key, consumer_secret)\n",
    "# auth.set_access_token(access_token, access_secret)\n",
    "\n",
    "# api = tweepy.API(auth, wait_on_rate_limit=True)\n",
    "\n",
    "# # NOTE TO STUDENT WITH MOBILE VERIFICATION ISSUES:\n",
    "# # df_1 is a DataFrame with the twitter_archive_enhanced.csv file. You may have to\n",
    "# # change line 17 to match the name of your DataFrame with twitter_archive_enhanced.csv\n",
    "# # NOTE TO REVIEWER: this student had mobile verification issues so the following\n",
    "# # Twitter API code was sent to this student from a Udacity instructor\n",
    "# # Tweet IDs for which to gather additional data via Twitter's API\n",
    "# tweet_ids = df.tweet_id.values\n",
    "# len(tweet_ids)\n",
    "\n",
    "# # Query Twitter's API for JSON data for each tweet ID in the Twitter archive\n",
    "# count = 0\n",
    "# fails_dict = {}\n",
    "# start = timer()\n",
    "# # Save each tweet's returned JSON as a new line in a .txt file\n",
    "# with open('tweet_json.txt', 'w') as outfile:\n",
    "#     # This loop will likely take 20-30 minutes to run because of Twitter's rate limit\n",
    "#     for tweet_id in tweet_ids:\n",
    "#         count += 1\n",
    "#         print(str(count) + \": \" + str(tweet_id))\n",
    "#         try:\n",
    "#             tweet = api.get_status(tweet_id, tweet_mode='extended')\n",
    "#             print(\"Success\")\n",
    "#             json.dump(tweet._json, outfile)\n",
    "#             outfile.write('\\n')\n",
    "#         except AttributeError:  #tweepy.errors.TweepError as e:\n",
    "#             print(\"Fail\")\n",
    "#             fails_dict[tweet_id] = e\n",
    "#             pass\n",
    "# end = timer()\n",
    "# print(end - start)\n",
    "# print(fails_dict)\n"
   ]
  },
  {
   "cell_type": "code",
   "execution_count": 104,
   "id": "7ca62400",
   "metadata": {},
   "outputs": [],
   "source": [
    "# Reading the Twitter API data line by line\n",
    "tweet_json = \"tweet-json.txt\"\n",
    "tweets = []\n",
    "with open(tweet_json, mode= \"r\", encoding= \"utf-8\") as file:\n",
    "    for line in file:\n",
    "        tweets.append(json.loads(line))"
   ]
  },
  {
   "cell_type": "code",
   "execution_count": 105,
   "id": "5c58d96a",
   "metadata": {},
   "outputs": [],
   "source": [
    "# Converting the tweets to DataFrame\n",
    "api_data = pd.DataFrame(tweets)"
   ]
  },
  {
   "cell_type": "code",
   "execution_count": 106,
   "id": "1b283dbe",
   "metadata": {},
   "outputs": [
    {
     "data": {
      "text/html": [
       "<div>\n",
       "<style scoped>\n",
       "    .dataframe tbody tr th:only-of-type {\n",
       "        vertical-align: middle;\n",
       "    }\n",
       "\n",
       "    .dataframe tbody tr th {\n",
       "        vertical-align: top;\n",
       "    }\n",
       "\n",
       "    .dataframe thead th {\n",
       "        text-align: right;\n",
       "    }\n",
       "</style>\n",
       "<table border=\"1\" class=\"dataframe\">\n",
       "  <thead>\n",
       "    <tr style=\"text-align: right;\">\n",
       "      <th></th>\n",
       "      <th>created_at</th>\n",
       "      <th>id</th>\n",
       "      <th>id_str</th>\n",
       "      <th>full_text</th>\n",
       "      <th>truncated</th>\n",
       "      <th>display_text_range</th>\n",
       "      <th>entities</th>\n",
       "      <th>extended_entities</th>\n",
       "      <th>source</th>\n",
       "      <th>in_reply_to_status_id</th>\n",
       "      <th>in_reply_to_status_id_str</th>\n",
       "      <th>in_reply_to_user_id</th>\n",
       "      <th>in_reply_to_user_id_str</th>\n",
       "      <th>in_reply_to_screen_name</th>\n",
       "      <th>user</th>\n",
       "      <th>geo</th>\n",
       "      <th>coordinates</th>\n",
       "      <th>place</th>\n",
       "      <th>contributors</th>\n",
       "      <th>is_quote_status</th>\n",
       "      <th>retweet_count</th>\n",
       "      <th>favorite_count</th>\n",
       "      <th>favorited</th>\n",
       "      <th>retweeted</th>\n",
       "      <th>possibly_sensitive</th>\n",
       "      <th>possibly_sensitive_appealable</th>\n",
       "      <th>lang</th>\n",
       "      <th>retweeted_status</th>\n",
       "      <th>quoted_status_id</th>\n",
       "      <th>quoted_status_id_str</th>\n",
       "      <th>quoted_status</th>\n",
       "    </tr>\n",
       "  </thead>\n",
       "  <tbody>\n",
       "    <tr>\n",
       "      <th>0</th>\n",
       "      <td>Tue Aug 01 16:23:56 +0000 2017</td>\n",
       "      <td>892420643555336193</td>\n",
       "      <td>892420643555336193</td>\n",
       "      <td>This is Phineas. He's a mystical boy. Only eve...</td>\n",
       "      <td>False</td>\n",
       "      <td>[0, 85]</td>\n",
       "      <td>{'hashtags': [], 'symbols': [], 'user_mentions...</td>\n",
       "      <td>{'media': [{'id': 892420639486877696, 'id_str'...</td>\n",
       "      <td>&lt;a href=\"http://twitter.com/download/iphone\" r...</td>\n",
       "      <td>NaN</td>\n",
       "      <td>None</td>\n",
       "      <td>NaN</td>\n",
       "      <td>None</td>\n",
       "      <td>None</td>\n",
       "      <td>{'id': 4196983835, 'id_str': '4196983835', 'na...</td>\n",
       "      <td>None</td>\n",
       "      <td>None</td>\n",
       "      <td>None</td>\n",
       "      <td>None</td>\n",
       "      <td>False</td>\n",
       "      <td>8853</td>\n",
       "      <td>39467</td>\n",
       "      <td>False</td>\n",
       "      <td>False</td>\n",
       "      <td>False</td>\n",
       "      <td>False</td>\n",
       "      <td>en</td>\n",
       "      <td>NaN</td>\n",
       "      <td>NaN</td>\n",
       "      <td>NaN</td>\n",
       "      <td>NaN</td>\n",
       "    </tr>\n",
       "    <tr>\n",
       "      <th>1</th>\n",
       "      <td>Tue Aug 01 00:17:27 +0000 2017</td>\n",
       "      <td>892177421306343426</td>\n",
       "      <td>892177421306343426</td>\n",
       "      <td>This is Tilly. She's just checking pup on you....</td>\n",
       "      <td>False</td>\n",
       "      <td>[0, 138]</td>\n",
       "      <td>{'hashtags': [], 'symbols': [], 'user_mentions...</td>\n",
       "      <td>{'media': [{'id': 892177413194625024, 'id_str'...</td>\n",
       "      <td>&lt;a href=\"http://twitter.com/download/iphone\" r...</td>\n",
       "      <td>NaN</td>\n",
       "      <td>None</td>\n",
       "      <td>NaN</td>\n",
       "      <td>None</td>\n",
       "      <td>None</td>\n",
       "      <td>{'id': 4196983835, 'id_str': '4196983835', 'na...</td>\n",
       "      <td>None</td>\n",
       "      <td>None</td>\n",
       "      <td>None</td>\n",
       "      <td>None</td>\n",
       "      <td>False</td>\n",
       "      <td>6514</td>\n",
       "      <td>33819</td>\n",
       "      <td>False</td>\n",
       "      <td>False</td>\n",
       "      <td>False</td>\n",
       "      <td>False</td>\n",
       "      <td>en</td>\n",
       "      <td>NaN</td>\n",
       "      <td>NaN</td>\n",
       "      <td>NaN</td>\n",
       "      <td>NaN</td>\n",
       "    </tr>\n",
       "    <tr>\n",
       "      <th>2</th>\n",
       "      <td>Mon Jul 31 00:18:03 +0000 2017</td>\n",
       "      <td>891815181378084864</td>\n",
       "      <td>891815181378084864</td>\n",
       "      <td>This is Archie. He is a rare Norwegian Pouncin...</td>\n",
       "      <td>False</td>\n",
       "      <td>[0, 121]</td>\n",
       "      <td>{'hashtags': [], 'symbols': [], 'user_mentions...</td>\n",
       "      <td>{'media': [{'id': 891815175371796480, 'id_str'...</td>\n",
       "      <td>&lt;a href=\"http://twitter.com/download/iphone\" r...</td>\n",
       "      <td>NaN</td>\n",
       "      <td>None</td>\n",
       "      <td>NaN</td>\n",
       "      <td>None</td>\n",
       "      <td>None</td>\n",
       "      <td>{'id': 4196983835, 'id_str': '4196983835', 'na...</td>\n",
       "      <td>None</td>\n",
       "      <td>None</td>\n",
       "      <td>None</td>\n",
       "      <td>None</td>\n",
       "      <td>False</td>\n",
       "      <td>4328</td>\n",
       "      <td>25461</td>\n",
       "      <td>False</td>\n",
       "      <td>False</td>\n",
       "      <td>False</td>\n",
       "      <td>False</td>\n",
       "      <td>en</td>\n",
       "      <td>NaN</td>\n",
       "      <td>NaN</td>\n",
       "      <td>NaN</td>\n",
       "      <td>NaN</td>\n",
       "    </tr>\n",
       "    <tr>\n",
       "      <th>3</th>\n",
       "      <td>Sun Jul 30 15:58:51 +0000 2017</td>\n",
       "      <td>891689557279858688</td>\n",
       "      <td>891689557279858688</td>\n",
       "      <td>This is Darla. She commenced a snooze mid meal...</td>\n",
       "      <td>False</td>\n",
       "      <td>[0, 79]</td>\n",
       "      <td>{'hashtags': [], 'symbols': [], 'user_mentions...</td>\n",
       "      <td>{'media': [{'id': 891689552724799489, 'id_str'...</td>\n",
       "      <td>&lt;a href=\"http://twitter.com/download/iphone\" r...</td>\n",
       "      <td>NaN</td>\n",
       "      <td>None</td>\n",
       "      <td>NaN</td>\n",
       "      <td>None</td>\n",
       "      <td>None</td>\n",
       "      <td>{'id': 4196983835, 'id_str': '4196983835', 'na...</td>\n",
       "      <td>None</td>\n",
       "      <td>None</td>\n",
       "      <td>None</td>\n",
       "      <td>None</td>\n",
       "      <td>False</td>\n",
       "      <td>8964</td>\n",
       "      <td>42908</td>\n",
       "      <td>False</td>\n",
       "      <td>False</td>\n",
       "      <td>False</td>\n",
       "      <td>False</td>\n",
       "      <td>en</td>\n",
       "      <td>NaN</td>\n",
       "      <td>NaN</td>\n",
       "      <td>NaN</td>\n",
       "      <td>NaN</td>\n",
       "    </tr>\n",
       "    <tr>\n",
       "      <th>4</th>\n",
       "      <td>Sat Jul 29 16:00:24 +0000 2017</td>\n",
       "      <td>891327558926688256</td>\n",
       "      <td>891327558926688256</td>\n",
       "      <td>This is Franklin. He would like you to stop ca...</td>\n",
       "      <td>False</td>\n",
       "      <td>[0, 138]</td>\n",
       "      <td>{'hashtags': [{'text': 'BarkWeek', 'indices': ...</td>\n",
       "      <td>{'media': [{'id': 891327551943041024, 'id_str'...</td>\n",
       "      <td>&lt;a href=\"http://twitter.com/download/iphone\" r...</td>\n",
       "      <td>NaN</td>\n",
       "      <td>None</td>\n",
       "      <td>NaN</td>\n",
       "      <td>None</td>\n",
       "      <td>None</td>\n",
       "      <td>{'id': 4196983835, 'id_str': '4196983835', 'na...</td>\n",
       "      <td>None</td>\n",
       "      <td>None</td>\n",
       "      <td>None</td>\n",
       "      <td>None</td>\n",
       "      <td>False</td>\n",
       "      <td>9774</td>\n",
       "      <td>41048</td>\n",
       "      <td>False</td>\n",
       "      <td>False</td>\n",
       "      <td>False</td>\n",
       "      <td>False</td>\n",
       "      <td>en</td>\n",
       "      <td>NaN</td>\n",
       "      <td>NaN</td>\n",
       "      <td>NaN</td>\n",
       "      <td>NaN</td>\n",
       "    </tr>\n",
       "  </tbody>\n",
       "</table>\n",
       "</div>"
      ],
      "text/plain": [
       "                       created_at                  id              id_str  \\\n",
       "0  Tue Aug 01 16:23:56 +0000 2017  892420643555336193  892420643555336193   \n",
       "1  Tue Aug 01 00:17:27 +0000 2017  892177421306343426  892177421306343426   \n",
       "2  Mon Jul 31 00:18:03 +0000 2017  891815181378084864  891815181378084864   \n",
       "3  Sun Jul 30 15:58:51 +0000 2017  891689557279858688  891689557279858688   \n",
       "4  Sat Jul 29 16:00:24 +0000 2017  891327558926688256  891327558926688256   \n",
       "\n",
       "                                           full_text  truncated  \\\n",
       "0  This is Phineas. He's a mystical boy. Only eve...      False   \n",
       "1  This is Tilly. She's just checking pup on you....      False   \n",
       "2  This is Archie. He is a rare Norwegian Pouncin...      False   \n",
       "3  This is Darla. She commenced a snooze mid meal...      False   \n",
       "4  This is Franklin. He would like you to stop ca...      False   \n",
       "\n",
       "  display_text_range                                           entities  \\\n",
       "0            [0, 85]  {'hashtags': [], 'symbols': [], 'user_mentions...   \n",
       "1           [0, 138]  {'hashtags': [], 'symbols': [], 'user_mentions...   \n",
       "2           [0, 121]  {'hashtags': [], 'symbols': [], 'user_mentions...   \n",
       "3            [0, 79]  {'hashtags': [], 'symbols': [], 'user_mentions...   \n",
       "4           [0, 138]  {'hashtags': [{'text': 'BarkWeek', 'indices': ...   \n",
       "\n",
       "                                   extended_entities  \\\n",
       "0  {'media': [{'id': 892420639486877696, 'id_str'...   \n",
       "1  {'media': [{'id': 892177413194625024, 'id_str'...   \n",
       "2  {'media': [{'id': 891815175371796480, 'id_str'...   \n",
       "3  {'media': [{'id': 891689552724799489, 'id_str'...   \n",
       "4  {'media': [{'id': 891327551943041024, 'id_str'...   \n",
       "\n",
       "                                              source  in_reply_to_status_id  \\\n",
       "0  <a href=\"http://twitter.com/download/iphone\" r...                    NaN   \n",
       "1  <a href=\"http://twitter.com/download/iphone\" r...                    NaN   \n",
       "2  <a href=\"http://twitter.com/download/iphone\" r...                    NaN   \n",
       "3  <a href=\"http://twitter.com/download/iphone\" r...                    NaN   \n",
       "4  <a href=\"http://twitter.com/download/iphone\" r...                    NaN   \n",
       "\n",
       "  in_reply_to_status_id_str  in_reply_to_user_id in_reply_to_user_id_str  \\\n",
       "0                      None                  NaN                    None   \n",
       "1                      None                  NaN                    None   \n",
       "2                      None                  NaN                    None   \n",
       "3                      None                  NaN                    None   \n",
       "4                      None                  NaN                    None   \n",
       "\n",
       "  in_reply_to_screen_name                                               user  \\\n",
       "0                    None  {'id': 4196983835, 'id_str': '4196983835', 'na...   \n",
       "1                    None  {'id': 4196983835, 'id_str': '4196983835', 'na...   \n",
       "2                    None  {'id': 4196983835, 'id_str': '4196983835', 'na...   \n",
       "3                    None  {'id': 4196983835, 'id_str': '4196983835', 'na...   \n",
       "4                    None  {'id': 4196983835, 'id_str': '4196983835', 'na...   \n",
       "\n",
       "    geo coordinates place contributors  is_quote_status  retweet_count  \\\n",
       "0  None        None  None         None            False           8853   \n",
       "1  None        None  None         None            False           6514   \n",
       "2  None        None  None         None            False           4328   \n",
       "3  None        None  None         None            False           8964   \n",
       "4  None        None  None         None            False           9774   \n",
       "\n",
       "   favorite_count  favorited  retweeted possibly_sensitive  \\\n",
       "0           39467      False      False              False   \n",
       "1           33819      False      False              False   \n",
       "2           25461      False      False              False   \n",
       "3           42908      False      False              False   \n",
       "4           41048      False      False              False   \n",
       "\n",
       "  possibly_sensitive_appealable lang retweeted_status  quoted_status_id  \\\n",
       "0                         False   en              NaN               NaN   \n",
       "1                         False   en              NaN               NaN   \n",
       "2                         False   en              NaN               NaN   \n",
       "3                         False   en              NaN               NaN   \n",
       "4                         False   en              NaN               NaN   \n",
       "\n",
       "  quoted_status_id_str quoted_status  \n",
       "0                  NaN           NaN  \n",
       "1                  NaN           NaN  \n",
       "2                  NaN           NaN  \n",
       "3                  NaN           NaN  \n",
       "4                  NaN           NaN  "
      ]
     },
     "execution_count": 106,
     "metadata": {},
     "output_type": "execute_result"
    }
   ],
   "source": [
    "# Checking the first five rows of the dataframe\n",
    "api_data.head()"
   ]
  },
  {
   "cell_type": "markdown",
   "id": "51be4f58",
   "metadata": {},
   "source": [
    "## Assess"
   ]
  },
  {
   "cell_type": "markdown",
   "id": "f19782da",
   "metadata": {},
   "source": [
    "### Eight (8) quality issues and two (2) tidiness issues "
   ]
  },
  {
   "cell_type": "markdown",
   "id": "6e87c6e7",
   "metadata": {},
   "source": [
    "#### Visual Assessment\n",
    "**Quality issues in the twitter_archive Dataframe**\n",
    "  \n",
    "  - Only original tweets will be accessed and cleaned (no retweets)\n",
    "   - (1) Empty columns(missing values) i.e columns without values\n",
    "   - (2) Duplication of values in the expanded_urls column (some rows duplicated values)\n",
    "   - (3) Inconsistency in the name column some dogs start with uppercase while some start with lowercase\n",
    "  \n",
    "\n",
    "\n",
    " **Quality issues in the image_prediction Dataframe**\n",
    "\n",
    " - (4) Inconsistency in the names in columns(p1, p2, p3) some names starts with Uppercase while some start with lowercase letters\n",
    "  - (5) underscore character joining two letters together in columns(p1, p2, p3)\n",
    "\n",
    " **Quality issues in the api_data Dataframe**\n",
    "   - (6) Empty columns (missing values) i.e columns without values\n",
    "\n",
    "**Tidiness issues in the twitter_archive Dataframe**\n",
    "  -  (1) Dogs stage names are columns instead of rows\n",
    "\n",
    "**Tidiness issues in the api_data Dataframe**"
   ]
  },
  {
   "cell_type": "markdown",
   "id": "85aa7087",
   "metadata": {},
   "source": [
    "## Programmatic Assessment.\n",
    "\n",
    "- The data type of timestamp column was object instead of datetime data type"
   ]
  },
  {
   "cell_type": "markdown",
   "id": "48c94ef6",
   "metadata": {},
   "source": [
    "## Before Programmatic assessment (Only original tweets will be assessed)"
   ]
  },
  {
   "cell_type": "markdown",
   "id": "7f782c83",
   "metadata": {},
   "source": [
    "#### Define\n",
    "Only original tweets will be accessed and cleaned (no retweets)\n",
    "  - Drop all columns containing retweets and replies in the each dataframe"
   ]
  },
  {
   "cell_type": "code",
   "execution_count": 107,
   "id": "2f1dc298",
   "metadata": {},
   "outputs": [
    {
     "data": {
      "text/plain": [
       "Index(['tweet_id', 'in_reply_to_status_id', 'in_reply_to_user_id', 'timestamp',\n",
       "       'source', 'text', 'retweeted_status_id', 'retweeted_status_user_id',\n",
       "       'retweeted_status_timestamp', 'expanded_urls', 'rating_numerator',\n",
       "       'rating_denominator', 'name', 'doggo', 'floofer', 'pupper', 'puppo'],\n",
       "      dtype='object')"
      ]
     },
     "execution_count": 107,
     "metadata": {},
     "output_type": "execute_result"
    }
   ],
   "source": [
    "twitter_archive.columns"
   ]
  },
  {
   "cell_type": "markdown",
   "id": "a1d096e9",
   "metadata": {},
   "source": [
    "#### Code"
   ]
  },
  {
   "cell_type": "code",
   "execution_count": 108,
   "id": "3d2aaf7c",
   "metadata": {},
   "outputs": [],
   "source": [
    "twitter_archive = twitter_archive.drop([\"in_reply_to_status_id\", \"in_reply_to_user_id\", \"retweeted_status_id\", \"retweeted_status_user_id\", \"retweeted_status_timestamp\"], axis=1)"
   ]
  },
  {
   "cell_type": "markdown",
   "id": "bcdba2ea",
   "metadata": {},
   "source": [
    "#### Test"
   ]
  },
  {
   "cell_type": "code",
   "execution_count": 109,
   "id": "d6cf72cc",
   "metadata": {
    "scrolled": true
   },
   "outputs": [
    {
     "name": "stdout",
     "output_type": "stream",
     "text": [
      "<class 'pandas.core.frame.DataFrame'>\n",
      "RangeIndex: 2356 entries, 0 to 2355\n",
      "Data columns (total 12 columns):\n",
      " #   Column              Non-Null Count  Dtype \n",
      "---  ------              --------------  ----- \n",
      " 0   tweet_id            2356 non-null   int64 \n",
      " 1   timestamp           2356 non-null   object\n",
      " 2   source              2356 non-null   object\n",
      " 3   text                2356 non-null   object\n",
      " 4   expanded_urls       2297 non-null   object\n",
      " 5   rating_numerator    2356 non-null   int64 \n",
      " 6   rating_denominator  2356 non-null   int64 \n",
      " 7   name                2356 non-null   object\n",
      " 8   doggo               2356 non-null   object\n",
      " 9   floofer             2356 non-null   object\n",
      " 10  pupper              2356 non-null   object\n",
      " 11  puppo               2356 non-null   object\n",
      "dtypes: int64(3), object(9)\n",
      "memory usage: 221.0+ KB\n"
     ]
    }
   ],
   "source": [
    "twitter_archive.info()"
   ]
  },
  {
   "cell_type": "code",
   "execution_count": 110,
   "id": "3e496a0a",
   "metadata": {},
   "outputs": [
    {
     "data": {
      "text/plain": [
       "tweet_id               0\n",
       "timestamp              0\n",
       "source                 0\n",
       "text                   0\n",
       "expanded_urls         59\n",
       "rating_numerator       0\n",
       "rating_denominator     0\n",
       "name                   0\n",
       "doggo                  0\n",
       "floofer                0\n",
       "pupper                 0\n",
       "puppo                  0\n",
       "dtype: int64"
      ]
     },
     "execution_count": 110,
     "metadata": {},
     "output_type": "execute_result"
    }
   ],
   "source": [
    "# These are the sum of the null values in the twitter_archive dataframe \n",
    "twitter_archive.isna().sum()"
   ]
  },
  {
   "cell_type": "code",
   "execution_count": 111,
   "id": "3e7659e7",
   "metadata": {
    "scrolled": true
   },
   "outputs": [
    {
     "data": {
      "text/html": [
       "<div>\n",
       "<style scoped>\n",
       "    .dataframe tbody tr th:only-of-type {\n",
       "        vertical-align: middle;\n",
       "    }\n",
       "\n",
       "    .dataframe tbody tr th {\n",
       "        vertical-align: top;\n",
       "    }\n",
       "\n",
       "    .dataframe thead th {\n",
       "        text-align: right;\n",
       "    }\n",
       "</style>\n",
       "<table border=\"1\" class=\"dataframe\">\n",
       "  <thead>\n",
       "    <tr style=\"text-align: right;\">\n",
       "      <th></th>\n",
       "      <th>tweet_id</th>\n",
       "      <th>timestamp</th>\n",
       "      <th>source</th>\n",
       "      <th>text</th>\n",
       "      <th>expanded_urls</th>\n",
       "      <th>rating_numerator</th>\n",
       "      <th>rating_denominator</th>\n",
       "      <th>name</th>\n",
       "      <th>doggo</th>\n",
       "      <th>floofer</th>\n",
       "      <th>pupper</th>\n",
       "      <th>puppo</th>\n",
       "    </tr>\n",
       "  </thead>\n",
       "  <tbody>\n",
       "    <tr>\n",
       "      <th>557</th>\n",
       "      <td>803380650405482500</td>\n",
       "      <td>2016-11-28 23:30:47 +0000</td>\n",
       "      <td>&lt;a href=\"http://twitter.com/download/iphone\" r...</td>\n",
       "      <td>Meet Sonny. He's an in-home movie critic. That...</td>\n",
       "      <td>https://twitter.com/dog_rates/status/803380650...</td>\n",
       "      <td>12</td>\n",
       "      <td>10</td>\n",
       "      <td>Sonny</td>\n",
       "      <td>None</td>\n",
       "      <td>None</td>\n",
       "      <td>None</td>\n",
       "      <td>None</td>\n",
       "    </tr>\n",
       "    <tr>\n",
       "      <th>72</th>\n",
       "      <td>878604707211726852</td>\n",
       "      <td>2017-06-24 13:24:20 +0000</td>\n",
       "      <td>&lt;a href=\"http://twitter.com/download/iphone\" r...</td>\n",
       "      <td>Martha is stunning how h*ckin dare you. 13/10 ...</td>\n",
       "      <td>https://twitter.com/bbcworld/status/8785998685...</td>\n",
       "      <td>13</td>\n",
       "      <td>10</td>\n",
       "      <td>None</td>\n",
       "      <td>None</td>\n",
       "      <td>None</td>\n",
       "      <td>None</td>\n",
       "      <td>None</td>\n",
       "    </tr>\n",
       "    <tr>\n",
       "      <th>217</th>\n",
       "      <td>850380195714523136</td>\n",
       "      <td>2017-04-07 16:10:12 +0000</td>\n",
       "      <td>&lt;a href=\"http://twitter.com/download/iphone\" r...</td>\n",
       "      <td>This is Leo. He's a personal triathlon coach. ...</td>\n",
       "      <td>https://twitter.com/dog_rates/status/850380195...</td>\n",
       "      <td>13</td>\n",
       "      <td>10</td>\n",
       "      <td>Leo</td>\n",
       "      <td>None</td>\n",
       "      <td>None</td>\n",
       "      <td>None</td>\n",
       "      <td>None</td>\n",
       "    </tr>\n",
       "    <tr>\n",
       "      <th>1813</th>\n",
       "      <td>676776431406465024</td>\n",
       "      <td>2015-12-15 14:50:49 +0000</td>\n",
       "      <td>&lt;a href=\"http://twitter.com/download/iphone\" r...</td>\n",
       "      <td>When someone yells \"cops!\" at a party and you ...</td>\n",
       "      <td>https://twitter.com/dog_rates/status/676776431...</td>\n",
       "      <td>10</td>\n",
       "      <td>10</td>\n",
       "      <td>None</td>\n",
       "      <td>None</td>\n",
       "      <td>None</td>\n",
       "      <td>None</td>\n",
       "      <td>None</td>\n",
       "    </tr>\n",
       "    <tr>\n",
       "      <th>1752</th>\n",
       "      <td>678969228704284672</td>\n",
       "      <td>2015-12-21 16:04:13 +0000</td>\n",
       "      <td>&lt;a href=\"http://twitter.com/download/iphone\" r...</td>\n",
       "      <td>Meet Lola. She's a Metamorphic Chartreuse. Pla...</td>\n",
       "      <td>https://twitter.com/dog_rates/status/678969228...</td>\n",
       "      <td>11</td>\n",
       "      <td>10</td>\n",
       "      <td>Lola</td>\n",
       "      <td>None</td>\n",
       "      <td>None</td>\n",
       "      <td>None</td>\n",
       "      <td>None</td>\n",
       "    </tr>\n",
       "  </tbody>\n",
       "</table>\n",
       "</div>"
      ],
      "text/plain": [
       "                tweet_id                  timestamp  \\\n",
       "557   803380650405482500  2016-11-28 23:30:47 +0000   \n",
       "72    878604707211726852  2017-06-24 13:24:20 +0000   \n",
       "217   850380195714523136  2017-04-07 16:10:12 +0000   \n",
       "1813  676776431406465024  2015-12-15 14:50:49 +0000   \n",
       "1752  678969228704284672  2015-12-21 16:04:13 +0000   \n",
       "\n",
       "                                                 source  \\\n",
       "557   <a href=\"http://twitter.com/download/iphone\" r...   \n",
       "72    <a href=\"http://twitter.com/download/iphone\" r...   \n",
       "217   <a href=\"http://twitter.com/download/iphone\" r...   \n",
       "1813  <a href=\"http://twitter.com/download/iphone\" r...   \n",
       "1752  <a href=\"http://twitter.com/download/iphone\" r...   \n",
       "\n",
       "                                                   text  \\\n",
       "557   Meet Sonny. He's an in-home movie critic. That...   \n",
       "72    Martha is stunning how h*ckin dare you. 13/10 ...   \n",
       "217   This is Leo. He's a personal triathlon coach. ...   \n",
       "1813  When someone yells \"cops!\" at a party and you ...   \n",
       "1752  Meet Lola. She's a Metamorphic Chartreuse. Pla...   \n",
       "\n",
       "                                          expanded_urls  rating_numerator  \\\n",
       "557   https://twitter.com/dog_rates/status/803380650...                12   \n",
       "72    https://twitter.com/bbcworld/status/8785998685...                13   \n",
       "217   https://twitter.com/dog_rates/status/850380195...                13   \n",
       "1813  https://twitter.com/dog_rates/status/676776431...                10   \n",
       "1752  https://twitter.com/dog_rates/status/678969228...                11   \n",
       "\n",
       "      rating_denominator   name doggo floofer pupper puppo  \n",
       "557                   10  Sonny  None    None   None  None  \n",
       "72                    10   None  None    None   None  None  \n",
       "217                   10    Leo  None    None   None  None  \n",
       "1813                  10   None  None    None   None  None  \n",
       "1752                  10   Lola  None    None   None  None  "
      ]
     },
     "execution_count": 111,
     "metadata": {},
     "output_type": "execute_result"
    }
   ],
   "source": [
    "# Checking random 5 samples of the dateframr to detect quality issues\n",
    "twitter_archive.sample(5)"
   ]
  },
  {
   "cell_type": "code",
   "execution_count": 112,
   "id": "8195a1f4",
   "metadata": {},
   "outputs": [
    {
     "data": {
      "text/html": [
       "<div>\n",
       "<style scoped>\n",
       "    .dataframe tbody tr th:only-of-type {\n",
       "        vertical-align: middle;\n",
       "    }\n",
       "\n",
       "    .dataframe tbody tr th {\n",
       "        vertical-align: top;\n",
       "    }\n",
       "\n",
       "    .dataframe thead th {\n",
       "        text-align: right;\n",
       "    }\n",
       "</style>\n",
       "<table border=\"1\" class=\"dataframe\">\n",
       "  <thead>\n",
       "    <tr style=\"text-align: right;\">\n",
       "      <th></th>\n",
       "      <th>tweet_id</th>\n",
       "      <th>rating_numerator</th>\n",
       "      <th>rating_denominator</th>\n",
       "    </tr>\n",
       "  </thead>\n",
       "  <tbody>\n",
       "    <tr>\n",
       "      <th>count</th>\n",
       "      <td>2.356000e+03</td>\n",
       "      <td>2356.000000</td>\n",
       "      <td>2356.000000</td>\n",
       "    </tr>\n",
       "    <tr>\n",
       "      <th>mean</th>\n",
       "      <td>7.427716e+17</td>\n",
       "      <td>13.126486</td>\n",
       "      <td>10.455433</td>\n",
       "    </tr>\n",
       "    <tr>\n",
       "      <th>std</th>\n",
       "      <td>6.856705e+16</td>\n",
       "      <td>45.876648</td>\n",
       "      <td>6.745237</td>\n",
       "    </tr>\n",
       "    <tr>\n",
       "      <th>min</th>\n",
       "      <td>6.660209e+17</td>\n",
       "      <td>0.000000</td>\n",
       "      <td>0.000000</td>\n",
       "    </tr>\n",
       "    <tr>\n",
       "      <th>25%</th>\n",
       "      <td>6.783989e+17</td>\n",
       "      <td>10.000000</td>\n",
       "      <td>10.000000</td>\n",
       "    </tr>\n",
       "    <tr>\n",
       "      <th>50%</th>\n",
       "      <td>7.196279e+17</td>\n",
       "      <td>11.000000</td>\n",
       "      <td>10.000000</td>\n",
       "    </tr>\n",
       "    <tr>\n",
       "      <th>75%</th>\n",
       "      <td>7.993373e+17</td>\n",
       "      <td>12.000000</td>\n",
       "      <td>10.000000</td>\n",
       "    </tr>\n",
       "    <tr>\n",
       "      <th>max</th>\n",
       "      <td>8.924206e+17</td>\n",
       "      <td>1776.000000</td>\n",
       "      <td>170.000000</td>\n",
       "    </tr>\n",
       "  </tbody>\n",
       "</table>\n",
       "</div>"
      ],
      "text/plain": [
       "           tweet_id  rating_numerator  rating_denominator\n",
       "count  2.356000e+03       2356.000000         2356.000000\n",
       "mean   7.427716e+17         13.126486           10.455433\n",
       "std    6.856705e+16         45.876648            6.745237\n",
       "min    6.660209e+17          0.000000            0.000000\n",
       "25%    6.783989e+17         10.000000           10.000000\n",
       "50%    7.196279e+17         11.000000           10.000000\n",
       "75%    7.993373e+17         12.000000           10.000000\n",
       "max    8.924206e+17       1776.000000          170.000000"
      ]
     },
     "execution_count": 112,
     "metadata": {},
     "output_type": "execute_result"
    }
   ],
   "source": [
    "# Statistical describution of the numerical columns to check distribution\n",
    "twitter_archive.describe()"
   ]
  },
  {
   "cell_type": "code",
   "execution_count": 113,
   "id": "e59b1259",
   "metadata": {},
   "outputs": [
    {
     "data": {
      "text/plain": [
       "(2356, 12)"
      ]
     },
     "execution_count": 113,
     "metadata": {},
     "output_type": "execute_result"
    }
   ],
   "source": [
    "# checking the shape of the dataframe\n",
    "twitter_archive.shape"
   ]
  },
  {
   "cell_type": "code",
   "execution_count": 114,
   "id": "9ab2e652",
   "metadata": {},
   "outputs": [
    {
     "data": {
      "text/plain": [
       "2356"
      ]
     },
     "execution_count": 114,
     "metadata": {},
     "output_type": "execute_result"
    }
   ],
   "source": [
    "# checking to the unique tweets in the dataframe\n",
    "twitter_archive.tweet_id.nunique()"
   ]
  },
  {
   "cell_type": "code",
   "execution_count": 115,
   "id": "06b938ad",
   "metadata": {},
   "outputs": [
    {
     "data": {
      "text/html": [
       "<div>\n",
       "<style scoped>\n",
       "    .dataframe tbody tr th:only-of-type {\n",
       "        vertical-align: middle;\n",
       "    }\n",
       "\n",
       "    .dataframe tbody tr th {\n",
       "        vertical-align: top;\n",
       "    }\n",
       "\n",
       "    .dataframe thead th {\n",
       "        text-align: right;\n",
       "    }\n",
       "</style>\n",
       "<table border=\"1\" class=\"dataframe\">\n",
       "  <thead>\n",
       "    <tr style=\"text-align: right;\">\n",
       "      <th></th>\n",
       "      <th>tweet_id</th>\n",
       "      <th>timestamp</th>\n",
       "      <th>source</th>\n",
       "      <th>text</th>\n",
       "      <th>expanded_urls</th>\n",
       "      <th>rating_numerator</th>\n",
       "      <th>rating_denominator</th>\n",
       "      <th>name</th>\n",
       "      <th>doggo</th>\n",
       "      <th>floofer</th>\n",
       "      <th>pupper</th>\n",
       "      <th>puppo</th>\n",
       "    </tr>\n",
       "  </thead>\n",
       "  <tbody>\n",
       "  </tbody>\n",
       "</table>\n",
       "</div>"
      ],
      "text/plain": [
       "Empty DataFrame\n",
       "Columns: [tweet_id, timestamp, source, text, expanded_urls, rating_numerator, rating_denominator, name, doggo, floofer, pupper, puppo]\n",
       "Index: []"
      ]
     },
     "execution_count": 115,
     "metadata": {},
     "output_type": "execute_result"
    }
   ],
   "source": [
    "# There is no duplicated data in the twitter_archive dataframe\n",
    "twitter_archive[twitter_archive.duplicated()]"
   ]
  },
  {
   "cell_type": "markdown",
   "id": "1310b4d2",
   "metadata": {},
   "source": [
    "#### Assessing the Image prediction dataframe Programmatically"
   ]
  },
  {
   "cell_type": "code",
   "execution_count": 116,
   "id": "14d4f420",
   "metadata": {},
   "outputs": [
    {
     "data": {
      "text/html": [
       "<div>\n",
       "<style scoped>\n",
       "    .dataframe tbody tr th:only-of-type {\n",
       "        vertical-align: middle;\n",
       "    }\n",
       "\n",
       "    .dataframe tbody tr th {\n",
       "        vertical-align: top;\n",
       "    }\n",
       "\n",
       "    .dataframe thead th {\n",
       "        text-align: right;\n",
       "    }\n",
       "</style>\n",
       "<table border=\"1\" class=\"dataframe\">\n",
       "  <thead>\n",
       "    <tr style=\"text-align: right;\">\n",
       "      <th></th>\n",
       "      <th>tweet_id</th>\n",
       "      <th>jpg_url</th>\n",
       "      <th>img_num</th>\n",
       "      <th>p1</th>\n",
       "      <th>p1_conf</th>\n",
       "      <th>p1_dog</th>\n",
       "      <th>p2</th>\n",
       "      <th>p2_conf</th>\n",
       "      <th>p2_dog</th>\n",
       "      <th>p3</th>\n",
       "      <th>p3_conf</th>\n",
       "      <th>p3_dog</th>\n",
       "    </tr>\n",
       "  </thead>\n",
       "  <tbody>\n",
       "    <tr>\n",
       "      <th>0</th>\n",
       "      <td>666020888022790149</td>\n",
       "      <td>https://pbs.twimg.com/media/CT4udn0WwAA0aMy.jpg</td>\n",
       "      <td>1</td>\n",
       "      <td>Welsh_springer_spaniel</td>\n",
       "      <td>0.465074</td>\n",
       "      <td>True</td>\n",
       "      <td>collie</td>\n",
       "      <td>0.156665</td>\n",
       "      <td>True</td>\n",
       "      <td>Shetland_sheepdog</td>\n",
       "      <td>0.061428</td>\n",
       "      <td>True</td>\n",
       "    </tr>\n",
       "    <tr>\n",
       "      <th>1</th>\n",
       "      <td>666029285002620928</td>\n",
       "      <td>https://pbs.twimg.com/media/CT42GRgUYAA5iDo.jpg</td>\n",
       "      <td>1</td>\n",
       "      <td>redbone</td>\n",
       "      <td>0.506826</td>\n",
       "      <td>True</td>\n",
       "      <td>miniature_pinscher</td>\n",
       "      <td>0.074192</td>\n",
       "      <td>True</td>\n",
       "      <td>Rhodesian_ridgeback</td>\n",
       "      <td>0.072010</td>\n",
       "      <td>True</td>\n",
       "    </tr>\n",
       "    <tr>\n",
       "      <th>2</th>\n",
       "      <td>666033412701032449</td>\n",
       "      <td>https://pbs.twimg.com/media/CT4521TWwAEvMyu.jpg</td>\n",
       "      <td>1</td>\n",
       "      <td>German_shepherd</td>\n",
       "      <td>0.596461</td>\n",
       "      <td>True</td>\n",
       "      <td>malinois</td>\n",
       "      <td>0.138584</td>\n",
       "      <td>True</td>\n",
       "      <td>bloodhound</td>\n",
       "      <td>0.116197</td>\n",
       "      <td>True</td>\n",
       "    </tr>\n",
       "  </tbody>\n",
       "</table>\n",
       "</div>"
      ],
      "text/plain": [
       "             tweet_id                                          jpg_url  \\\n",
       "0  666020888022790149  https://pbs.twimg.com/media/CT4udn0WwAA0aMy.jpg   \n",
       "1  666029285002620928  https://pbs.twimg.com/media/CT42GRgUYAA5iDo.jpg   \n",
       "2  666033412701032449  https://pbs.twimg.com/media/CT4521TWwAEvMyu.jpg   \n",
       "\n",
       "   img_num                      p1   p1_conf  p1_dog                  p2  \\\n",
       "0        1  Welsh_springer_spaniel  0.465074    True              collie   \n",
       "1        1                 redbone  0.506826    True  miniature_pinscher   \n",
       "2        1         German_shepherd  0.596461    True            malinois   \n",
       "\n",
       "    p2_conf  p2_dog                   p3   p3_conf  p3_dog  \n",
       "0  0.156665    True    Shetland_sheepdog  0.061428    True  \n",
       "1  0.074192    True  Rhodesian_ridgeback  0.072010    True  \n",
       "2  0.138584    True           bloodhound  0.116197    True  "
      ]
     },
     "execution_count": 116,
     "metadata": {},
     "output_type": "execute_result"
    }
   ],
   "source": [
    "# checking the first three rows\n",
    "image_prediction.head(3)"
   ]
  },
  {
   "cell_type": "code",
   "execution_count": 117,
   "id": "0d954d35",
   "metadata": {
    "scrolled": true
   },
   "outputs": [
    {
     "name": "stdout",
     "output_type": "stream",
     "text": [
      "<class 'pandas.core.frame.DataFrame'>\n",
      "RangeIndex: 2075 entries, 0 to 2074\n",
      "Data columns (total 12 columns):\n",
      " #   Column    Non-Null Count  Dtype  \n",
      "---  ------    --------------  -----  \n",
      " 0   tweet_id  2075 non-null   int64  \n",
      " 1   jpg_url   2075 non-null   object \n",
      " 2   img_num   2075 non-null   int64  \n",
      " 3   p1        2075 non-null   object \n",
      " 4   p1_conf   2075 non-null   float64\n",
      " 5   p1_dog    2075 non-null   bool   \n",
      " 6   p2        2075 non-null   object \n",
      " 7   p2_conf   2075 non-null   float64\n",
      " 8   p2_dog    2075 non-null   bool   \n",
      " 9   p3        2075 non-null   object \n",
      " 10  p3_conf   2075 non-null   float64\n",
      " 11  p3_dog    2075 non-null   bool   \n",
      "dtypes: bool(3), float64(3), int64(2), object(4)\n",
      "memory usage: 152.1+ KB\n"
     ]
    }
   ],
   "source": [
    "# Checking that the data types are correct\n",
    "image_prediction.info()"
   ]
  },
  {
   "cell_type": "code",
   "execution_count": 118,
   "id": "6710f31d",
   "metadata": {},
   "outputs": [
    {
     "data": {
      "text/plain": [
       "tweet_id    0\n",
       "jpg_url     0\n",
       "img_num     0\n",
       "p1          0\n",
       "p1_conf     0\n",
       "p1_dog      0\n",
       "p2          0\n",
       "p2_conf     0\n",
       "p2_dog      0\n",
       "p3          0\n",
       "p3_conf     0\n",
       "p3_dog      0\n",
       "dtype: int64"
      ]
     },
     "execution_count": 118,
     "metadata": {},
     "output_type": "execute_result"
    }
   ],
   "source": [
    "# The image_prediction dataframe have no missing values\n",
    "image_prediction.isna().sum()"
   ]
  },
  {
   "cell_type": "code",
   "execution_count": 119,
   "id": "94f2f211",
   "metadata": {},
   "outputs": [
    {
     "data": {
      "text/html": [
       "<div>\n",
       "<style scoped>\n",
       "    .dataframe tbody tr th:only-of-type {\n",
       "        vertical-align: middle;\n",
       "    }\n",
       "\n",
       "    .dataframe tbody tr th {\n",
       "        vertical-align: top;\n",
       "    }\n",
       "\n",
       "    .dataframe thead th {\n",
       "        text-align: right;\n",
       "    }\n",
       "</style>\n",
       "<table border=\"1\" class=\"dataframe\">\n",
       "  <thead>\n",
       "    <tr style=\"text-align: right;\">\n",
       "      <th></th>\n",
       "      <th>tweet_id</th>\n",
       "      <th>img_num</th>\n",
       "      <th>p1_conf</th>\n",
       "      <th>p2_conf</th>\n",
       "      <th>p3_conf</th>\n",
       "    </tr>\n",
       "  </thead>\n",
       "  <tbody>\n",
       "    <tr>\n",
       "      <th>count</th>\n",
       "      <td>2.075000e+03</td>\n",
       "      <td>2075.000000</td>\n",
       "      <td>2075.000000</td>\n",
       "      <td>2.075000e+03</td>\n",
       "      <td>2.075000e+03</td>\n",
       "    </tr>\n",
       "    <tr>\n",
       "      <th>mean</th>\n",
       "      <td>7.384514e+17</td>\n",
       "      <td>1.203855</td>\n",
       "      <td>0.594548</td>\n",
       "      <td>1.345886e-01</td>\n",
       "      <td>6.032417e-02</td>\n",
       "    </tr>\n",
       "    <tr>\n",
       "      <th>std</th>\n",
       "      <td>6.785203e+16</td>\n",
       "      <td>0.561875</td>\n",
       "      <td>0.271174</td>\n",
       "      <td>1.006657e-01</td>\n",
       "      <td>5.090593e-02</td>\n",
       "    </tr>\n",
       "    <tr>\n",
       "      <th>min</th>\n",
       "      <td>6.660209e+17</td>\n",
       "      <td>1.000000</td>\n",
       "      <td>0.044333</td>\n",
       "      <td>1.011300e-08</td>\n",
       "      <td>1.740170e-10</td>\n",
       "    </tr>\n",
       "    <tr>\n",
       "      <th>25%</th>\n",
       "      <td>6.764835e+17</td>\n",
       "      <td>1.000000</td>\n",
       "      <td>0.364412</td>\n",
       "      <td>5.388625e-02</td>\n",
       "      <td>1.622240e-02</td>\n",
       "    </tr>\n",
       "    <tr>\n",
       "      <th>50%</th>\n",
       "      <td>7.119988e+17</td>\n",
       "      <td>1.000000</td>\n",
       "      <td>0.588230</td>\n",
       "      <td>1.181810e-01</td>\n",
       "      <td>4.944380e-02</td>\n",
       "    </tr>\n",
       "    <tr>\n",
       "      <th>75%</th>\n",
       "      <td>7.932034e+17</td>\n",
       "      <td>1.000000</td>\n",
       "      <td>0.843855</td>\n",
       "      <td>1.955655e-01</td>\n",
       "      <td>9.180755e-02</td>\n",
       "    </tr>\n",
       "    <tr>\n",
       "      <th>max</th>\n",
       "      <td>8.924206e+17</td>\n",
       "      <td>4.000000</td>\n",
       "      <td>1.000000</td>\n",
       "      <td>4.880140e-01</td>\n",
       "      <td>2.734190e-01</td>\n",
       "    </tr>\n",
       "  </tbody>\n",
       "</table>\n",
       "</div>"
      ],
      "text/plain": [
       "           tweet_id      img_num      p1_conf       p2_conf       p3_conf\n",
       "count  2.075000e+03  2075.000000  2075.000000  2.075000e+03  2.075000e+03\n",
       "mean   7.384514e+17     1.203855     0.594548  1.345886e-01  6.032417e-02\n",
       "std    6.785203e+16     0.561875     0.271174  1.006657e-01  5.090593e-02\n",
       "min    6.660209e+17     1.000000     0.044333  1.011300e-08  1.740170e-10\n",
       "25%    6.764835e+17     1.000000     0.364412  5.388625e-02  1.622240e-02\n",
       "50%    7.119988e+17     1.000000     0.588230  1.181810e-01  4.944380e-02\n",
       "75%    7.932034e+17     1.000000     0.843855  1.955655e-01  9.180755e-02\n",
       "max    8.924206e+17     4.000000     1.000000  4.880140e-01  2.734190e-01"
      ]
     },
     "execution_count": 119,
     "metadata": {},
     "output_type": "execute_result"
    }
   ],
   "source": [
    "# checking the statistical distribution of the numeric columns of the daaframe\n",
    "image_prediction.describe()"
   ]
  },
  {
   "cell_type": "code",
   "execution_count": 120,
   "id": "9ca5faad",
   "metadata": {},
   "outputs": [
    {
     "data": {
      "text/plain": [
       "(2075, 12)"
      ]
     },
     "execution_count": 120,
     "metadata": {},
     "output_type": "execute_result"
    }
   ],
   "source": [
    "# Checking the shape of the dataframe\n",
    "image_prediction.shape"
   ]
  },
  {
   "cell_type": "code",
   "execution_count": 121,
   "id": "93774e64",
   "metadata": {},
   "outputs": [
    {
     "data": {
      "text/html": [
       "<div>\n",
       "<style scoped>\n",
       "    .dataframe tbody tr th:only-of-type {\n",
       "        vertical-align: middle;\n",
       "    }\n",
       "\n",
       "    .dataframe tbody tr th {\n",
       "        vertical-align: top;\n",
       "    }\n",
       "\n",
       "    .dataframe thead th {\n",
       "        text-align: right;\n",
       "    }\n",
       "</style>\n",
       "<table border=\"1\" class=\"dataframe\">\n",
       "  <thead>\n",
       "    <tr style=\"text-align: right;\">\n",
       "      <th></th>\n",
       "      <th>tweet_id</th>\n",
       "      <th>jpg_url</th>\n",
       "      <th>img_num</th>\n",
       "      <th>p1</th>\n",
       "      <th>p1_conf</th>\n",
       "      <th>p1_dog</th>\n",
       "      <th>p2</th>\n",
       "      <th>p2_conf</th>\n",
       "      <th>p2_dog</th>\n",
       "      <th>p3</th>\n",
       "      <th>p3_conf</th>\n",
       "      <th>p3_dog</th>\n",
       "    </tr>\n",
       "  </thead>\n",
       "  <tbody>\n",
       "  </tbody>\n",
       "</table>\n",
       "</div>"
      ],
      "text/plain": [
       "Empty DataFrame\n",
       "Columns: [tweet_id, jpg_url, img_num, p1, p1_conf, p1_dog, p2, p2_conf, p2_dog, p3, p3_conf, p3_dog]\n",
       "Index: []"
      ]
     },
     "execution_count": 121,
     "metadata": {},
     "output_type": "execute_result"
    }
   ],
   "source": [
    "# The dataframe doesn't have duplicate values\n",
    "image_prediction[image_prediction.duplicated()]"
   ]
  },
  {
   "cell_type": "markdown",
   "id": "cc4468e9",
   "metadata": {},
   "source": [
    "#### Assessing the Tweeter API dataframe Programmatically\n",
    "Looking at the summary of the api_data DataFrame returned by the .info()method you can see that all the columns (in_reply_to_...,) and some others have null values."
   ]
  },
  {
   "cell_type": "markdown",
   "id": "d434bc2c",
   "metadata": {},
   "source": [
    "### Define\n",
    "- Only original tweets will be accessed and cleaned (no retweets)\n",
    " - Drop all columns containing retweets and replies in the each dataframe"
   ]
  },
  {
   "cell_type": "code",
   "execution_count": 122,
   "id": "c64dd9e2",
   "metadata": {
    "scrolled": true
   },
   "outputs": [
    {
     "data": {
      "text/plain": [
       "Index(['created_at', 'id', 'id_str', 'full_text', 'truncated',\n",
       "       'display_text_range', 'entities', 'extended_entities', 'source',\n",
       "       'in_reply_to_status_id', 'in_reply_to_status_id_str',\n",
       "       'in_reply_to_user_id', 'in_reply_to_user_id_str',\n",
       "       'in_reply_to_screen_name', 'user', 'geo', 'coordinates', 'place',\n",
       "       'contributors', 'is_quote_status', 'retweet_count', 'favorite_count',\n",
       "       'favorited', 'retweeted', 'possibly_sensitive',\n",
       "       'possibly_sensitive_appealable', 'lang', 'retweeted_status',\n",
       "       'quoted_status_id', 'quoted_status_id_str', 'quoted_status'],\n",
       "      dtype='object')"
      ]
     },
     "execution_count": 122,
     "metadata": {},
     "output_type": "execute_result"
    }
   ],
   "source": [
    "api_data.columns"
   ]
  },
  {
   "cell_type": "markdown",
   "id": "c59666a4",
   "metadata": {},
   "source": [
    "#### Code"
   ]
  },
  {
   "cell_type": "code",
   "execution_count": 123,
   "id": "e525390f",
   "metadata": {},
   "outputs": [],
   "source": [
    "api_data = api_data.drop([\"in_reply_to_status_id\", \"in_reply_to_status_id_str\", \"in_reply_to_user_id\", \"in_reply_to_user_id_str\",\n",
    "                         \"in_reply_to_screen_name\", \"retweeted\", \"retweeted_status\"], axis=1)"
   ]
  },
  {
   "cell_type": "code",
   "execution_count": 124,
   "id": "4c4c1307",
   "metadata": {},
   "outputs": [
    {
     "data": {
      "text/html": [
       "<div>\n",
       "<style scoped>\n",
       "    .dataframe tbody tr th:only-of-type {\n",
       "        vertical-align: middle;\n",
       "    }\n",
       "\n",
       "    .dataframe tbody tr th {\n",
       "        vertical-align: top;\n",
       "    }\n",
       "\n",
       "    .dataframe thead th {\n",
       "        text-align: right;\n",
       "    }\n",
       "</style>\n",
       "<table border=\"1\" class=\"dataframe\">\n",
       "  <thead>\n",
       "    <tr style=\"text-align: right;\">\n",
       "      <th></th>\n",
       "      <th>created_at</th>\n",
       "      <th>id</th>\n",
       "      <th>id_str</th>\n",
       "      <th>full_text</th>\n",
       "      <th>truncated</th>\n",
       "      <th>display_text_range</th>\n",
       "      <th>entities</th>\n",
       "      <th>extended_entities</th>\n",
       "      <th>source</th>\n",
       "      <th>user</th>\n",
       "      <th>geo</th>\n",
       "      <th>coordinates</th>\n",
       "      <th>place</th>\n",
       "      <th>contributors</th>\n",
       "      <th>is_quote_status</th>\n",
       "      <th>retweet_count</th>\n",
       "      <th>favorite_count</th>\n",
       "      <th>favorited</th>\n",
       "      <th>possibly_sensitive</th>\n",
       "      <th>possibly_sensitive_appealable</th>\n",
       "      <th>lang</th>\n",
       "      <th>quoted_status_id</th>\n",
       "      <th>quoted_status_id_str</th>\n",
       "      <th>quoted_status</th>\n",
       "    </tr>\n",
       "  </thead>\n",
       "  <tbody>\n",
       "    <tr>\n",
       "      <th>0</th>\n",
       "      <td>Tue Aug 01 16:23:56 +0000 2017</td>\n",
       "      <td>892420643555336193</td>\n",
       "      <td>892420643555336193</td>\n",
       "      <td>This is Phineas. He's a mystical boy. Only eve...</td>\n",
       "      <td>False</td>\n",
       "      <td>[0, 85]</td>\n",
       "      <td>{'hashtags': [], 'symbols': [], 'user_mentions...</td>\n",
       "      <td>{'media': [{'id': 892420639486877696, 'id_str'...</td>\n",
       "      <td>&lt;a href=\"http://twitter.com/download/iphone\" r...</td>\n",
       "      <td>{'id': 4196983835, 'id_str': '4196983835', 'na...</td>\n",
       "      <td>None</td>\n",
       "      <td>None</td>\n",
       "      <td>None</td>\n",
       "      <td>None</td>\n",
       "      <td>False</td>\n",
       "      <td>8853</td>\n",
       "      <td>39467</td>\n",
       "      <td>False</td>\n",
       "      <td>False</td>\n",
       "      <td>False</td>\n",
       "      <td>en</td>\n",
       "      <td>NaN</td>\n",
       "      <td>NaN</td>\n",
       "      <td>NaN</td>\n",
       "    </tr>\n",
       "    <tr>\n",
       "      <th>1</th>\n",
       "      <td>Tue Aug 01 00:17:27 +0000 2017</td>\n",
       "      <td>892177421306343426</td>\n",
       "      <td>892177421306343426</td>\n",
       "      <td>This is Tilly. She's just checking pup on you....</td>\n",
       "      <td>False</td>\n",
       "      <td>[0, 138]</td>\n",
       "      <td>{'hashtags': [], 'symbols': [], 'user_mentions...</td>\n",
       "      <td>{'media': [{'id': 892177413194625024, 'id_str'...</td>\n",
       "      <td>&lt;a href=\"http://twitter.com/download/iphone\" r...</td>\n",
       "      <td>{'id': 4196983835, 'id_str': '4196983835', 'na...</td>\n",
       "      <td>None</td>\n",
       "      <td>None</td>\n",
       "      <td>None</td>\n",
       "      <td>None</td>\n",
       "      <td>False</td>\n",
       "      <td>6514</td>\n",
       "      <td>33819</td>\n",
       "      <td>False</td>\n",
       "      <td>False</td>\n",
       "      <td>False</td>\n",
       "      <td>en</td>\n",
       "      <td>NaN</td>\n",
       "      <td>NaN</td>\n",
       "      <td>NaN</td>\n",
       "    </tr>\n",
       "    <tr>\n",
       "      <th>2</th>\n",
       "      <td>Mon Jul 31 00:18:03 +0000 2017</td>\n",
       "      <td>891815181378084864</td>\n",
       "      <td>891815181378084864</td>\n",
       "      <td>This is Archie. He is a rare Norwegian Pouncin...</td>\n",
       "      <td>False</td>\n",
       "      <td>[0, 121]</td>\n",
       "      <td>{'hashtags': [], 'symbols': [], 'user_mentions...</td>\n",
       "      <td>{'media': [{'id': 891815175371796480, 'id_str'...</td>\n",
       "      <td>&lt;a href=\"http://twitter.com/download/iphone\" r...</td>\n",
       "      <td>{'id': 4196983835, 'id_str': '4196983835', 'na...</td>\n",
       "      <td>None</td>\n",
       "      <td>None</td>\n",
       "      <td>None</td>\n",
       "      <td>None</td>\n",
       "      <td>False</td>\n",
       "      <td>4328</td>\n",
       "      <td>25461</td>\n",
       "      <td>False</td>\n",
       "      <td>False</td>\n",
       "      <td>False</td>\n",
       "      <td>en</td>\n",
       "      <td>NaN</td>\n",
       "      <td>NaN</td>\n",
       "      <td>NaN</td>\n",
       "    </tr>\n",
       "  </tbody>\n",
       "</table>\n",
       "</div>"
      ],
      "text/plain": [
       "                       created_at                  id              id_str  \\\n",
       "0  Tue Aug 01 16:23:56 +0000 2017  892420643555336193  892420643555336193   \n",
       "1  Tue Aug 01 00:17:27 +0000 2017  892177421306343426  892177421306343426   \n",
       "2  Mon Jul 31 00:18:03 +0000 2017  891815181378084864  891815181378084864   \n",
       "\n",
       "                                           full_text  truncated  \\\n",
       "0  This is Phineas. He's a mystical boy. Only eve...      False   \n",
       "1  This is Tilly. She's just checking pup on you....      False   \n",
       "2  This is Archie. He is a rare Norwegian Pouncin...      False   \n",
       "\n",
       "  display_text_range                                           entities  \\\n",
       "0            [0, 85]  {'hashtags': [], 'symbols': [], 'user_mentions...   \n",
       "1           [0, 138]  {'hashtags': [], 'symbols': [], 'user_mentions...   \n",
       "2           [0, 121]  {'hashtags': [], 'symbols': [], 'user_mentions...   \n",
       "\n",
       "                                   extended_entities  \\\n",
       "0  {'media': [{'id': 892420639486877696, 'id_str'...   \n",
       "1  {'media': [{'id': 892177413194625024, 'id_str'...   \n",
       "2  {'media': [{'id': 891815175371796480, 'id_str'...   \n",
       "\n",
       "                                              source  \\\n",
       "0  <a href=\"http://twitter.com/download/iphone\" r...   \n",
       "1  <a href=\"http://twitter.com/download/iphone\" r...   \n",
       "2  <a href=\"http://twitter.com/download/iphone\" r...   \n",
       "\n",
       "                                                user   geo coordinates place  \\\n",
       "0  {'id': 4196983835, 'id_str': '4196983835', 'na...  None        None  None   \n",
       "1  {'id': 4196983835, 'id_str': '4196983835', 'na...  None        None  None   \n",
       "2  {'id': 4196983835, 'id_str': '4196983835', 'na...  None        None  None   \n",
       "\n",
       "  contributors  is_quote_status  retweet_count  favorite_count  favorited  \\\n",
       "0         None            False           8853           39467      False   \n",
       "1         None            False           6514           33819      False   \n",
       "2         None            False           4328           25461      False   \n",
       "\n",
       "  possibly_sensitive possibly_sensitive_appealable lang  quoted_status_id  \\\n",
       "0              False                         False   en               NaN   \n",
       "1              False                         False   en               NaN   \n",
       "2              False                         False   en               NaN   \n",
       "\n",
       "  quoted_status_id_str quoted_status  \n",
       "0                  NaN           NaN  \n",
       "1                  NaN           NaN  \n",
       "2                  NaN           NaN  "
      ]
     },
     "execution_count": 124,
     "metadata": {},
     "output_type": "execute_result"
    }
   ],
   "source": [
    "# Checking the through the first three rows\n",
    "pd.set_option(\"display.max_column\", 1000)\n",
    "api_data.head(3)"
   ]
  },
  {
   "cell_type": "markdown",
   "id": "a3ba40ce",
   "metadata": {},
   "source": [
    "#### Test"
   ]
  },
  {
   "cell_type": "code",
   "execution_count": 125,
   "id": "7701c404",
   "metadata": {},
   "outputs": [
    {
     "name": "stdout",
     "output_type": "stream",
     "text": [
      "<class 'pandas.core.frame.DataFrame'>\n",
      "RangeIndex: 2354 entries, 0 to 2353\n",
      "Data columns (total 24 columns):\n",
      " #   Column                         Non-Null Count  Dtype  \n",
      "---  ------                         --------------  -----  \n",
      " 0   created_at                     2354 non-null   object \n",
      " 1   id                             2354 non-null   int64  \n",
      " 2   id_str                         2354 non-null   object \n",
      " 3   full_text                      2354 non-null   object \n",
      " 4   truncated                      2354 non-null   bool   \n",
      " 5   display_text_range             2354 non-null   object \n",
      " 6   entities                       2354 non-null   object \n",
      " 7   extended_entities              2073 non-null   object \n",
      " 8   source                         2354 non-null   object \n",
      " 9   user                           2354 non-null   object \n",
      " 10  geo                            0 non-null      object \n",
      " 11  coordinates                    0 non-null      object \n",
      " 12  place                          1 non-null      object \n",
      " 13  contributors                   0 non-null      object \n",
      " 14  is_quote_status                2354 non-null   bool   \n",
      " 15  retweet_count                  2354 non-null   int64  \n",
      " 16  favorite_count                 2354 non-null   int64  \n",
      " 17  favorited                      2354 non-null   bool   \n",
      " 18  possibly_sensitive             2211 non-null   object \n",
      " 19  possibly_sensitive_appealable  2211 non-null   object \n",
      " 20  lang                           2354 non-null   object \n",
      " 21  quoted_status_id               29 non-null     float64\n",
      " 22  quoted_status_id_str           29 non-null     object \n",
      " 23  quoted_status                  28 non-null     object \n",
      "dtypes: bool(3), float64(1), int64(3), object(17)\n",
      "memory usage: 393.2+ KB\n"
     ]
    }
   ],
   "source": [
    "# Checking that the data types are correct\n",
    "api_data.info()"
   ]
  },
  {
   "cell_type": "code",
   "execution_count": 126,
   "id": "f16d0c3a",
   "metadata": {},
   "outputs": [
    {
     "data": {
      "text/plain": [
       "created_at                          0\n",
       "id                                  0\n",
       "id_str                              0\n",
       "full_text                           0\n",
       "truncated                           0\n",
       "display_text_range                  0\n",
       "entities                            0\n",
       "extended_entities                 281\n",
       "source                              0\n",
       "user                                0\n",
       "geo                              2354\n",
       "coordinates                      2354\n",
       "place                            2353\n",
       "contributors                     2354\n",
       "is_quote_status                     0\n",
       "retweet_count                       0\n",
       "favorite_count                      0\n",
       "favorited                           0\n",
       "possibly_sensitive                143\n",
       "possibly_sensitive_appealable     143\n",
       "lang                                0\n",
       "quoted_status_id                 2325\n",
       "quoted_status_id_str             2325\n",
       "quoted_status                    2326\n",
       "dtype: int64"
      ]
     },
     "execution_count": 126,
     "metadata": {},
     "output_type": "execute_result"
    }
   ],
   "source": [
    "# sum of the null values in the columns\n",
    "api_data.isna().sum()"
   ]
  },
  {
   "cell_type": "code",
   "execution_count": 127,
   "id": "cd6048f6",
   "metadata": {},
   "outputs": [
    {
     "data": {
      "text/html": [
       "<div>\n",
       "<style scoped>\n",
       "    .dataframe tbody tr th:only-of-type {\n",
       "        vertical-align: middle;\n",
       "    }\n",
       "\n",
       "    .dataframe tbody tr th {\n",
       "        vertical-align: top;\n",
       "    }\n",
       "\n",
       "    .dataframe thead th {\n",
       "        text-align: right;\n",
       "    }\n",
       "</style>\n",
       "<table border=\"1\" class=\"dataframe\">\n",
       "  <thead>\n",
       "    <tr style=\"text-align: right;\">\n",
       "      <th></th>\n",
       "      <th>id</th>\n",
       "      <th>retweet_count</th>\n",
       "      <th>favorite_count</th>\n",
       "      <th>quoted_status_id</th>\n",
       "    </tr>\n",
       "  </thead>\n",
       "  <tbody>\n",
       "    <tr>\n",
       "      <th>count</th>\n",
       "      <td>2.354000e+03</td>\n",
       "      <td>2354.000000</td>\n",
       "      <td>2354.000000</td>\n",
       "      <td>2.900000e+01</td>\n",
       "    </tr>\n",
       "    <tr>\n",
       "      <th>mean</th>\n",
       "      <td>7.426978e+17</td>\n",
       "      <td>3164.797366</td>\n",
       "      <td>8080.968564</td>\n",
       "      <td>8.162686e+17</td>\n",
       "    </tr>\n",
       "    <tr>\n",
       "      <th>std</th>\n",
       "      <td>6.852812e+16</td>\n",
       "      <td>5284.770364</td>\n",
       "      <td>11814.771334</td>\n",
       "      <td>6.164161e+16</td>\n",
       "    </tr>\n",
       "    <tr>\n",
       "      <th>min</th>\n",
       "      <td>6.660209e+17</td>\n",
       "      <td>0.000000</td>\n",
       "      <td>0.000000</td>\n",
       "      <td>6.721083e+17</td>\n",
       "    </tr>\n",
       "    <tr>\n",
       "      <th>25%</th>\n",
       "      <td>6.783975e+17</td>\n",
       "      <td>624.500000</td>\n",
       "      <td>1415.000000</td>\n",
       "      <td>7.888183e+17</td>\n",
       "    </tr>\n",
       "    <tr>\n",
       "      <th>50%</th>\n",
       "      <td>7.194596e+17</td>\n",
       "      <td>1473.500000</td>\n",
       "      <td>3603.500000</td>\n",
       "      <td>8.340867e+17</td>\n",
       "    </tr>\n",
       "    <tr>\n",
       "      <th>75%</th>\n",
       "      <td>7.993058e+17</td>\n",
       "      <td>3652.000000</td>\n",
       "      <td>10122.250000</td>\n",
       "      <td>8.664587e+17</td>\n",
       "    </tr>\n",
       "    <tr>\n",
       "      <th>max</th>\n",
       "      <td>8.924206e+17</td>\n",
       "      <td>79515.000000</td>\n",
       "      <td>132810.000000</td>\n",
       "      <td>8.860534e+17</td>\n",
       "    </tr>\n",
       "  </tbody>\n",
       "</table>\n",
       "</div>"
      ],
      "text/plain": [
       "                 id  retweet_count  favorite_count  quoted_status_id\n",
       "count  2.354000e+03    2354.000000     2354.000000      2.900000e+01\n",
       "mean   7.426978e+17    3164.797366     8080.968564      8.162686e+17\n",
       "std    6.852812e+16    5284.770364    11814.771334      6.164161e+16\n",
       "min    6.660209e+17       0.000000        0.000000      6.721083e+17\n",
       "25%    6.783975e+17     624.500000     1415.000000      7.888183e+17\n",
       "50%    7.194596e+17    1473.500000     3603.500000      8.340867e+17\n",
       "75%    7.993058e+17    3652.000000    10122.250000      8.664587e+17\n",
       "max    8.924206e+17   79515.000000   132810.000000      8.860534e+17"
      ]
     },
     "execution_count": 127,
     "metadata": {},
     "output_type": "execute_result"
    }
   ],
   "source": [
    "# Checking the statistical distribution of the dataset\n",
    "api_data.describe()"
   ]
  },
  {
   "cell_type": "code",
   "execution_count": 128,
   "id": "c2ebe7f7",
   "metadata": {},
   "outputs": [
    {
     "data": {
      "text/plain": [
       "(2354, 24)"
      ]
     },
     "execution_count": 128,
     "metadata": {},
     "output_type": "execute_result"
    }
   ],
   "source": [
    "# Checking the shape of the dataset\n",
    "api_data.shape"
   ]
  },
  {
   "cell_type": "markdown",
   "id": "0b786502",
   "metadata": {},
   "source": [
    "Two more quality issue detected during programmatic assessment\n",
    " - The data type of timestamp column in the twitter archive DataFrame was object instead of datetime data type\n",
    " - The values in (display_text_range) column of api_data Dataframe is enclosed by square brackeks and has comma in between"
   ]
  },
  {
   "cell_type": "markdown",
   "id": "0f0982a1",
   "metadata": {},
   "source": [
    "#### Complete Assessment\n",
    "**Quality issues in the twitter_archive Dataframe**\n",
    "   - (1) Only original tweets will be accessed and cleaned (no retweets)\n",
    "   - (2) Empty columns(missing values) i.e columns without values\n",
    "   - (3) Duplication of values in the expanded_urls column (some rows duplicated values)\n",
    "   - (4) Inconsistency in the name column some dogs start with uppercase while some start with lowercase\n",
    "   - (5) timestamp column data type is object instead of datetime data type\n",
    "  \n",
    "\n",
    "\n",
    " **Quality issues in the image_prediction Dataframe**\n",
    "\n",
    " - (6) Inconsistency in the names in columns(p1, p2, p3) some names starts with Uppercase while some start with lowercase letters\n",
    " - (7) underscore character joining two letters together in columns(p1, p2, p3)\n",
    "\n",
    "**Quality issues in the api_data Dataframe**\n",
    " \n",
    " - (8) Empty columns (missing values) i.e columns without values\n",
    " - (9) The values in (display_text_range) column of api_data Dataframe is enclosed by square brackeks and has comma in between\n",
    " - Remove all retweets and reply columns in the dataset\n",
    "\n",
    "**Tidiness issues in the twitter_archive Dataframe**\n",
    " - (1) Dogs stage names are columns instead of rows\n",
    "\n",
    "**Tidiness issues in the api_data Dataframe**\n",
    " - (2) Repetition of values in the \"extended_entities\" column that are already present in  \"entities\" column"
   ]
  },
  {
   "cell_type": "code",
   "execution_count": null,
   "id": "7342fb21",
   "metadata": {},
   "outputs": [],
   "source": []
  },
  {
   "cell_type": "markdown",
   "id": "ab87d51c",
   "metadata": {},
   "source": [
    "## Clean"
   ]
  },
  {
   "cell_type": "code",
   "execution_count": 129,
   "id": "5d2e8c9c",
   "metadata": {},
   "outputs": [],
   "source": [
    "# creating a copy of the datasets\n",
    "twitter_archive_clean = twitter_archive.copy()\n",
    "image_prediction_clean = image_prediction.copy()\n",
    "api_data_clean = api_data.copy()"
   ]
  },
  {
   "cell_type": "markdown",
   "id": "8198ad02",
   "metadata": {},
   "source": [
    "### Cleaning Missing values first\n",
    " - Empty columns(missing values) i.e columns without values in the twitter archive dataframe\n",
    " - Empty columns (missing values) i.e columns without values in the api data dataframe\n",
    "\n",
    "#### Define\n",
    "Check the percentage of the missing values, drop columns that have more than 50% null values, fill the columns with less 50% null values with the column mean\n"
   ]
  },
  {
   "cell_type": "markdown",
   "id": "40494f64",
   "metadata": {},
   "source": [
    "#### Code\n"
   ]
  },
  {
   "cell_type": "code",
   "execution_count": 130,
   "id": "65caffe7",
   "metadata": {
    "scrolled": true
   },
   "outputs": [],
   "source": [
    "# Get sum of null values gor twitter archive dataframe\n",
    "sum_null = twitter_archive_clean.isnull().sum()\n"
   ]
  },
  {
   "cell_type": "code",
   "execution_count": 131,
   "id": "249e0681",
   "metadata": {},
   "outputs": [],
   "source": [
    "sum_null2 = api_data_clean.isnull().sum()\n"
   ]
  },
  {
   "cell_type": "code",
   "execution_count": 132,
   "id": "693f74e0",
   "metadata": {
    "scrolled": false
   },
   "outputs": [
    {
     "data": {
      "text/plain": [
       "tweet_id              0.000000\n",
       "timestamp             0.000000\n",
       "source                0.000000\n",
       "text                  0.000000\n",
       "expanded_urls         2.504244\n",
       "rating_numerator      0.000000\n",
       "rating_denominator    0.000000\n",
       "name                  0.000000\n",
       "doggo                 0.000000\n",
       "floofer               0.000000\n",
       "pupper                0.000000\n",
       "puppo                 0.000000\n",
       "dtype: float64"
      ]
     },
     "execution_count": 132,
     "metadata": {},
     "output_type": "execute_result"
    }
   ],
   "source": [
    "# Divide by total number of values and multiply by 100 to get percentage of missing values for twitter archive dataframe\n",
    "null_percentage = sum_null / len(twitter_archive_clean) * 100\n",
    "null_percentage"
   ]
  },
  {
   "cell_type": "code",
   "execution_count": 133,
   "id": "14c5e947",
   "metadata": {
    "scrolled": true
   },
   "outputs": [
    {
     "data": {
      "text/plain": [
       "created_at                         0.000000\n",
       "id                                 0.000000\n",
       "id_str                             0.000000\n",
       "full_text                          0.000000\n",
       "truncated                          0.000000\n",
       "display_text_range                 0.000000\n",
       "entities                           0.000000\n",
       "extended_entities                 11.937128\n",
       "source                             0.000000\n",
       "user                               0.000000\n",
       "geo                              100.000000\n",
       "coordinates                      100.000000\n",
       "place                             99.957519\n",
       "contributors                     100.000000\n",
       "is_quote_status                    0.000000\n",
       "retweet_count                      0.000000\n",
       "favorite_count                     0.000000\n",
       "favorited                          0.000000\n",
       "possibly_sensitive                 6.074766\n",
       "possibly_sensitive_appealable      6.074766\n",
       "lang                               0.000000\n",
       "quoted_status_id                  98.768054\n",
       "quoted_status_id_str              98.768054\n",
       "quoted_status                     98.810535\n",
       "dtype: float64"
      ]
     },
     "execution_count": 133,
     "metadata": {},
     "output_type": "execute_result"
    }
   ],
   "source": [
    "# # Divide by total number of values and multiply by 100 to get percentage of missing values for api_data dataframe\n",
    "null_percentage2 = sum_null2 / len(api_data_clean) * 100\n",
    "null_percentage2"
   ]
  },
  {
   "cell_type": "code",
   "execution_count": 134,
   "id": "2e16469b",
   "metadata": {},
   "outputs": [],
   "source": [
    "# Create a list of columns with atleast 50% null values for twitter archive dataframe\n",
    "atleast_50_percent_null = []\n",
    "for index, value in null_percentage.items():\n",
    "    if value >= 50:\n",
    "        atleast_50_percent_null.append(index)"
   ]
  },
  {
   "cell_type": "code",
   "execution_count": 135,
   "id": "ce30346f",
   "metadata": {},
   "outputs": [],
   "source": [
    "# Create a list of columns with atleast 50% null values for api_data dataframe\n",
    "atleast_50_percent_null2 = []\n",
    "for index, value in null_percentage2.items():\n",
    "    if value >= 50:\n",
    "        atleast_50_percent_null2.append(index)"
   ]
  },
  {
   "cell_type": "code",
   "execution_count": 136,
   "id": "1b424177",
   "metadata": {},
   "outputs": [],
   "source": [
    "# drop columns with atleast 70% null values for twitter archive dataframe\n",
    "twitter_archive_clean.drop(columns=(atleast_50_percent_null), axis=1, inplace=True)"
   ]
  },
  {
   "cell_type": "code",
   "execution_count": 137,
   "id": "4327f985",
   "metadata": {},
   "outputs": [],
   "source": [
    "# drop columns with atleast 70% null values for api_data dataframe\n",
    "api_data_clean.drop(columns=(atleast_50_percent_null2), axis=1, inplace=True)"
   ]
  },
  {
   "cell_type": "code",
   "execution_count": 138,
   "id": "049396c9",
   "metadata": {},
   "outputs": [],
   "source": [
    "# for those with less than 50% rows nulls, replace with the mean of the column \n",
    "\n",
    "def myfillna(series):\n",
    "    \"\"\"This function checks the datatype of the column and fill the null values with its mean for integer and float\n",
    "    datatypes and NOT available for string datatypes\"\"\"\n",
    "    if series.dtype is np.dtype(int):\n",
    "        return series.fillna(series.mean())\n",
    "    if series.dtype is np.dtype(float):\n",
    "        return series.fillna(series.mean())\n",
    "    if series.dtype is np.dtype(\"O\"):\n",
    "        return series.fillna(\"Not Available\")\n",
    "    else:\n",
    "        return series"
   ]
  },
  {
   "cell_type": "code",
   "execution_count": 139,
   "id": "154dd386",
   "metadata": {},
   "outputs": [],
   "source": [
    "# Applying myfillna function\n",
    "twitter_archive_clean = twitter_archive_clean.apply(myfillna)"
   ]
  },
  {
   "cell_type": "code",
   "execution_count": 140,
   "id": "ecc78eff",
   "metadata": {},
   "outputs": [],
   "source": [
    "# Applying myfillna function to api_data_clean\n",
    "api_data_clean = api_data_clean.apply(myfillna)"
   ]
  },
  {
   "cell_type": "markdown",
   "id": "869803ad",
   "metadata": {},
   "source": [
    "### Test"
   ]
  },
  {
   "cell_type": "code",
   "execution_count": 141,
   "id": "d5aa56c7",
   "metadata": {
    "scrolled": true
   },
   "outputs": [
    {
     "data": {
      "text/plain": [
       "tweet_id              0\n",
       "timestamp             0\n",
       "source                0\n",
       "text                  0\n",
       "expanded_urls         0\n",
       "rating_numerator      0\n",
       "rating_denominator    0\n",
       "name                  0\n",
       "doggo                 0\n",
       "floofer               0\n",
       "pupper                0\n",
       "puppo                 0\n",
       "dtype: int64"
      ]
     },
     "execution_count": 141,
     "metadata": {},
     "output_type": "execute_result"
    }
   ],
   "source": [
    "twitter_archive_clean.isna().sum()"
   ]
  },
  {
   "cell_type": "code",
   "execution_count": 142,
   "id": "c9d1b8e9",
   "metadata": {
    "scrolled": false
   },
   "outputs": [
    {
     "data": {
      "text/html": [
       "<div>\n",
       "<style scoped>\n",
       "    .dataframe tbody tr th:only-of-type {\n",
       "        vertical-align: middle;\n",
       "    }\n",
       "\n",
       "    .dataframe tbody tr th {\n",
       "        vertical-align: top;\n",
       "    }\n",
       "\n",
       "    .dataframe thead th {\n",
       "        text-align: right;\n",
       "    }\n",
       "</style>\n",
       "<table border=\"1\" class=\"dataframe\">\n",
       "  <thead>\n",
       "    <tr style=\"text-align: right;\">\n",
       "      <th></th>\n",
       "      <th>tweet_id</th>\n",
       "      <th>timestamp</th>\n",
       "      <th>source</th>\n",
       "      <th>text</th>\n",
       "      <th>expanded_urls</th>\n",
       "      <th>rating_numerator</th>\n",
       "      <th>rating_denominator</th>\n",
       "      <th>name</th>\n",
       "      <th>doggo</th>\n",
       "      <th>floofer</th>\n",
       "      <th>pupper</th>\n",
       "      <th>puppo</th>\n",
       "    </tr>\n",
       "  </thead>\n",
       "  <tbody>\n",
       "    <tr>\n",
       "      <th>0</th>\n",
       "      <td>892420643555336193</td>\n",
       "      <td>2017-08-01 16:23:56 +0000</td>\n",
       "      <td>&lt;a href=\"http://twitter.com/download/iphone\" r...</td>\n",
       "      <td>This is Phineas. He's a mystical boy. Only eve...</td>\n",
       "      <td>https://twitter.com/dog_rates/status/892420643...</td>\n",
       "      <td>13</td>\n",
       "      <td>10</td>\n",
       "      <td>Phineas</td>\n",
       "      <td>None</td>\n",
       "      <td>None</td>\n",
       "      <td>None</td>\n",
       "      <td>None</td>\n",
       "    </tr>\n",
       "    <tr>\n",
       "      <th>1</th>\n",
       "      <td>892177421306343426</td>\n",
       "      <td>2017-08-01 00:17:27 +0000</td>\n",
       "      <td>&lt;a href=\"http://twitter.com/download/iphone\" r...</td>\n",
       "      <td>This is Tilly. She's just checking pup on you....</td>\n",
       "      <td>https://twitter.com/dog_rates/status/892177421...</td>\n",
       "      <td>13</td>\n",
       "      <td>10</td>\n",
       "      <td>Tilly</td>\n",
       "      <td>None</td>\n",
       "      <td>None</td>\n",
       "      <td>None</td>\n",
       "      <td>None</td>\n",
       "    </tr>\n",
       "    <tr>\n",
       "      <th>2</th>\n",
       "      <td>891815181378084864</td>\n",
       "      <td>2017-07-31 00:18:03 +0000</td>\n",
       "      <td>&lt;a href=\"http://twitter.com/download/iphone\" r...</td>\n",
       "      <td>This is Archie. He is a rare Norwegian Pouncin...</td>\n",
       "      <td>https://twitter.com/dog_rates/status/891815181...</td>\n",
       "      <td>12</td>\n",
       "      <td>10</td>\n",
       "      <td>Archie</td>\n",
       "      <td>None</td>\n",
       "      <td>None</td>\n",
       "      <td>None</td>\n",
       "      <td>None</td>\n",
       "    </tr>\n",
       "    <tr>\n",
       "      <th>3</th>\n",
       "      <td>891689557279858688</td>\n",
       "      <td>2017-07-30 15:58:51 +0000</td>\n",
       "      <td>&lt;a href=\"http://twitter.com/download/iphone\" r...</td>\n",
       "      <td>This is Darla. She commenced a snooze mid meal...</td>\n",
       "      <td>https://twitter.com/dog_rates/status/891689557...</td>\n",
       "      <td>13</td>\n",
       "      <td>10</td>\n",
       "      <td>Darla</td>\n",
       "      <td>None</td>\n",
       "      <td>None</td>\n",
       "      <td>None</td>\n",
       "      <td>None</td>\n",
       "    </tr>\n",
       "    <tr>\n",
       "      <th>4</th>\n",
       "      <td>891327558926688256</td>\n",
       "      <td>2017-07-29 16:00:24 +0000</td>\n",
       "      <td>&lt;a href=\"http://twitter.com/download/iphone\" r...</td>\n",
       "      <td>This is Franklin. He would like you to stop ca...</td>\n",
       "      <td>https://twitter.com/dog_rates/status/891327558...</td>\n",
       "      <td>12</td>\n",
       "      <td>10</td>\n",
       "      <td>Franklin</td>\n",
       "      <td>None</td>\n",
       "      <td>None</td>\n",
       "      <td>None</td>\n",
       "      <td>None</td>\n",
       "    </tr>\n",
       "  </tbody>\n",
       "</table>\n",
       "</div>"
      ],
      "text/plain": [
       "             tweet_id                  timestamp  \\\n",
       "0  892420643555336193  2017-08-01 16:23:56 +0000   \n",
       "1  892177421306343426  2017-08-01 00:17:27 +0000   \n",
       "2  891815181378084864  2017-07-31 00:18:03 +0000   \n",
       "3  891689557279858688  2017-07-30 15:58:51 +0000   \n",
       "4  891327558926688256  2017-07-29 16:00:24 +0000   \n",
       "\n",
       "                                              source  \\\n",
       "0  <a href=\"http://twitter.com/download/iphone\" r...   \n",
       "1  <a href=\"http://twitter.com/download/iphone\" r...   \n",
       "2  <a href=\"http://twitter.com/download/iphone\" r...   \n",
       "3  <a href=\"http://twitter.com/download/iphone\" r...   \n",
       "4  <a href=\"http://twitter.com/download/iphone\" r...   \n",
       "\n",
       "                                                text  \\\n",
       "0  This is Phineas. He's a mystical boy. Only eve...   \n",
       "1  This is Tilly. She's just checking pup on you....   \n",
       "2  This is Archie. He is a rare Norwegian Pouncin...   \n",
       "3  This is Darla. She commenced a snooze mid meal...   \n",
       "4  This is Franklin. He would like you to stop ca...   \n",
       "\n",
       "                                       expanded_urls  rating_numerator  \\\n",
       "0  https://twitter.com/dog_rates/status/892420643...                13   \n",
       "1  https://twitter.com/dog_rates/status/892177421...                13   \n",
       "2  https://twitter.com/dog_rates/status/891815181...                12   \n",
       "3  https://twitter.com/dog_rates/status/891689557...                13   \n",
       "4  https://twitter.com/dog_rates/status/891327558...                12   \n",
       "\n",
       "   rating_denominator      name doggo floofer pupper puppo  \n",
       "0                  10   Phineas  None    None   None  None  \n",
       "1                  10     Tilly  None    None   None  None  \n",
       "2                  10    Archie  None    None   None  None  \n",
       "3                  10     Darla  None    None   None  None  \n",
       "4                  10  Franklin  None    None   None  None  "
      ]
     },
     "execution_count": 142,
     "metadata": {},
     "output_type": "execute_result"
    }
   ],
   "source": [
    "twitter_archive_clean.head()"
   ]
  },
  {
   "cell_type": "code",
   "execution_count": 143,
   "id": "4b233362",
   "metadata": {},
   "outputs": [
    {
     "data": {
      "text/plain": [
       "created_at                       0\n",
       "id                               0\n",
       "id_str                           0\n",
       "full_text                        0\n",
       "truncated                        0\n",
       "display_text_range               0\n",
       "entities                         0\n",
       "extended_entities                0\n",
       "source                           0\n",
       "user                             0\n",
       "is_quote_status                  0\n",
       "retweet_count                    0\n",
       "favorite_count                   0\n",
       "favorited                        0\n",
       "possibly_sensitive               0\n",
       "possibly_sensitive_appealable    0\n",
       "lang                             0\n",
       "dtype: int64"
      ]
     },
     "execution_count": 143,
     "metadata": {},
     "output_type": "execute_result"
    }
   ],
   "source": [
    "api_data_clean.isna().sum()"
   ]
  },
  {
   "cell_type": "code",
   "execution_count": 144,
   "id": "754ce731",
   "metadata": {},
   "outputs": [
    {
     "data": {
      "text/html": [
       "<div>\n",
       "<style scoped>\n",
       "    .dataframe tbody tr th:only-of-type {\n",
       "        vertical-align: middle;\n",
       "    }\n",
       "\n",
       "    .dataframe tbody tr th {\n",
       "        vertical-align: top;\n",
       "    }\n",
       "\n",
       "    .dataframe thead th {\n",
       "        text-align: right;\n",
       "    }\n",
       "</style>\n",
       "<table border=\"1\" class=\"dataframe\">\n",
       "  <thead>\n",
       "    <tr style=\"text-align: right;\">\n",
       "      <th></th>\n",
       "      <th>created_at</th>\n",
       "      <th>id</th>\n",
       "      <th>id_str</th>\n",
       "      <th>full_text</th>\n",
       "      <th>truncated</th>\n",
       "      <th>display_text_range</th>\n",
       "      <th>entities</th>\n",
       "      <th>extended_entities</th>\n",
       "      <th>source</th>\n",
       "      <th>user</th>\n",
       "      <th>is_quote_status</th>\n",
       "      <th>retweet_count</th>\n",
       "      <th>favorite_count</th>\n",
       "      <th>favorited</th>\n",
       "      <th>possibly_sensitive</th>\n",
       "      <th>possibly_sensitive_appealable</th>\n",
       "      <th>lang</th>\n",
       "    </tr>\n",
       "  </thead>\n",
       "  <tbody>\n",
       "    <tr>\n",
       "      <th>0</th>\n",
       "      <td>Tue Aug 01 16:23:56 +0000 2017</td>\n",
       "      <td>892420643555336193</td>\n",
       "      <td>892420643555336193</td>\n",
       "      <td>This is Phineas. He's a mystical boy. Only eve...</td>\n",
       "      <td>False</td>\n",
       "      <td>[0, 85]</td>\n",
       "      <td>{'hashtags': [], 'symbols': [], 'user_mentions...</td>\n",
       "      <td>{'media': [{'id': 892420639486877696, 'id_str'...</td>\n",
       "      <td>&lt;a href=\"http://twitter.com/download/iphone\" r...</td>\n",
       "      <td>{'id': 4196983835, 'id_str': '4196983835', 'na...</td>\n",
       "      <td>False</td>\n",
       "      <td>8853</td>\n",
       "      <td>39467</td>\n",
       "      <td>False</td>\n",
       "      <td>False</td>\n",
       "      <td>False</td>\n",
       "      <td>en</td>\n",
       "    </tr>\n",
       "    <tr>\n",
       "      <th>1</th>\n",
       "      <td>Tue Aug 01 00:17:27 +0000 2017</td>\n",
       "      <td>892177421306343426</td>\n",
       "      <td>892177421306343426</td>\n",
       "      <td>This is Tilly. She's just checking pup on you....</td>\n",
       "      <td>False</td>\n",
       "      <td>[0, 138]</td>\n",
       "      <td>{'hashtags': [], 'symbols': [], 'user_mentions...</td>\n",
       "      <td>{'media': [{'id': 892177413194625024, 'id_str'...</td>\n",
       "      <td>&lt;a href=\"http://twitter.com/download/iphone\" r...</td>\n",
       "      <td>{'id': 4196983835, 'id_str': '4196983835', 'na...</td>\n",
       "      <td>False</td>\n",
       "      <td>6514</td>\n",
       "      <td>33819</td>\n",
       "      <td>False</td>\n",
       "      <td>False</td>\n",
       "      <td>False</td>\n",
       "      <td>en</td>\n",
       "    </tr>\n",
       "    <tr>\n",
       "      <th>2</th>\n",
       "      <td>Mon Jul 31 00:18:03 +0000 2017</td>\n",
       "      <td>891815181378084864</td>\n",
       "      <td>891815181378084864</td>\n",
       "      <td>This is Archie. He is a rare Norwegian Pouncin...</td>\n",
       "      <td>False</td>\n",
       "      <td>[0, 121]</td>\n",
       "      <td>{'hashtags': [], 'symbols': [], 'user_mentions...</td>\n",
       "      <td>{'media': [{'id': 891815175371796480, 'id_str'...</td>\n",
       "      <td>&lt;a href=\"http://twitter.com/download/iphone\" r...</td>\n",
       "      <td>{'id': 4196983835, 'id_str': '4196983835', 'na...</td>\n",
       "      <td>False</td>\n",
       "      <td>4328</td>\n",
       "      <td>25461</td>\n",
       "      <td>False</td>\n",
       "      <td>False</td>\n",
       "      <td>False</td>\n",
       "      <td>en</td>\n",
       "    </tr>\n",
       "  </tbody>\n",
       "</table>\n",
       "</div>"
      ],
      "text/plain": [
       "                       created_at                  id              id_str  \\\n",
       "0  Tue Aug 01 16:23:56 +0000 2017  892420643555336193  892420643555336193   \n",
       "1  Tue Aug 01 00:17:27 +0000 2017  892177421306343426  892177421306343426   \n",
       "2  Mon Jul 31 00:18:03 +0000 2017  891815181378084864  891815181378084864   \n",
       "\n",
       "                                           full_text  truncated  \\\n",
       "0  This is Phineas. He's a mystical boy. Only eve...      False   \n",
       "1  This is Tilly. She's just checking pup on you....      False   \n",
       "2  This is Archie. He is a rare Norwegian Pouncin...      False   \n",
       "\n",
       "  display_text_range                                           entities  \\\n",
       "0            [0, 85]  {'hashtags': [], 'symbols': [], 'user_mentions...   \n",
       "1           [0, 138]  {'hashtags': [], 'symbols': [], 'user_mentions...   \n",
       "2           [0, 121]  {'hashtags': [], 'symbols': [], 'user_mentions...   \n",
       "\n",
       "                                   extended_entities  \\\n",
       "0  {'media': [{'id': 892420639486877696, 'id_str'...   \n",
       "1  {'media': [{'id': 892177413194625024, 'id_str'...   \n",
       "2  {'media': [{'id': 891815175371796480, 'id_str'...   \n",
       "\n",
       "                                              source  \\\n",
       "0  <a href=\"http://twitter.com/download/iphone\" r...   \n",
       "1  <a href=\"http://twitter.com/download/iphone\" r...   \n",
       "2  <a href=\"http://twitter.com/download/iphone\" r...   \n",
       "\n",
       "                                                user  is_quote_status  \\\n",
       "0  {'id': 4196983835, 'id_str': '4196983835', 'na...            False   \n",
       "1  {'id': 4196983835, 'id_str': '4196983835', 'na...            False   \n",
       "2  {'id': 4196983835, 'id_str': '4196983835', 'na...            False   \n",
       "\n",
       "   retweet_count  favorite_count  favorited possibly_sensitive  \\\n",
       "0           8853           39467      False              False   \n",
       "1           6514           33819      False              False   \n",
       "2           4328           25461      False              False   \n",
       "\n",
       "  possibly_sensitive_appealable lang  \n",
       "0                         False   en  \n",
       "1                         False   en  \n",
       "2                         False   en  "
      ]
     },
     "execution_count": 144,
     "metadata": {},
     "output_type": "execute_result"
    }
   ],
   "source": [
    "api_data_clean.head(3)"
   ]
  },
  {
   "cell_type": "markdown",
   "id": "cd57d952",
   "metadata": {},
   "source": [
    "### Tidiness \n",
    "Every column must be a variable and every row must be an observation "
   ]
  },
  {
   "cell_type": "markdown",
   "id": "7cd769b3",
   "metadata": {},
   "source": [
    "1. Dogs stage names in the twitter_archive dataframe are columns instead of rows"
   ]
  },
  {
   "cell_type": "markdown",
   "id": "dff3d5f6",
   "metadata": {},
   "source": [
    "#### Define\n",
    "Melt the four dog stage name into a dog_stage column"
   ]
  },
  {
   "cell_type": "markdown",
   "id": "d2e744b5",
   "metadata": {},
   "source": [
    "### Code"
   ]
  },
  {
   "cell_type": "code",
   "execution_count": 145,
   "id": "73f11624",
   "metadata": {},
   "outputs": [],
   "source": [
    "# # melt dog stage columns into dog_stage\n",
    "twitter_archive_clean = pd.melt(twitter_archive_clean, id_vars=[\"tweet_id\", \"timestamp\", \"source\", \"text\", \"expanded_urls\", \"rating_numerator\",\n",
    "                                        \"rating_denominator\", \"name\"], var_name=\"dog_stage\")\n",
    "\n",
    "# # Drop the value column\n",
    "twitter_archive_clean = twitter_archive_clean.drop(\"value\", axis = 1)"
   ]
  },
  {
   "cell_type": "markdown",
   "id": "b3c8b7e9",
   "metadata": {},
   "source": [
    "### Test"
   ]
  },
  {
   "cell_type": "code",
   "execution_count": 146,
   "id": "8ecd193c",
   "metadata": {},
   "outputs": [
    {
     "data": {
      "text/html": [
       "<div>\n",
       "<style scoped>\n",
       "    .dataframe tbody tr th:only-of-type {\n",
       "        vertical-align: middle;\n",
       "    }\n",
       "\n",
       "    .dataframe tbody tr th {\n",
       "        vertical-align: top;\n",
       "    }\n",
       "\n",
       "    .dataframe thead th {\n",
       "        text-align: right;\n",
       "    }\n",
       "</style>\n",
       "<table border=\"1\" class=\"dataframe\">\n",
       "  <thead>\n",
       "    <tr style=\"text-align: right;\">\n",
       "      <th></th>\n",
       "      <th>tweet_id</th>\n",
       "      <th>timestamp</th>\n",
       "      <th>source</th>\n",
       "      <th>text</th>\n",
       "      <th>expanded_urls</th>\n",
       "      <th>rating_numerator</th>\n",
       "      <th>rating_denominator</th>\n",
       "      <th>name</th>\n",
       "      <th>dog_stage</th>\n",
       "    </tr>\n",
       "  </thead>\n",
       "  <tbody>\n",
       "    <tr>\n",
       "      <th>0</th>\n",
       "      <td>892420643555336193</td>\n",
       "      <td>2017-08-01 16:23:56 +0000</td>\n",
       "      <td>&lt;a href=\"http://twitter.com/download/iphone\" r...</td>\n",
       "      <td>This is Phineas. He's a mystical boy. Only eve...</td>\n",
       "      <td>https://twitter.com/dog_rates/status/892420643...</td>\n",
       "      <td>13</td>\n",
       "      <td>10</td>\n",
       "      <td>Phineas</td>\n",
       "      <td>doggo</td>\n",
       "    </tr>\n",
       "    <tr>\n",
       "      <th>1</th>\n",
       "      <td>892177421306343426</td>\n",
       "      <td>2017-08-01 00:17:27 +0000</td>\n",
       "      <td>&lt;a href=\"http://twitter.com/download/iphone\" r...</td>\n",
       "      <td>This is Tilly. She's just checking pup on you....</td>\n",
       "      <td>https://twitter.com/dog_rates/status/892177421...</td>\n",
       "      <td>13</td>\n",
       "      <td>10</td>\n",
       "      <td>Tilly</td>\n",
       "      <td>doggo</td>\n",
       "    </tr>\n",
       "    <tr>\n",
       "      <th>2</th>\n",
       "      <td>891815181378084864</td>\n",
       "      <td>2017-07-31 00:18:03 +0000</td>\n",
       "      <td>&lt;a href=\"http://twitter.com/download/iphone\" r...</td>\n",
       "      <td>This is Archie. He is a rare Norwegian Pouncin...</td>\n",
       "      <td>https://twitter.com/dog_rates/status/891815181...</td>\n",
       "      <td>12</td>\n",
       "      <td>10</td>\n",
       "      <td>Archie</td>\n",
       "      <td>doggo</td>\n",
       "    </tr>\n",
       "    <tr>\n",
       "      <th>3</th>\n",
       "      <td>891689557279858688</td>\n",
       "      <td>2017-07-30 15:58:51 +0000</td>\n",
       "      <td>&lt;a href=\"http://twitter.com/download/iphone\" r...</td>\n",
       "      <td>This is Darla. She commenced a snooze mid meal...</td>\n",
       "      <td>https://twitter.com/dog_rates/status/891689557...</td>\n",
       "      <td>13</td>\n",
       "      <td>10</td>\n",
       "      <td>Darla</td>\n",
       "      <td>doggo</td>\n",
       "    </tr>\n",
       "    <tr>\n",
       "      <th>4</th>\n",
       "      <td>891327558926688256</td>\n",
       "      <td>2017-07-29 16:00:24 +0000</td>\n",
       "      <td>&lt;a href=\"http://twitter.com/download/iphone\" r...</td>\n",
       "      <td>This is Franklin. He would like you to stop ca...</td>\n",
       "      <td>https://twitter.com/dog_rates/status/891327558...</td>\n",
       "      <td>12</td>\n",
       "      <td>10</td>\n",
       "      <td>Franklin</td>\n",
       "      <td>doggo</td>\n",
       "    </tr>\n",
       "  </tbody>\n",
       "</table>\n",
       "</div>"
      ],
      "text/plain": [
       "             tweet_id                  timestamp  \\\n",
       "0  892420643555336193  2017-08-01 16:23:56 +0000   \n",
       "1  892177421306343426  2017-08-01 00:17:27 +0000   \n",
       "2  891815181378084864  2017-07-31 00:18:03 +0000   \n",
       "3  891689557279858688  2017-07-30 15:58:51 +0000   \n",
       "4  891327558926688256  2017-07-29 16:00:24 +0000   \n",
       "\n",
       "                                              source  \\\n",
       "0  <a href=\"http://twitter.com/download/iphone\" r...   \n",
       "1  <a href=\"http://twitter.com/download/iphone\" r...   \n",
       "2  <a href=\"http://twitter.com/download/iphone\" r...   \n",
       "3  <a href=\"http://twitter.com/download/iphone\" r...   \n",
       "4  <a href=\"http://twitter.com/download/iphone\" r...   \n",
       "\n",
       "                                                text  \\\n",
       "0  This is Phineas. He's a mystical boy. Only eve...   \n",
       "1  This is Tilly. She's just checking pup on you....   \n",
       "2  This is Archie. He is a rare Norwegian Pouncin...   \n",
       "3  This is Darla. She commenced a snooze mid meal...   \n",
       "4  This is Franklin. He would like you to stop ca...   \n",
       "\n",
       "                                       expanded_urls  rating_numerator  \\\n",
       "0  https://twitter.com/dog_rates/status/892420643...                13   \n",
       "1  https://twitter.com/dog_rates/status/892177421...                13   \n",
       "2  https://twitter.com/dog_rates/status/891815181...                12   \n",
       "3  https://twitter.com/dog_rates/status/891689557...                13   \n",
       "4  https://twitter.com/dog_rates/status/891327558...                12   \n",
       "\n",
       "   rating_denominator      name dog_stage  \n",
       "0                  10   Phineas     doggo  \n",
       "1                  10     Tilly     doggo  \n",
       "2                  10    Archie     doggo  \n",
       "3                  10     Darla     doggo  \n",
       "4                  10  Franklin     doggo  "
      ]
     },
     "execution_count": 146,
     "metadata": {},
     "output_type": "execute_result"
    }
   ],
   "source": [
    "twitter_archive_clean.head()"
   ]
  },
  {
   "cell_type": "markdown",
   "id": "be39fbc8",
   "metadata": {},
   "source": [
    "2. Tidiness issues in the api_data Dataframe\n",
    " - Repetition of values in the \"extended_entities\" column that are already present in  \"entities\" column"
   ]
  },
  {
   "cell_type": "markdown",
   "id": "1727263a",
   "metadata": {},
   "source": [
    "### Define\n",
    "Drop the extended_entities column column fron the dataframe using `pd.drop` method"
   ]
  },
  {
   "cell_type": "markdown",
   "id": "a7332346",
   "metadata": {},
   "source": [
    "### Code"
   ]
  },
  {
   "cell_type": "code",
   "execution_count": 147,
   "id": "296f8d21",
   "metadata": {},
   "outputs": [],
   "source": [
    "api_data_clean = api_data_clean.drop(\"extended_entities\", axis=1)"
   ]
  },
  {
   "cell_type": "markdown",
   "id": "bff054ec",
   "metadata": {},
   "source": [
    "### Test"
   ]
  },
  {
   "cell_type": "code",
   "execution_count": 148,
   "id": "89a1d5ff",
   "metadata": {},
   "outputs": [
    {
     "data": {
      "text/html": [
       "<div>\n",
       "<style scoped>\n",
       "    .dataframe tbody tr th:only-of-type {\n",
       "        vertical-align: middle;\n",
       "    }\n",
       "\n",
       "    .dataframe tbody tr th {\n",
       "        vertical-align: top;\n",
       "    }\n",
       "\n",
       "    .dataframe thead th {\n",
       "        text-align: right;\n",
       "    }\n",
       "</style>\n",
       "<table border=\"1\" class=\"dataframe\">\n",
       "  <thead>\n",
       "    <tr style=\"text-align: right;\">\n",
       "      <th></th>\n",
       "      <th>created_at</th>\n",
       "      <th>id</th>\n",
       "      <th>id_str</th>\n",
       "      <th>full_text</th>\n",
       "      <th>truncated</th>\n",
       "      <th>display_text_range</th>\n",
       "      <th>entities</th>\n",
       "      <th>source</th>\n",
       "      <th>user</th>\n",
       "      <th>is_quote_status</th>\n",
       "      <th>retweet_count</th>\n",
       "      <th>favorite_count</th>\n",
       "      <th>favorited</th>\n",
       "      <th>possibly_sensitive</th>\n",
       "      <th>possibly_sensitive_appealable</th>\n",
       "      <th>lang</th>\n",
       "    </tr>\n",
       "  </thead>\n",
       "  <tbody>\n",
       "    <tr>\n",
       "      <th>0</th>\n",
       "      <td>Tue Aug 01 16:23:56 +0000 2017</td>\n",
       "      <td>892420643555336193</td>\n",
       "      <td>892420643555336193</td>\n",
       "      <td>This is Phineas. He's a mystical boy. Only eve...</td>\n",
       "      <td>False</td>\n",
       "      <td>[0, 85]</td>\n",
       "      <td>{'hashtags': [], 'symbols': [], 'user_mentions...</td>\n",
       "      <td>&lt;a href=\"http://twitter.com/download/iphone\" r...</td>\n",
       "      <td>{'id': 4196983835, 'id_str': '4196983835', 'na...</td>\n",
       "      <td>False</td>\n",
       "      <td>8853</td>\n",
       "      <td>39467</td>\n",
       "      <td>False</td>\n",
       "      <td>False</td>\n",
       "      <td>False</td>\n",
       "      <td>en</td>\n",
       "    </tr>\n",
       "    <tr>\n",
       "      <th>1</th>\n",
       "      <td>Tue Aug 01 00:17:27 +0000 2017</td>\n",
       "      <td>892177421306343426</td>\n",
       "      <td>892177421306343426</td>\n",
       "      <td>This is Tilly. She's just checking pup on you....</td>\n",
       "      <td>False</td>\n",
       "      <td>[0, 138]</td>\n",
       "      <td>{'hashtags': [], 'symbols': [], 'user_mentions...</td>\n",
       "      <td>&lt;a href=\"http://twitter.com/download/iphone\" r...</td>\n",
       "      <td>{'id': 4196983835, 'id_str': '4196983835', 'na...</td>\n",
       "      <td>False</td>\n",
       "      <td>6514</td>\n",
       "      <td>33819</td>\n",
       "      <td>False</td>\n",
       "      <td>False</td>\n",
       "      <td>False</td>\n",
       "      <td>en</td>\n",
       "    </tr>\n",
       "  </tbody>\n",
       "</table>\n",
       "</div>"
      ],
      "text/plain": [
       "                       created_at                  id              id_str  \\\n",
       "0  Tue Aug 01 16:23:56 +0000 2017  892420643555336193  892420643555336193   \n",
       "1  Tue Aug 01 00:17:27 +0000 2017  892177421306343426  892177421306343426   \n",
       "\n",
       "                                           full_text  truncated  \\\n",
       "0  This is Phineas. He's a mystical boy. Only eve...      False   \n",
       "1  This is Tilly. She's just checking pup on you....      False   \n",
       "\n",
       "  display_text_range                                           entities  \\\n",
       "0            [0, 85]  {'hashtags': [], 'symbols': [], 'user_mentions...   \n",
       "1           [0, 138]  {'hashtags': [], 'symbols': [], 'user_mentions...   \n",
       "\n",
       "                                              source  \\\n",
       "0  <a href=\"http://twitter.com/download/iphone\" r...   \n",
       "1  <a href=\"http://twitter.com/download/iphone\" r...   \n",
       "\n",
       "                                                user  is_quote_status  \\\n",
       "0  {'id': 4196983835, 'id_str': '4196983835', 'na...            False   \n",
       "1  {'id': 4196983835, 'id_str': '4196983835', 'na...            False   \n",
       "\n",
       "   retweet_count  favorite_count  favorited possibly_sensitive  \\\n",
       "0           8853           39467      False              False   \n",
       "1           6514           33819      False              False   \n",
       "\n",
       "  possibly_sensitive_appealable lang  \n",
       "0                         False   en  \n",
       "1                         False   en  "
      ]
     },
     "execution_count": 148,
     "metadata": {},
     "output_type": "execute_result"
    }
   ],
   "source": [
    "api_data_clean.head(2)"
   ]
  },
  {
   "cell_type": "code",
   "execution_count": null,
   "id": "022945ed",
   "metadata": {},
   "outputs": [],
   "source": []
  },
  {
   "cell_type": "markdown",
   "id": "e7f3f6f7",
   "metadata": {},
   "source": [
    "## Quality Issues\n",
    "\n",
    "1. Duplication of values in the expanded_urls column (some rows duplicated values) of the twitter archive dataframe"
   ]
  },
  {
   "cell_type": "markdown",
   "id": "c06318d5",
   "metadata": {},
   "source": [
    "### Define \n",
    "Since we have one value appearing more than once, we will just take the first occurrence by splitting and taking the first occurrence"
   ]
  },
  {
   "cell_type": "markdown",
   "id": "29f4410c",
   "metadata": {},
   "source": [
    "#### Code"
   ]
  },
  {
   "cell_type": "code",
   "execution_count": 149,
   "id": "8669605d",
   "metadata": {},
   "outputs": [],
   "source": [
    "twitter_archive_clean.expanded_urls = twitter_archive_clean.expanded_urls.apply(lambda x: x.split(\",\")[0])"
   ]
  },
  {
   "cell_type": "markdown",
   "id": "479f7061",
   "metadata": {},
   "source": [
    "### Test"
   ]
  },
  {
   "cell_type": "code",
   "execution_count": 150,
   "id": "adc65fa6",
   "metadata": {},
   "outputs": [
    {
     "data": {
      "text/plain": [
       "array(['https://twitter.com/dog_rates/status/892420643555336193/photo/1',\n",
       "       'https://twitter.com/dog_rates/status/892177421306343426/photo/1',\n",
       "       'https://twitter.com/dog_rates/status/891815181378084864/photo/1',\n",
       "       'https://twitter.com/dog_rates/status/891689557279858688/photo/1',\n",
       "       'https://twitter.com/dog_rates/status/891327558926688256/photo/1'],\n",
       "      dtype=object)"
      ]
     },
     "execution_count": 150,
     "metadata": {},
     "output_type": "execute_result"
    }
   ],
   "source": [
    "twitter_archive_clean.expanded_urls.values[:5]"
   ]
  },
  {
   "cell_type": "markdown",
   "id": "def767df",
   "metadata": {},
   "source": [
    " 2. Inconsistency in the twitter archive dataframe name column some dogs nam estart with uppercase while some start with lowercase"
   ]
  },
  {
   "cell_type": "markdown",
   "id": "f5313591",
   "metadata": {},
   "source": [
    "### Define\n",
    "Convert the first letter of all dogs name to uppercase using the `title string method`"
   ]
  },
  {
   "cell_type": "markdown",
   "id": "8e463679",
   "metadata": {},
   "source": [
    "#### Code"
   ]
  },
  {
   "cell_type": "code",
   "execution_count": 151,
   "id": "c6081f18",
   "metadata": {},
   "outputs": [],
   "source": [
    "twitter_archive_clean.name = twitter_archive_clean.name.apply(lambda x : x.title())"
   ]
  },
  {
   "cell_type": "markdown",
   "id": "ffa6b18b",
   "metadata": {},
   "source": [
    "#### Test"
   ]
  },
  {
   "cell_type": "code",
   "execution_count": 152,
   "id": "e15d54d2",
   "metadata": {},
   "outputs": [
    {
     "data": {
      "text/plain": [
       "0     Phineas\n",
       "1       Tilly\n",
       "2      Archie\n",
       "3       Darla\n",
       "4    Franklin\n",
       "Name: name, dtype: object"
      ]
     },
     "execution_count": 152,
     "metadata": {},
     "output_type": "execute_result"
    }
   ],
   "source": [
    "twitter_archive_clean.name.head()"
   ]
  },
  {
   "cell_type": "markdown",
   "id": "c45d3807",
   "metadata": {},
   "source": [
    " 3.  twitter_archive dataframe timestamp column data type is object instead of datetime data type"
   ]
  },
  {
   "cell_type": "markdown",
   "id": "cdc2f0f1",
   "metadata": {},
   "source": [
    "#### Define\n",
    "Change timestamp column type to datetime using pandas to_datetime method"
   ]
  },
  {
   "cell_type": "markdown",
   "id": "44686458",
   "metadata": {},
   "source": [
    "#### Code"
   ]
  },
  {
   "cell_type": "code",
   "execution_count": 153,
   "id": "95d91b8a",
   "metadata": {},
   "outputs": [],
   "source": [
    "twitter_archive_clean.timestamp = pd.to_datetime(twitter_archive_clean.timestamp)"
   ]
  },
  {
   "cell_type": "markdown",
   "id": "81ec789d",
   "metadata": {},
   "source": [
    "#### Test"
   ]
  },
  {
   "cell_type": "code",
   "execution_count": 154,
   "id": "da195629",
   "metadata": {},
   "outputs": [
    {
     "data": {
      "text/plain": [
       "datetime64[ns, UTC]"
      ]
     },
     "execution_count": 154,
     "metadata": {},
     "output_type": "execute_result"
    }
   ],
   "source": [
    "twitter_archive_clean.timestamp.dtype"
   ]
  },
  {
   "cell_type": "markdown",
   "id": "0419a3ae",
   "metadata": {},
   "source": [
    " 4. Inconsistency in the names in columns(p1, p2, p3) some names starts with Uppercase while some start with lowercase letters in the image_prediction dataframe"
   ]
  },
  {
   "cell_type": "markdown",
   "id": "63214e63",
   "metadata": {},
   "source": [
    "#### Define\n",
    "Convert the first letter of all column(p1, p2, p3) names to uppercase using the `title string method`"
   ]
  },
  {
   "cell_type": "markdown",
   "id": "edd266c4",
   "metadata": {},
   "source": [
    "#### Code"
   ]
  },
  {
   "cell_type": "code",
   "execution_count": 155,
   "id": "82c2c1d1",
   "metadata": {},
   "outputs": [],
   "source": [
    "columns = image_prediction_clean[[\"p1\", \"p2\", \"p3\"]]"
   ]
  },
  {
   "cell_type": "code",
   "execution_count": 156,
   "id": "125d0d1b",
   "metadata": {},
   "outputs": [
    {
     "name": "stderr",
     "output_type": "stream",
     "text": [
      "C:\\Users\\TEMITOPE\\AppData\\Local\\Temp\\ipykernel_29988\\76112198.py:2: SettingWithCopyWarning: \n",
      "A value is trying to be set on a copy of a slice from a DataFrame.\n",
      "Try using .loc[row_indexer,col_indexer] = value instead\n",
      "\n",
      "See the caveats in the documentation: https://pandas.pydata.org/pandas-docs/stable/user_guide/indexing.html#returning-a-view-versus-a-copy\n",
      "  columns[cols] = columns[cols].apply(lambda x : x.title())\n"
     ]
    }
   ],
   "source": [
    "for cols in columns:\n",
    "    columns[cols] = columns[cols].apply(lambda x : x.title())\n",
    "    \n",
    "    "
   ]
  },
  {
   "cell_type": "code",
   "execution_count": 157,
   "id": "4a51989a",
   "metadata": {},
   "outputs": [],
   "source": [
    "image_prediction_clean[[\"p1\", \"p2\", \"p3\"]] = columns"
   ]
  },
  {
   "cell_type": "markdown",
   "id": "86360347",
   "metadata": {},
   "source": [
    "#### Test"
   ]
  },
  {
   "cell_type": "code",
   "execution_count": 158,
   "id": "8058feb3",
   "metadata": {},
   "outputs": [
    {
     "data": {
      "text/html": [
       "<div>\n",
       "<style scoped>\n",
       "    .dataframe tbody tr th:only-of-type {\n",
       "        vertical-align: middle;\n",
       "    }\n",
       "\n",
       "    .dataframe tbody tr th {\n",
       "        vertical-align: top;\n",
       "    }\n",
       "\n",
       "    .dataframe thead th {\n",
       "        text-align: right;\n",
       "    }\n",
       "</style>\n",
       "<table border=\"1\" class=\"dataframe\">\n",
       "  <thead>\n",
       "    <tr style=\"text-align: right;\">\n",
       "      <th></th>\n",
       "      <th>p1</th>\n",
       "      <th>p2</th>\n",
       "      <th>p3</th>\n",
       "    </tr>\n",
       "  </thead>\n",
       "  <tbody>\n",
       "    <tr>\n",
       "      <th>0</th>\n",
       "      <td>Welsh_Springer_Spaniel</td>\n",
       "      <td>Collie</td>\n",
       "      <td>Shetland_Sheepdog</td>\n",
       "    </tr>\n",
       "    <tr>\n",
       "      <th>1</th>\n",
       "      <td>Redbone</td>\n",
       "      <td>Miniature_Pinscher</td>\n",
       "      <td>Rhodesian_Ridgeback</td>\n",
       "    </tr>\n",
       "    <tr>\n",
       "      <th>2</th>\n",
       "      <td>German_Shepherd</td>\n",
       "      <td>Malinois</td>\n",
       "      <td>Bloodhound</td>\n",
       "    </tr>\n",
       "    <tr>\n",
       "      <th>3</th>\n",
       "      <td>Rhodesian_Ridgeback</td>\n",
       "      <td>Redbone</td>\n",
       "      <td>Miniature_Pinscher</td>\n",
       "    </tr>\n",
       "    <tr>\n",
       "      <th>4</th>\n",
       "      <td>Miniature_Pinscher</td>\n",
       "      <td>Rottweiler</td>\n",
       "      <td>Doberman</td>\n",
       "    </tr>\n",
       "  </tbody>\n",
       "</table>\n",
       "</div>"
      ],
      "text/plain": [
       "                       p1                  p2                   p3\n",
       "0  Welsh_Springer_Spaniel              Collie    Shetland_Sheepdog\n",
       "1                 Redbone  Miniature_Pinscher  Rhodesian_Ridgeback\n",
       "2         German_Shepherd            Malinois           Bloodhound\n",
       "3     Rhodesian_Ridgeback             Redbone   Miniature_Pinscher\n",
       "4      Miniature_Pinscher          Rottweiler             Doberman"
      ]
     },
     "execution_count": 158,
     "metadata": {},
     "output_type": "execute_result"
    }
   ],
   "source": [
    "image_prediction_clean[[\"p1\", \"p2\", \"p3\"]].head()"
   ]
  },
  {
   "cell_type": "markdown",
   "id": "7efc5d89",
   "metadata": {},
   "source": [
    " 5. underscore charater joining two letters together in columns(p1, p2, p3) in the image_prediction dataframe"
   ]
  },
  {
   "cell_type": "markdown",
   "id": "868418f1",
   "metadata": {},
   "source": [
    "#### Define\n",
    "Relpace the underscore  character between text in columns with a space using the `string.replace method`"
   ]
  },
  {
   "cell_type": "markdown",
   "id": "6f217986",
   "metadata": {},
   "source": [
    "#### Code"
   ]
  },
  {
   "cell_type": "code",
   "execution_count": 159,
   "id": "3ce34f75",
   "metadata": {
    "scrolled": false
   },
   "outputs": [
    {
     "name": "stderr",
     "output_type": "stream",
     "text": [
      "C:\\Users\\TEMITOPE\\AppData\\Local\\Temp\\ipykernel_29988\\3380237174.py:3: SettingWithCopyWarning: \n",
      "A value is trying to be set on a copy of a slice from a DataFrame.\n",
      "Try using .loc[row_indexer,col_indexer] = value instead\n",
      "\n",
      "See the caveats in the documentation: https://pandas.pydata.org/pandas-docs/stable/user_guide/indexing.html#returning-a-view-versus-a-copy\n",
      "  replace_under_score[cols] = replace_under_score[cols].apply(lambda x : x.replace(\"_\", \" \"))\n"
     ]
    }
   ],
   "source": [
    "replace_under_score = image_prediction_clean[[\"p1\", \"p2\", \"p3\"]]\n",
    "for cols in replace_under_score:\n",
    "    replace_under_score[cols] = replace_under_score[cols].apply(lambda x : x.replace(\"_\", \" \"))"
   ]
  },
  {
   "cell_type": "code",
   "execution_count": 160,
   "id": "1016724b",
   "metadata": {},
   "outputs": [],
   "source": [
    "image_prediction_clean[[\"p1\", \"p2\", \"p3\"]] = replace_under_score"
   ]
  },
  {
   "cell_type": "markdown",
   "id": "9173b2e0",
   "metadata": {},
   "source": [
    "##### Test"
   ]
  },
  {
   "cell_type": "code",
   "execution_count": 161,
   "id": "899770c9",
   "metadata": {},
   "outputs": [
    {
     "data": {
      "text/html": [
       "<div>\n",
       "<style scoped>\n",
       "    .dataframe tbody tr th:only-of-type {\n",
       "        vertical-align: middle;\n",
       "    }\n",
       "\n",
       "    .dataframe tbody tr th {\n",
       "        vertical-align: top;\n",
       "    }\n",
       "\n",
       "    .dataframe thead th {\n",
       "        text-align: right;\n",
       "    }\n",
       "</style>\n",
       "<table border=\"1\" class=\"dataframe\">\n",
       "  <thead>\n",
       "    <tr style=\"text-align: right;\">\n",
       "      <th></th>\n",
       "      <th>p1</th>\n",
       "      <th>p2</th>\n",
       "      <th>p3</th>\n",
       "    </tr>\n",
       "  </thead>\n",
       "  <tbody>\n",
       "    <tr>\n",
       "      <th>0</th>\n",
       "      <td>Welsh Springer Spaniel</td>\n",
       "      <td>Collie</td>\n",
       "      <td>Shetland Sheepdog</td>\n",
       "    </tr>\n",
       "    <tr>\n",
       "      <th>1</th>\n",
       "      <td>Redbone</td>\n",
       "      <td>Miniature Pinscher</td>\n",
       "      <td>Rhodesian Ridgeback</td>\n",
       "    </tr>\n",
       "    <tr>\n",
       "      <th>2</th>\n",
       "      <td>German Shepherd</td>\n",
       "      <td>Malinois</td>\n",
       "      <td>Bloodhound</td>\n",
       "    </tr>\n",
       "    <tr>\n",
       "      <th>3</th>\n",
       "      <td>Rhodesian Ridgeback</td>\n",
       "      <td>Redbone</td>\n",
       "      <td>Miniature Pinscher</td>\n",
       "    </tr>\n",
       "    <tr>\n",
       "      <th>4</th>\n",
       "      <td>Miniature Pinscher</td>\n",
       "      <td>Rottweiler</td>\n",
       "      <td>Doberman</td>\n",
       "    </tr>\n",
       "  </tbody>\n",
       "</table>\n",
       "</div>"
      ],
      "text/plain": [
       "                       p1                  p2                   p3\n",
       "0  Welsh Springer Spaniel              Collie    Shetland Sheepdog\n",
       "1                 Redbone  Miniature Pinscher  Rhodesian Ridgeback\n",
       "2         German Shepherd            Malinois           Bloodhound\n",
       "3     Rhodesian Ridgeback             Redbone   Miniature Pinscher\n",
       "4      Miniature Pinscher          Rottweiler             Doberman"
      ]
     },
     "execution_count": 161,
     "metadata": {},
     "output_type": "execute_result"
    }
   ],
   "source": [
    "replace_under_score.head()"
   ]
  },
  {
   "cell_type": "code",
   "execution_count": 162,
   "id": "fbb03198",
   "metadata": {},
   "outputs": [
    {
     "data": {
      "text/plain": [
       "0       Welsh Springer Spaniel\n",
       "1                      Redbone\n",
       "2              German Shepherd\n",
       "3          Rhodesian Ridgeback\n",
       "4           Miniature Pinscher\n",
       "                 ...          \n",
       "2070                    Basset\n",
       "2071               Paper Towel\n",
       "2072                 Chihuahua\n",
       "2073                 Chihuahua\n",
       "2074                    Orange\n",
       "Name: p1, Length: 2075, dtype: object"
      ]
     },
     "execution_count": 162,
     "metadata": {},
     "output_type": "execute_result"
    }
   ],
   "source": [
    "image_prediction_clean.p1.apply(lambda x: x.replace(\"_\", \" \"))"
   ]
  },
  {
   "cell_type": "markdown",
   "id": "0bbeeac0",
   "metadata": {},
   "source": [
    "6. The values in (display_text_range) column of api_data Dataframe is enclosed by square brackeks and has comma in between"
   ]
  },
  {
   "cell_type": "markdown",
   "id": "bc2e3e25",
   "metadata": {},
   "source": [
    "#### Define\n",
    "Create a list that will contain the changed strings from list, replace the commas between the range of numbers with a dash"
   ]
  },
  {
   "cell_type": "markdown",
   "id": "36a64165",
   "metadata": {},
   "source": [
    "#### Code"
   ]
  },
  {
   "cell_type": "code",
   "execution_count": 163,
   "id": "24550bc6",
   "metadata": {},
   "outputs": [],
   "source": [
    "list1 = []\n",
    "for i in api_data_clean.display_text_range:\n",
    "    list1.append(\" \".join(str(j) for j in i))"
   ]
  },
  {
   "cell_type": "code",
   "execution_count": 164,
   "id": "7cdca44e",
   "metadata": {},
   "outputs": [],
   "source": [
    "api_data_clean.display_text_range = list1"
   ]
  },
  {
   "cell_type": "code",
   "execution_count": 165,
   "id": "ed7e71f5",
   "metadata": {},
   "outputs": [],
   "source": [
    "api_data_clean.display_text_range = api_data_clean.display_text_range.apply(lambda x: x.replace(\" \", \"-\"))"
   ]
  },
  {
   "cell_type": "markdown",
   "id": "61032633",
   "metadata": {},
   "source": [
    "#### Test"
   ]
  },
  {
   "cell_type": "code",
   "execution_count": 166,
   "id": "cad9fc41",
   "metadata": {},
   "outputs": [
    {
     "data": {
      "text/plain": [
       "0     0-85\n",
       "1    0-138\n",
       "2    0-121\n",
       "3     0-79\n",
       "4    0-138\n",
       "Name: display_text_range, dtype: object"
      ]
     },
     "execution_count": 166,
     "metadata": {},
     "output_type": "execute_result"
    }
   ],
   "source": [
    "api_data_clean.display_text_range.head()"
   ]
  },
  {
   "cell_type": "code",
   "execution_count": 167,
   "id": "3301fa6c",
   "metadata": {},
   "outputs": [
    {
     "data": {
      "text/html": [
       "<div>\n",
       "<style scoped>\n",
       "    .dataframe tbody tr th:only-of-type {\n",
       "        vertical-align: middle;\n",
       "    }\n",
       "\n",
       "    .dataframe tbody tr th {\n",
       "        vertical-align: top;\n",
       "    }\n",
       "\n",
       "    .dataframe thead th {\n",
       "        text-align: right;\n",
       "    }\n",
       "</style>\n",
       "<table border=\"1\" class=\"dataframe\">\n",
       "  <thead>\n",
       "    <tr style=\"text-align: right;\">\n",
       "      <th></th>\n",
       "      <th>created_at</th>\n",
       "      <th>id</th>\n",
       "      <th>id_str</th>\n",
       "      <th>full_text</th>\n",
       "      <th>truncated</th>\n",
       "      <th>display_text_range</th>\n",
       "      <th>entities</th>\n",
       "      <th>source</th>\n",
       "      <th>user</th>\n",
       "      <th>is_quote_status</th>\n",
       "      <th>retweet_count</th>\n",
       "      <th>favorite_count</th>\n",
       "      <th>favorited</th>\n",
       "      <th>possibly_sensitive</th>\n",
       "      <th>possibly_sensitive_appealable</th>\n",
       "      <th>lang</th>\n",
       "    </tr>\n",
       "  </thead>\n",
       "  <tbody>\n",
       "    <tr>\n",
       "      <th>0</th>\n",
       "      <td>Tue Aug 01 16:23:56 +0000 2017</td>\n",
       "      <td>892420643555336193</td>\n",
       "      <td>892420643555336193</td>\n",
       "      <td>This is Phineas. He's a mystical boy. Only eve...</td>\n",
       "      <td>False</td>\n",
       "      <td>0-85</td>\n",
       "      <td>{'hashtags': [], 'symbols': [], 'user_mentions...</td>\n",
       "      <td>&lt;a href=\"http://twitter.com/download/iphone\" r...</td>\n",
       "      <td>{'id': 4196983835, 'id_str': '4196983835', 'na...</td>\n",
       "      <td>False</td>\n",
       "      <td>8853</td>\n",
       "      <td>39467</td>\n",
       "      <td>False</td>\n",
       "      <td>False</td>\n",
       "      <td>False</td>\n",
       "      <td>en</td>\n",
       "    </tr>\n",
       "    <tr>\n",
       "      <th>1</th>\n",
       "      <td>Tue Aug 01 00:17:27 +0000 2017</td>\n",
       "      <td>892177421306343426</td>\n",
       "      <td>892177421306343426</td>\n",
       "      <td>This is Tilly. She's just checking pup on you....</td>\n",
       "      <td>False</td>\n",
       "      <td>0-138</td>\n",
       "      <td>{'hashtags': [], 'symbols': [], 'user_mentions...</td>\n",
       "      <td>&lt;a href=\"http://twitter.com/download/iphone\" r...</td>\n",
       "      <td>{'id': 4196983835, 'id_str': '4196983835', 'na...</td>\n",
       "      <td>False</td>\n",
       "      <td>6514</td>\n",
       "      <td>33819</td>\n",
       "      <td>False</td>\n",
       "      <td>False</td>\n",
       "      <td>False</td>\n",
       "      <td>en</td>\n",
       "    </tr>\n",
       "    <tr>\n",
       "      <th>2</th>\n",
       "      <td>Mon Jul 31 00:18:03 +0000 2017</td>\n",
       "      <td>891815181378084864</td>\n",
       "      <td>891815181378084864</td>\n",
       "      <td>This is Archie. He is a rare Norwegian Pouncin...</td>\n",
       "      <td>False</td>\n",
       "      <td>0-121</td>\n",
       "      <td>{'hashtags': [], 'symbols': [], 'user_mentions...</td>\n",
       "      <td>&lt;a href=\"http://twitter.com/download/iphone\" r...</td>\n",
       "      <td>{'id': 4196983835, 'id_str': '4196983835', 'na...</td>\n",
       "      <td>False</td>\n",
       "      <td>4328</td>\n",
       "      <td>25461</td>\n",
       "      <td>False</td>\n",
       "      <td>False</td>\n",
       "      <td>False</td>\n",
       "      <td>en</td>\n",
       "    </tr>\n",
       "    <tr>\n",
       "      <th>3</th>\n",
       "      <td>Sun Jul 30 15:58:51 +0000 2017</td>\n",
       "      <td>891689557279858688</td>\n",
       "      <td>891689557279858688</td>\n",
       "      <td>This is Darla. She commenced a snooze mid meal...</td>\n",
       "      <td>False</td>\n",
       "      <td>0-79</td>\n",
       "      <td>{'hashtags': [], 'symbols': [], 'user_mentions...</td>\n",
       "      <td>&lt;a href=\"http://twitter.com/download/iphone\" r...</td>\n",
       "      <td>{'id': 4196983835, 'id_str': '4196983835', 'na...</td>\n",
       "      <td>False</td>\n",
       "      <td>8964</td>\n",
       "      <td>42908</td>\n",
       "      <td>False</td>\n",
       "      <td>False</td>\n",
       "      <td>False</td>\n",
       "      <td>en</td>\n",
       "    </tr>\n",
       "    <tr>\n",
       "      <th>4</th>\n",
       "      <td>Sat Jul 29 16:00:24 +0000 2017</td>\n",
       "      <td>891327558926688256</td>\n",
       "      <td>891327558926688256</td>\n",
       "      <td>This is Franklin. He would like you to stop ca...</td>\n",
       "      <td>False</td>\n",
       "      <td>0-138</td>\n",
       "      <td>{'hashtags': [{'text': 'BarkWeek', 'indices': ...</td>\n",
       "      <td>&lt;a href=\"http://twitter.com/download/iphone\" r...</td>\n",
       "      <td>{'id': 4196983835, 'id_str': '4196983835', 'na...</td>\n",
       "      <td>False</td>\n",
       "      <td>9774</td>\n",
       "      <td>41048</td>\n",
       "      <td>False</td>\n",
       "      <td>False</td>\n",
       "      <td>False</td>\n",
       "      <td>en</td>\n",
       "    </tr>\n",
       "    <tr>\n",
       "      <th>...</th>\n",
       "      <td>...</td>\n",
       "      <td>...</td>\n",
       "      <td>...</td>\n",
       "      <td>...</td>\n",
       "      <td>...</td>\n",
       "      <td>...</td>\n",
       "      <td>...</td>\n",
       "      <td>...</td>\n",
       "      <td>...</td>\n",
       "      <td>...</td>\n",
       "      <td>...</td>\n",
       "      <td>...</td>\n",
       "      <td>...</td>\n",
       "      <td>...</td>\n",
       "      <td>...</td>\n",
       "      <td>...</td>\n",
       "    </tr>\n",
       "    <tr>\n",
       "      <th>2349</th>\n",
       "      <td>Mon Nov 16 00:24:50 +0000 2015</td>\n",
       "      <td>666049248165822465</td>\n",
       "      <td>666049248165822465</td>\n",
       "      <td>Here we have a 1949 1st generation vulpix. Enj...</td>\n",
       "      <td>False</td>\n",
       "      <td>0-120</td>\n",
       "      <td>{'hashtags': [], 'symbols': [], 'user_mentions...</td>\n",
       "      <td>&lt;a href=\"http://twitter.com/download/iphone\" r...</td>\n",
       "      <td>{'id': 4196983835, 'id_str': '4196983835', 'na...</td>\n",
       "      <td>False</td>\n",
       "      <td>41</td>\n",
       "      <td>111</td>\n",
       "      <td>False</td>\n",
       "      <td>False</td>\n",
       "      <td>False</td>\n",
       "      <td>en</td>\n",
       "    </tr>\n",
       "    <tr>\n",
       "      <th>2350</th>\n",
       "      <td>Mon Nov 16 00:04:52 +0000 2015</td>\n",
       "      <td>666044226329800704</td>\n",
       "      <td>666044226329800704</td>\n",
       "      <td>This is a purebred Piers Morgan. Loves to Netf...</td>\n",
       "      <td>False</td>\n",
       "      <td>0-137</td>\n",
       "      <td>{'hashtags': [], 'symbols': [], 'user_mentions...</td>\n",
       "      <td>&lt;a href=\"http://twitter.com/download/iphone\" r...</td>\n",
       "      <td>{'id': 4196983835, 'id_str': '4196983835', 'na...</td>\n",
       "      <td>False</td>\n",
       "      <td>147</td>\n",
       "      <td>311</td>\n",
       "      <td>False</td>\n",
       "      <td>False</td>\n",
       "      <td>False</td>\n",
       "      <td>en</td>\n",
       "    </tr>\n",
       "    <tr>\n",
       "      <th>2351</th>\n",
       "      <td>Sun Nov 15 23:21:54 +0000 2015</td>\n",
       "      <td>666033412701032449</td>\n",
       "      <td>666033412701032449</td>\n",
       "      <td>Here is a very happy pup. Big fan of well-main...</td>\n",
       "      <td>False</td>\n",
       "      <td>0-130</td>\n",
       "      <td>{'hashtags': [], 'symbols': [], 'user_mentions...</td>\n",
       "      <td>&lt;a href=\"http://twitter.com/download/iphone\" r...</td>\n",
       "      <td>{'id': 4196983835, 'id_str': '4196983835', 'na...</td>\n",
       "      <td>False</td>\n",
       "      <td>47</td>\n",
       "      <td>128</td>\n",
       "      <td>False</td>\n",
       "      <td>False</td>\n",
       "      <td>False</td>\n",
       "      <td>en</td>\n",
       "    </tr>\n",
       "    <tr>\n",
       "      <th>2352</th>\n",
       "      <td>Sun Nov 15 23:05:30 +0000 2015</td>\n",
       "      <td>666029285002620928</td>\n",
       "      <td>666029285002620928</td>\n",
       "      <td>This is a western brown Mitsubishi terrier. Up...</td>\n",
       "      <td>False</td>\n",
       "      <td>0-139</td>\n",
       "      <td>{'hashtags': [], 'symbols': [], 'user_mentions...</td>\n",
       "      <td>&lt;a href=\"http://twitter.com/download/iphone\" r...</td>\n",
       "      <td>{'id': 4196983835, 'id_str': '4196983835', 'na...</td>\n",
       "      <td>False</td>\n",
       "      <td>48</td>\n",
       "      <td>132</td>\n",
       "      <td>False</td>\n",
       "      <td>False</td>\n",
       "      <td>False</td>\n",
       "      <td>en</td>\n",
       "    </tr>\n",
       "    <tr>\n",
       "      <th>2353</th>\n",
       "      <td>Sun Nov 15 22:32:08 +0000 2015</td>\n",
       "      <td>666020888022790149</td>\n",
       "      <td>666020888022790149</td>\n",
       "      <td>Here we have a Japanese Irish Setter. Lost eye...</td>\n",
       "      <td>False</td>\n",
       "      <td>0-131</td>\n",
       "      <td>{'hashtags': [], 'symbols': [], 'user_mentions...</td>\n",
       "      <td>&lt;a href=\"http://twitter.com/download/iphone\" r...</td>\n",
       "      <td>{'id': 4196983835, 'id_str': '4196983835', 'na...</td>\n",
       "      <td>False</td>\n",
       "      <td>532</td>\n",
       "      <td>2535</td>\n",
       "      <td>False</td>\n",
       "      <td>False</td>\n",
       "      <td>False</td>\n",
       "      <td>en</td>\n",
       "    </tr>\n",
       "  </tbody>\n",
       "</table>\n",
       "<p>2354 rows × 16 columns</p>\n",
       "</div>"
      ],
      "text/plain": [
       "                          created_at                  id              id_str  \\\n",
       "0     Tue Aug 01 16:23:56 +0000 2017  892420643555336193  892420643555336193   \n",
       "1     Tue Aug 01 00:17:27 +0000 2017  892177421306343426  892177421306343426   \n",
       "2     Mon Jul 31 00:18:03 +0000 2017  891815181378084864  891815181378084864   \n",
       "3     Sun Jul 30 15:58:51 +0000 2017  891689557279858688  891689557279858688   \n",
       "4     Sat Jul 29 16:00:24 +0000 2017  891327558926688256  891327558926688256   \n",
       "...                              ...                 ...                 ...   \n",
       "2349  Mon Nov 16 00:24:50 +0000 2015  666049248165822465  666049248165822465   \n",
       "2350  Mon Nov 16 00:04:52 +0000 2015  666044226329800704  666044226329800704   \n",
       "2351  Sun Nov 15 23:21:54 +0000 2015  666033412701032449  666033412701032449   \n",
       "2352  Sun Nov 15 23:05:30 +0000 2015  666029285002620928  666029285002620928   \n",
       "2353  Sun Nov 15 22:32:08 +0000 2015  666020888022790149  666020888022790149   \n",
       "\n",
       "                                              full_text  truncated  \\\n",
       "0     This is Phineas. He's a mystical boy. Only eve...      False   \n",
       "1     This is Tilly. She's just checking pup on you....      False   \n",
       "2     This is Archie. He is a rare Norwegian Pouncin...      False   \n",
       "3     This is Darla. She commenced a snooze mid meal...      False   \n",
       "4     This is Franklin. He would like you to stop ca...      False   \n",
       "...                                                 ...        ...   \n",
       "2349  Here we have a 1949 1st generation vulpix. Enj...      False   \n",
       "2350  This is a purebred Piers Morgan. Loves to Netf...      False   \n",
       "2351  Here is a very happy pup. Big fan of well-main...      False   \n",
       "2352  This is a western brown Mitsubishi terrier. Up...      False   \n",
       "2353  Here we have a Japanese Irish Setter. Lost eye...      False   \n",
       "\n",
       "     display_text_range                                           entities  \\\n",
       "0                  0-85  {'hashtags': [], 'symbols': [], 'user_mentions...   \n",
       "1                 0-138  {'hashtags': [], 'symbols': [], 'user_mentions...   \n",
       "2                 0-121  {'hashtags': [], 'symbols': [], 'user_mentions...   \n",
       "3                  0-79  {'hashtags': [], 'symbols': [], 'user_mentions...   \n",
       "4                 0-138  {'hashtags': [{'text': 'BarkWeek', 'indices': ...   \n",
       "...                 ...                                                ...   \n",
       "2349              0-120  {'hashtags': [], 'symbols': [], 'user_mentions...   \n",
       "2350              0-137  {'hashtags': [], 'symbols': [], 'user_mentions...   \n",
       "2351              0-130  {'hashtags': [], 'symbols': [], 'user_mentions...   \n",
       "2352              0-139  {'hashtags': [], 'symbols': [], 'user_mentions...   \n",
       "2353              0-131  {'hashtags': [], 'symbols': [], 'user_mentions...   \n",
       "\n",
       "                                                 source  \\\n",
       "0     <a href=\"http://twitter.com/download/iphone\" r...   \n",
       "1     <a href=\"http://twitter.com/download/iphone\" r...   \n",
       "2     <a href=\"http://twitter.com/download/iphone\" r...   \n",
       "3     <a href=\"http://twitter.com/download/iphone\" r...   \n",
       "4     <a href=\"http://twitter.com/download/iphone\" r...   \n",
       "...                                                 ...   \n",
       "2349  <a href=\"http://twitter.com/download/iphone\" r...   \n",
       "2350  <a href=\"http://twitter.com/download/iphone\" r...   \n",
       "2351  <a href=\"http://twitter.com/download/iphone\" r...   \n",
       "2352  <a href=\"http://twitter.com/download/iphone\" r...   \n",
       "2353  <a href=\"http://twitter.com/download/iphone\" r...   \n",
       "\n",
       "                                                   user  is_quote_status  \\\n",
       "0     {'id': 4196983835, 'id_str': '4196983835', 'na...            False   \n",
       "1     {'id': 4196983835, 'id_str': '4196983835', 'na...            False   \n",
       "2     {'id': 4196983835, 'id_str': '4196983835', 'na...            False   \n",
       "3     {'id': 4196983835, 'id_str': '4196983835', 'na...            False   \n",
       "4     {'id': 4196983835, 'id_str': '4196983835', 'na...            False   \n",
       "...                                                 ...              ...   \n",
       "2349  {'id': 4196983835, 'id_str': '4196983835', 'na...            False   \n",
       "2350  {'id': 4196983835, 'id_str': '4196983835', 'na...            False   \n",
       "2351  {'id': 4196983835, 'id_str': '4196983835', 'na...            False   \n",
       "2352  {'id': 4196983835, 'id_str': '4196983835', 'na...            False   \n",
       "2353  {'id': 4196983835, 'id_str': '4196983835', 'na...            False   \n",
       "\n",
       "      retweet_count  favorite_count  favorited possibly_sensitive  \\\n",
       "0              8853           39467      False              False   \n",
       "1              6514           33819      False              False   \n",
       "2              4328           25461      False              False   \n",
       "3              8964           42908      False              False   \n",
       "4              9774           41048      False              False   \n",
       "...             ...             ...        ...                ...   \n",
       "2349             41             111      False              False   \n",
       "2350            147             311      False              False   \n",
       "2351             47             128      False              False   \n",
       "2352             48             132      False              False   \n",
       "2353            532            2535      False              False   \n",
       "\n",
       "     possibly_sensitive_appealable lang  \n",
       "0                            False   en  \n",
       "1                            False   en  \n",
       "2                            False   en  \n",
       "3                            False   en  \n",
       "4                            False   en  \n",
       "...                            ...  ...  \n",
       "2349                         False   en  \n",
       "2350                         False   en  \n",
       "2351                         False   en  \n",
       "2352                         False   en  \n",
       "2353                         False   en  \n",
       "\n",
       "[2354 rows x 16 columns]"
      ]
     },
     "execution_count": 167,
     "metadata": {},
     "output_type": "execute_result"
    }
   ],
   "source": [
    "api_data_clean"
   ]
  },
  {
   "cell_type": "markdown",
   "id": "d7d7f05c",
   "metadata": {},
   "source": [
    "### Joining Dataframes\n",
    "#### Define\n",
    "You only want original ratings (no retweets) that have images. Though there are 5000+ tweets in the dataset, not all are dog ratings and some are retweets."
   ]
  },
  {
   "cell_type": "markdown",
   "id": "ca2f5187",
   "metadata": {},
   "source": [
    "#### Code"
   ]
  },
  {
   "cell_type": "code",
   "execution_count": 168,
   "id": "d823c4fd",
   "metadata": {},
   "outputs": [],
   "source": [
    "# Merging the first two dataframe (twitter_archive and image_prediction_datframe)\n",
    "big_data = twitter_archive_clean.merge(image_prediction_clean, on=\"tweet_id\", how=\"inner\")"
   ]
  },
  {
   "cell_type": "code",
   "execution_count": 169,
   "id": "338cece0",
   "metadata": {},
   "outputs": [],
   "source": [
    "# merging the last dataframe (api_data)\n",
    "big_data1 = big_data.merge(api_data_clean, right_on=\"id\", left_on=\"tweet_id\", how=\"inner\")"
   ]
  },
  {
   "cell_type": "code",
   "execution_count": 170,
   "id": "28989b71",
   "metadata": {},
   "outputs": [
    {
     "data": {
      "text/html": [
       "<div>\n",
       "<style scoped>\n",
       "    .dataframe tbody tr th:only-of-type {\n",
       "        vertical-align: middle;\n",
       "    }\n",
       "\n",
       "    .dataframe tbody tr th {\n",
       "        vertical-align: top;\n",
       "    }\n",
       "\n",
       "    .dataframe thead th {\n",
       "        text-align: right;\n",
       "    }\n",
       "</style>\n",
       "<table border=\"1\" class=\"dataframe\">\n",
       "  <thead>\n",
       "    <tr style=\"text-align: right;\">\n",
       "      <th></th>\n",
       "      <th>tweet_id</th>\n",
       "      <th>timestamp</th>\n",
       "      <th>source_x</th>\n",
       "      <th>text</th>\n",
       "      <th>expanded_urls</th>\n",
       "      <th>rating_numerator</th>\n",
       "      <th>rating_denominator</th>\n",
       "      <th>name</th>\n",
       "      <th>dog_stage</th>\n",
       "      <th>jpg_url</th>\n",
       "      <th>img_num</th>\n",
       "      <th>p1</th>\n",
       "      <th>p1_conf</th>\n",
       "      <th>p1_dog</th>\n",
       "      <th>p2</th>\n",
       "      <th>p2_conf</th>\n",
       "      <th>p2_dog</th>\n",
       "      <th>p3</th>\n",
       "      <th>p3_conf</th>\n",
       "      <th>p3_dog</th>\n",
       "      <th>created_at</th>\n",
       "      <th>id</th>\n",
       "      <th>id_str</th>\n",
       "      <th>full_text</th>\n",
       "      <th>truncated</th>\n",
       "      <th>display_text_range</th>\n",
       "      <th>entities</th>\n",
       "      <th>source_y</th>\n",
       "      <th>user</th>\n",
       "      <th>is_quote_status</th>\n",
       "      <th>retweet_count</th>\n",
       "      <th>favorite_count</th>\n",
       "      <th>favorited</th>\n",
       "      <th>possibly_sensitive</th>\n",
       "      <th>possibly_sensitive_appealable</th>\n",
       "      <th>lang</th>\n",
       "    </tr>\n",
       "  </thead>\n",
       "  <tbody>\n",
       "    <tr>\n",
       "      <th>0</th>\n",
       "      <td>892420643555336193</td>\n",
       "      <td>2017-08-01 16:23:56+00:00</td>\n",
       "      <td>&lt;a href=\"http://twitter.com/download/iphone\" r...</td>\n",
       "      <td>This is Phineas. He's a mystical boy. Only eve...</td>\n",
       "      <td>https://twitter.com/dog_rates/status/892420643...</td>\n",
       "      <td>13</td>\n",
       "      <td>10</td>\n",
       "      <td>Phineas</td>\n",
       "      <td>doggo</td>\n",
       "      <td>https://pbs.twimg.com/media/DGKD1-bXoAAIAUK.jpg</td>\n",
       "      <td>1</td>\n",
       "      <td>Orange</td>\n",
       "      <td>0.097049</td>\n",
       "      <td>False</td>\n",
       "      <td>Bagel</td>\n",
       "      <td>0.085851</td>\n",
       "      <td>False</td>\n",
       "      <td>Banana</td>\n",
       "      <td>0.07611</td>\n",
       "      <td>False</td>\n",
       "      <td>Tue Aug 01 16:23:56 +0000 2017</td>\n",
       "      <td>892420643555336193</td>\n",
       "      <td>892420643555336193</td>\n",
       "      <td>This is Phineas. He's a mystical boy. Only eve...</td>\n",
       "      <td>False</td>\n",
       "      <td>0-85</td>\n",
       "      <td>{'hashtags': [], 'symbols': [], 'user_mentions...</td>\n",
       "      <td>&lt;a href=\"http://twitter.com/download/iphone\" r...</td>\n",
       "      <td>{'id': 4196983835, 'id_str': '4196983835', 'na...</td>\n",
       "      <td>False</td>\n",
       "      <td>8853</td>\n",
       "      <td>39467</td>\n",
       "      <td>False</td>\n",
       "      <td>False</td>\n",
       "      <td>False</td>\n",
       "      <td>en</td>\n",
       "    </tr>\n",
       "    <tr>\n",
       "      <th>1</th>\n",
       "      <td>892420643555336193</td>\n",
       "      <td>2017-08-01 16:23:56+00:00</td>\n",
       "      <td>&lt;a href=\"http://twitter.com/download/iphone\" r...</td>\n",
       "      <td>This is Phineas. He's a mystical boy. Only eve...</td>\n",
       "      <td>https://twitter.com/dog_rates/status/892420643...</td>\n",
       "      <td>13</td>\n",
       "      <td>10</td>\n",
       "      <td>Phineas</td>\n",
       "      <td>floofer</td>\n",
       "      <td>https://pbs.twimg.com/media/DGKD1-bXoAAIAUK.jpg</td>\n",
       "      <td>1</td>\n",
       "      <td>Orange</td>\n",
       "      <td>0.097049</td>\n",
       "      <td>False</td>\n",
       "      <td>Bagel</td>\n",
       "      <td>0.085851</td>\n",
       "      <td>False</td>\n",
       "      <td>Banana</td>\n",
       "      <td>0.07611</td>\n",
       "      <td>False</td>\n",
       "      <td>Tue Aug 01 16:23:56 +0000 2017</td>\n",
       "      <td>892420643555336193</td>\n",
       "      <td>892420643555336193</td>\n",
       "      <td>This is Phineas. He's a mystical boy. Only eve...</td>\n",
       "      <td>False</td>\n",
       "      <td>0-85</td>\n",
       "      <td>{'hashtags': [], 'symbols': [], 'user_mentions...</td>\n",
       "      <td>&lt;a href=\"http://twitter.com/download/iphone\" r...</td>\n",
       "      <td>{'id': 4196983835, 'id_str': '4196983835', 'na...</td>\n",
       "      <td>False</td>\n",
       "      <td>8853</td>\n",
       "      <td>39467</td>\n",
       "      <td>False</td>\n",
       "      <td>False</td>\n",
       "      <td>False</td>\n",
       "      <td>en</td>\n",
       "    </tr>\n",
       "  </tbody>\n",
       "</table>\n",
       "</div>"
      ],
      "text/plain": [
       "             tweet_id                 timestamp  \\\n",
       "0  892420643555336193 2017-08-01 16:23:56+00:00   \n",
       "1  892420643555336193 2017-08-01 16:23:56+00:00   \n",
       "\n",
       "                                            source_x  \\\n",
       "0  <a href=\"http://twitter.com/download/iphone\" r...   \n",
       "1  <a href=\"http://twitter.com/download/iphone\" r...   \n",
       "\n",
       "                                                text  \\\n",
       "0  This is Phineas. He's a mystical boy. Only eve...   \n",
       "1  This is Phineas. He's a mystical boy. Only eve...   \n",
       "\n",
       "                                       expanded_urls  rating_numerator  \\\n",
       "0  https://twitter.com/dog_rates/status/892420643...                13   \n",
       "1  https://twitter.com/dog_rates/status/892420643...                13   \n",
       "\n",
       "   rating_denominator     name dog_stage  \\\n",
       "0                  10  Phineas     doggo   \n",
       "1                  10  Phineas   floofer   \n",
       "\n",
       "                                           jpg_url  img_num      p1   p1_conf  \\\n",
       "0  https://pbs.twimg.com/media/DGKD1-bXoAAIAUK.jpg        1  Orange  0.097049   \n",
       "1  https://pbs.twimg.com/media/DGKD1-bXoAAIAUK.jpg        1  Orange  0.097049   \n",
       "\n",
       "   p1_dog     p2   p2_conf  p2_dog      p3  p3_conf  p3_dog  \\\n",
       "0   False  Bagel  0.085851   False  Banana  0.07611   False   \n",
       "1   False  Bagel  0.085851   False  Banana  0.07611   False   \n",
       "\n",
       "                       created_at                  id              id_str  \\\n",
       "0  Tue Aug 01 16:23:56 +0000 2017  892420643555336193  892420643555336193   \n",
       "1  Tue Aug 01 16:23:56 +0000 2017  892420643555336193  892420643555336193   \n",
       "\n",
       "                                           full_text  truncated  \\\n",
       "0  This is Phineas. He's a mystical boy. Only eve...      False   \n",
       "1  This is Phineas. He's a mystical boy. Only eve...      False   \n",
       "\n",
       "  display_text_range                                           entities  \\\n",
       "0               0-85  {'hashtags': [], 'symbols': [], 'user_mentions...   \n",
       "1               0-85  {'hashtags': [], 'symbols': [], 'user_mentions...   \n",
       "\n",
       "                                            source_y  \\\n",
       "0  <a href=\"http://twitter.com/download/iphone\" r...   \n",
       "1  <a href=\"http://twitter.com/download/iphone\" r...   \n",
       "\n",
       "                                                user  is_quote_status  \\\n",
       "0  {'id': 4196983835, 'id_str': '4196983835', 'na...            False   \n",
       "1  {'id': 4196983835, 'id_str': '4196983835', 'na...            False   \n",
       "\n",
       "   retweet_count  favorite_count  favorited possibly_sensitive  \\\n",
       "0           8853           39467      False              False   \n",
       "1           8853           39467      False              False   \n",
       "\n",
       "  possibly_sensitive_appealable lang  \n",
       "0                         False   en  \n",
       "1                         False   en  "
      ]
     },
     "execution_count": 170,
     "metadata": {},
     "output_type": "execute_result"
    }
   ],
   "source": [
    "# preview the combine dataframes\n",
    "big_data1.head(2)"
   ]
  },
  {
   "cell_type": "code",
   "execution_count": 171,
   "id": "1bb6864f",
   "metadata": {},
   "outputs": [],
   "source": [
    "# Copy the merged dataframe\n",
    "big_df = big_data1.copy()"
   ]
  },
  {
   "cell_type": "code",
   "execution_count": 172,
   "id": "8ffd4cca",
   "metadata": {
    "scrolled": true
   },
   "outputs": [
    {
     "data": {
      "text/plain": [
       "Index(['tweet_id', 'timestamp', 'source_x', 'text', 'expanded_urls',\n",
       "       'rating_numerator', 'rating_denominator', 'name', 'dog_stage',\n",
       "       'jpg_url', 'img_num', 'p1', 'p1_conf', 'p1_dog', 'p2', 'p2_conf',\n",
       "       'p2_dog', 'p3', 'p3_conf', 'p3_dog', 'created_at', 'id', 'id_str',\n",
       "       'full_text', 'truncated', 'display_text_range', 'entities', 'source_y',\n",
       "       'user', 'is_quote_status', 'retweet_count', 'favorite_count',\n",
       "       'favorited', 'possibly_sensitive', 'possibly_sensitive_appealable',\n",
       "       'lang'],\n",
       "      dtype='object')"
      ]
     },
     "execution_count": 172,
     "metadata": {},
     "output_type": "execute_result"
    }
   ],
   "source": [
    "big_df.columns"
   ]
  },
  {
   "cell_type": "code",
   "execution_count": 173,
   "id": "eb8358da",
   "metadata": {},
   "outputs": [],
   "source": [
    "# Drop repeated columns in the dataframe\n",
    "big_df = big_df.drop(columns=[\"source_y\"], axis=1)"
   ]
  },
  {
   "cell_type": "code",
   "execution_count": 174,
   "id": "dc1128bb",
   "metadata": {},
   "outputs": [],
   "source": [
    "# Save a copy of the combine dataframe to locally\n",
    "data = big_df.to_csv(\"combine_df.csv\", index= False)"
   ]
  },
  {
   "cell_type": "code",
   "execution_count": 175,
   "id": "2b108ae2",
   "metadata": {},
   "outputs": [],
   "source": [
    "# Load the combine dataframe\n",
    "data = pd.read_csv(\"combine_df.csv\")"
   ]
  },
  {
   "cell_type": "code",
   "execution_count": 176,
   "id": "b673460a",
   "metadata": {},
   "outputs": [],
   "source": [
    "# Drop the dog_stage column to check for duplicated rows in the dataframe\n",
    "big_df_dog_stage = data[\"dog_stage\"]"
   ]
  },
  {
   "cell_type": "code",
   "execution_count": 177,
   "id": "4021250a",
   "metadata": {},
   "outputs": [],
   "source": [
    "data = data.drop(\"dog_stage\", axis=1)"
   ]
  },
  {
   "cell_type": "code",
   "execution_count": 178,
   "id": "dd8fba5c",
   "metadata": {},
   "outputs": [],
   "source": [
    "# Drop duplicated rows by keeping the first occurrence\n",
    "new_data = data.drop_duplicates(keep=\"first\")"
   ]
  },
  {
   "cell_type": "code",
   "execution_count": 179,
   "id": "aa839575",
   "metadata": {},
   "outputs": [],
   "source": [
    "# Reset combine dataframe index\n",
    "new_data = new_data.reset_index()"
   ]
  },
  {
   "cell_type": "code",
   "execution_count": 180,
   "id": "f59c9b7e",
   "metadata": {},
   "outputs": [],
   "source": [
    "# Fit the dog_stage column to the shape of the new combine dataframe without duplicates records \n",
    "# new_data.shape[0]\n",
    "dog_stage  = big_df_dog_stage[:new_data.shape[0]]"
   ]
  },
  {
   "cell_type": "code",
   "execution_count": 181,
   "id": "6ebaeb9b",
   "metadata": {},
   "outputs": [],
   "source": [
    "new_data[\"dog_stage\"] = dog_stage"
   ]
  },
  {
   "cell_type": "markdown",
   "id": "3c96acbd",
   "metadata": {},
   "source": [
    "### Test"
   ]
  },
  {
   "cell_type": "code",
   "execution_count": 182,
   "id": "7bab7d75",
   "metadata": {},
   "outputs": [
    {
     "data": {
      "text/plain": [
       "(2073, 36)"
      ]
     },
     "execution_count": 182,
     "metadata": {},
     "output_type": "execute_result"
    }
   ],
   "source": [
    "new_data.shape"
   ]
  },
  {
   "cell_type": "markdown",
   "id": "aaaa3307",
   "metadata": {},
   "source": [
    "## Storing Data"
   ]
  },
  {
   "cell_type": "code",
   "execution_count": 183,
   "id": "2ce2abd0",
   "metadata": {},
   "outputs": [],
   "source": [
    "# Storing the cleaned combined dataframe \n",
    "new_data.to_csv(\"twitter_archive_master.csv\", index=False)"
   ]
  },
  {
   "cell_type": "markdown",
   "id": "0ba4e65e",
   "metadata": {},
   "source": [
    "## Analyzing and Visualizing Data "
   ]
  },
  {
   "cell_type": "code",
   "execution_count": 184,
   "id": "e8f19123",
   "metadata": {},
   "outputs": [
    {
     "data": {
      "text/html": [
       "<div>\n",
       "<style scoped>\n",
       "    .dataframe tbody tr th:only-of-type {\n",
       "        vertical-align: middle;\n",
       "    }\n",
       "\n",
       "    .dataframe tbody tr th {\n",
       "        vertical-align: top;\n",
       "    }\n",
       "\n",
       "    .dataframe thead th {\n",
       "        text-align: right;\n",
       "    }\n",
       "</style>\n",
       "<table border=\"1\" class=\"dataframe\">\n",
       "  <thead>\n",
       "    <tr style=\"text-align: right;\">\n",
       "      <th></th>\n",
       "      <th>index</th>\n",
       "      <th>tweet_id</th>\n",
       "      <th>timestamp</th>\n",
       "      <th>source_x</th>\n",
       "      <th>text</th>\n",
       "      <th>expanded_urls</th>\n",
       "      <th>rating_numerator</th>\n",
       "      <th>rating_denominator</th>\n",
       "      <th>name</th>\n",
       "      <th>jpg_url</th>\n",
       "      <th>img_num</th>\n",
       "      <th>p1</th>\n",
       "      <th>p1_conf</th>\n",
       "      <th>p1_dog</th>\n",
       "      <th>p2</th>\n",
       "      <th>p2_conf</th>\n",
       "      <th>p2_dog</th>\n",
       "      <th>p3</th>\n",
       "      <th>p3_conf</th>\n",
       "      <th>p3_dog</th>\n",
       "      <th>created_at</th>\n",
       "      <th>id</th>\n",
       "      <th>id_str</th>\n",
       "      <th>full_text</th>\n",
       "      <th>truncated</th>\n",
       "      <th>display_text_range</th>\n",
       "      <th>entities</th>\n",
       "      <th>user</th>\n",
       "      <th>is_quote_status</th>\n",
       "      <th>retweet_count</th>\n",
       "      <th>favorite_count</th>\n",
       "      <th>favorited</th>\n",
       "      <th>possibly_sensitive</th>\n",
       "      <th>possibly_sensitive_appealable</th>\n",
       "      <th>lang</th>\n",
       "      <th>dog_stage</th>\n",
       "    </tr>\n",
       "  </thead>\n",
       "  <tbody>\n",
       "    <tr>\n",
       "      <th>0</th>\n",
       "      <td>0</td>\n",
       "      <td>892420643555336193</td>\n",
       "      <td>2017-08-01 16:23:56+00:00</td>\n",
       "      <td>&lt;a href=\"http://twitter.com/download/iphone\" r...</td>\n",
       "      <td>This is Phineas. He's a mystical boy. Only eve...</td>\n",
       "      <td>https://twitter.com/dog_rates/status/892420643...</td>\n",
       "      <td>13</td>\n",
       "      <td>10</td>\n",
       "      <td>Phineas</td>\n",
       "      <td>https://pbs.twimg.com/media/DGKD1-bXoAAIAUK.jpg</td>\n",
       "      <td>1</td>\n",
       "      <td>Orange</td>\n",
       "      <td>0.097049</td>\n",
       "      <td>False</td>\n",
       "      <td>Bagel</td>\n",
       "      <td>0.085851</td>\n",
       "      <td>False</td>\n",
       "      <td>Banana</td>\n",
       "      <td>0.076110</td>\n",
       "      <td>False</td>\n",
       "      <td>Tue Aug 01 16:23:56 +0000 2017</td>\n",
       "      <td>892420643555336193</td>\n",
       "      <td>892420643555336193</td>\n",
       "      <td>This is Phineas. He's a mystical boy. Only eve...</td>\n",
       "      <td>False</td>\n",
       "      <td>0-85</td>\n",
       "      <td>{'hashtags': [], 'symbols': [], 'user_mentions...</td>\n",
       "      <td>{'id': 4196983835, 'id_str': '4196983835', 'na...</td>\n",
       "      <td>False</td>\n",
       "      <td>8853</td>\n",
       "      <td>39467</td>\n",
       "      <td>False</td>\n",
       "      <td>False</td>\n",
       "      <td>False</td>\n",
       "      <td>en</td>\n",
       "      <td>doggo</td>\n",
       "    </tr>\n",
       "    <tr>\n",
       "      <th>1</th>\n",
       "      <td>4</td>\n",
       "      <td>892177421306343426</td>\n",
       "      <td>2017-08-01 00:17:27+00:00</td>\n",
       "      <td>&lt;a href=\"http://twitter.com/download/iphone\" r...</td>\n",
       "      <td>This is Tilly. She's just checking pup on you....</td>\n",
       "      <td>https://twitter.com/dog_rates/status/892177421...</td>\n",
       "      <td>13</td>\n",
       "      <td>10</td>\n",
       "      <td>Tilly</td>\n",
       "      <td>https://pbs.twimg.com/media/DGGmoV4XsAAUL6n.jpg</td>\n",
       "      <td>1</td>\n",
       "      <td>Chihuahua</td>\n",
       "      <td>0.323581</td>\n",
       "      <td>True</td>\n",
       "      <td>Pekinese</td>\n",
       "      <td>0.090647</td>\n",
       "      <td>True</td>\n",
       "      <td>Papillon</td>\n",
       "      <td>0.068957</td>\n",
       "      <td>True</td>\n",
       "      <td>Tue Aug 01 00:17:27 +0000 2017</td>\n",
       "      <td>892177421306343426</td>\n",
       "      <td>892177421306343426</td>\n",
       "      <td>This is Tilly. She's just checking pup on you....</td>\n",
       "      <td>False</td>\n",
       "      <td>0-138</td>\n",
       "      <td>{'hashtags': [], 'symbols': [], 'user_mentions...</td>\n",
       "      <td>{'id': 4196983835, 'id_str': '4196983835', 'na...</td>\n",
       "      <td>False</td>\n",
       "      <td>6514</td>\n",
       "      <td>33819</td>\n",
       "      <td>False</td>\n",
       "      <td>False</td>\n",
       "      <td>False</td>\n",
       "      <td>en</td>\n",
       "      <td>floofer</td>\n",
       "    </tr>\n",
       "    <tr>\n",
       "      <th>2</th>\n",
       "      <td>8</td>\n",
       "      <td>891815181378084864</td>\n",
       "      <td>2017-07-31 00:18:03+00:00</td>\n",
       "      <td>&lt;a href=\"http://twitter.com/download/iphone\" r...</td>\n",
       "      <td>This is Archie. He is a rare Norwegian Pouncin...</td>\n",
       "      <td>https://twitter.com/dog_rates/status/891815181...</td>\n",
       "      <td>12</td>\n",
       "      <td>10</td>\n",
       "      <td>Archie</td>\n",
       "      <td>https://pbs.twimg.com/media/DGBdLU1WsAANxJ9.jpg</td>\n",
       "      <td>1</td>\n",
       "      <td>Chihuahua</td>\n",
       "      <td>0.716012</td>\n",
       "      <td>True</td>\n",
       "      <td>Malamute</td>\n",
       "      <td>0.078253</td>\n",
       "      <td>True</td>\n",
       "      <td>Kelpie</td>\n",
       "      <td>0.031379</td>\n",
       "      <td>True</td>\n",
       "      <td>Mon Jul 31 00:18:03 +0000 2017</td>\n",
       "      <td>891815181378084864</td>\n",
       "      <td>891815181378084864</td>\n",
       "      <td>This is Archie. He is a rare Norwegian Pouncin...</td>\n",
       "      <td>False</td>\n",
       "      <td>0-121</td>\n",
       "      <td>{'hashtags': [], 'symbols': [], 'user_mentions...</td>\n",
       "      <td>{'id': 4196983835, 'id_str': '4196983835', 'na...</td>\n",
       "      <td>False</td>\n",
       "      <td>4328</td>\n",
       "      <td>25461</td>\n",
       "      <td>False</td>\n",
       "      <td>False</td>\n",
       "      <td>False</td>\n",
       "      <td>en</td>\n",
       "      <td>pupper</td>\n",
       "    </tr>\n",
       "    <tr>\n",
       "      <th>3</th>\n",
       "      <td>12</td>\n",
       "      <td>891689557279858688</td>\n",
       "      <td>2017-07-30 15:58:51+00:00</td>\n",
       "      <td>&lt;a href=\"http://twitter.com/download/iphone\" r...</td>\n",
       "      <td>This is Darla. She commenced a snooze mid meal...</td>\n",
       "      <td>https://twitter.com/dog_rates/status/891689557...</td>\n",
       "      <td>13</td>\n",
       "      <td>10</td>\n",
       "      <td>Darla</td>\n",
       "      <td>https://pbs.twimg.com/media/DF_q7IAWsAEuuN8.jpg</td>\n",
       "      <td>1</td>\n",
       "      <td>Paper Towel</td>\n",
       "      <td>0.170278</td>\n",
       "      <td>False</td>\n",
       "      <td>Labrador Retriever</td>\n",
       "      <td>0.168086</td>\n",
       "      <td>True</td>\n",
       "      <td>Spatula</td>\n",
       "      <td>0.040836</td>\n",
       "      <td>False</td>\n",
       "      <td>Sun Jul 30 15:58:51 +0000 2017</td>\n",
       "      <td>891689557279858688</td>\n",
       "      <td>891689557279858688</td>\n",
       "      <td>This is Darla. She commenced a snooze mid meal...</td>\n",
       "      <td>False</td>\n",
       "      <td>0-79</td>\n",
       "      <td>{'hashtags': [], 'symbols': [], 'user_mentions...</td>\n",
       "      <td>{'id': 4196983835, 'id_str': '4196983835', 'na...</td>\n",
       "      <td>False</td>\n",
       "      <td>8964</td>\n",
       "      <td>42908</td>\n",
       "      <td>False</td>\n",
       "      <td>False</td>\n",
       "      <td>False</td>\n",
       "      <td>en</td>\n",
       "      <td>puppo</td>\n",
       "    </tr>\n",
       "    <tr>\n",
       "      <th>4</th>\n",
       "      <td>16</td>\n",
       "      <td>891327558926688256</td>\n",
       "      <td>2017-07-29 16:00:24+00:00</td>\n",
       "      <td>&lt;a href=\"http://twitter.com/download/iphone\" r...</td>\n",
       "      <td>This is Franklin. He would like you to stop ca...</td>\n",
       "      <td>https://twitter.com/dog_rates/status/891327558...</td>\n",
       "      <td>12</td>\n",
       "      <td>10</td>\n",
       "      <td>Franklin</td>\n",
       "      <td>https://pbs.twimg.com/media/DF6hr6BUMAAzZgT.jpg</td>\n",
       "      <td>2</td>\n",
       "      <td>Basset</td>\n",
       "      <td>0.555712</td>\n",
       "      <td>True</td>\n",
       "      <td>English Springer</td>\n",
       "      <td>0.225770</td>\n",
       "      <td>True</td>\n",
       "      <td>German Short-Haired Pointer</td>\n",
       "      <td>0.175219</td>\n",
       "      <td>True</td>\n",
       "      <td>Sat Jul 29 16:00:24 +0000 2017</td>\n",
       "      <td>891327558926688256</td>\n",
       "      <td>891327558926688256</td>\n",
       "      <td>This is Franklin. He would like you to stop ca...</td>\n",
       "      <td>False</td>\n",
       "      <td>0-138</td>\n",
       "      <td>{'hashtags': [{'text': 'BarkWeek', 'indices': ...</td>\n",
       "      <td>{'id': 4196983835, 'id_str': '4196983835', 'na...</td>\n",
       "      <td>False</td>\n",
       "      <td>9774</td>\n",
       "      <td>41048</td>\n",
       "      <td>False</td>\n",
       "      <td>False</td>\n",
       "      <td>False</td>\n",
       "      <td>en</td>\n",
       "      <td>doggo</td>\n",
       "    </tr>\n",
       "  </tbody>\n",
       "</table>\n",
       "</div>"
      ],
      "text/plain": [
       "   index            tweet_id                  timestamp  \\\n",
       "0      0  892420643555336193  2017-08-01 16:23:56+00:00   \n",
       "1      4  892177421306343426  2017-08-01 00:17:27+00:00   \n",
       "2      8  891815181378084864  2017-07-31 00:18:03+00:00   \n",
       "3     12  891689557279858688  2017-07-30 15:58:51+00:00   \n",
       "4     16  891327558926688256  2017-07-29 16:00:24+00:00   \n",
       "\n",
       "                                            source_x  \\\n",
       "0  <a href=\"http://twitter.com/download/iphone\" r...   \n",
       "1  <a href=\"http://twitter.com/download/iphone\" r...   \n",
       "2  <a href=\"http://twitter.com/download/iphone\" r...   \n",
       "3  <a href=\"http://twitter.com/download/iphone\" r...   \n",
       "4  <a href=\"http://twitter.com/download/iphone\" r...   \n",
       "\n",
       "                                                text  \\\n",
       "0  This is Phineas. He's a mystical boy. Only eve...   \n",
       "1  This is Tilly. She's just checking pup on you....   \n",
       "2  This is Archie. He is a rare Norwegian Pouncin...   \n",
       "3  This is Darla. She commenced a snooze mid meal...   \n",
       "4  This is Franklin. He would like you to stop ca...   \n",
       "\n",
       "                                       expanded_urls  rating_numerator  \\\n",
       "0  https://twitter.com/dog_rates/status/892420643...                13   \n",
       "1  https://twitter.com/dog_rates/status/892177421...                13   \n",
       "2  https://twitter.com/dog_rates/status/891815181...                12   \n",
       "3  https://twitter.com/dog_rates/status/891689557...                13   \n",
       "4  https://twitter.com/dog_rates/status/891327558...                12   \n",
       "\n",
       "   rating_denominator      name  \\\n",
       "0                  10   Phineas   \n",
       "1                  10     Tilly   \n",
       "2                  10    Archie   \n",
       "3                  10     Darla   \n",
       "4                  10  Franklin   \n",
       "\n",
       "                                           jpg_url  img_num           p1  \\\n",
       "0  https://pbs.twimg.com/media/DGKD1-bXoAAIAUK.jpg        1       Orange   \n",
       "1  https://pbs.twimg.com/media/DGGmoV4XsAAUL6n.jpg        1    Chihuahua   \n",
       "2  https://pbs.twimg.com/media/DGBdLU1WsAANxJ9.jpg        1    Chihuahua   \n",
       "3  https://pbs.twimg.com/media/DF_q7IAWsAEuuN8.jpg        1  Paper Towel   \n",
       "4  https://pbs.twimg.com/media/DF6hr6BUMAAzZgT.jpg        2       Basset   \n",
       "\n",
       "    p1_conf  p1_dog                  p2   p2_conf  p2_dog  \\\n",
       "0  0.097049   False               Bagel  0.085851   False   \n",
       "1  0.323581    True            Pekinese  0.090647    True   \n",
       "2  0.716012    True            Malamute  0.078253    True   \n",
       "3  0.170278   False  Labrador Retriever  0.168086    True   \n",
       "4  0.555712    True    English Springer  0.225770    True   \n",
       "\n",
       "                            p3   p3_conf  p3_dog  \\\n",
       "0                       Banana  0.076110   False   \n",
       "1                     Papillon  0.068957    True   \n",
       "2                       Kelpie  0.031379    True   \n",
       "3                      Spatula  0.040836   False   \n",
       "4  German Short-Haired Pointer  0.175219    True   \n",
       "\n",
       "                       created_at                  id              id_str  \\\n",
       "0  Tue Aug 01 16:23:56 +0000 2017  892420643555336193  892420643555336193   \n",
       "1  Tue Aug 01 00:17:27 +0000 2017  892177421306343426  892177421306343426   \n",
       "2  Mon Jul 31 00:18:03 +0000 2017  891815181378084864  891815181378084864   \n",
       "3  Sun Jul 30 15:58:51 +0000 2017  891689557279858688  891689557279858688   \n",
       "4  Sat Jul 29 16:00:24 +0000 2017  891327558926688256  891327558926688256   \n",
       "\n",
       "                                           full_text  truncated  \\\n",
       "0  This is Phineas. He's a mystical boy. Only eve...      False   \n",
       "1  This is Tilly. She's just checking pup on you....      False   \n",
       "2  This is Archie. He is a rare Norwegian Pouncin...      False   \n",
       "3  This is Darla. She commenced a snooze mid meal...      False   \n",
       "4  This is Franklin. He would like you to stop ca...      False   \n",
       "\n",
       "  display_text_range                                           entities  \\\n",
       "0               0-85  {'hashtags': [], 'symbols': [], 'user_mentions...   \n",
       "1              0-138  {'hashtags': [], 'symbols': [], 'user_mentions...   \n",
       "2              0-121  {'hashtags': [], 'symbols': [], 'user_mentions...   \n",
       "3               0-79  {'hashtags': [], 'symbols': [], 'user_mentions...   \n",
       "4              0-138  {'hashtags': [{'text': 'BarkWeek', 'indices': ...   \n",
       "\n",
       "                                                user  is_quote_status  \\\n",
       "0  {'id': 4196983835, 'id_str': '4196983835', 'na...            False   \n",
       "1  {'id': 4196983835, 'id_str': '4196983835', 'na...            False   \n",
       "2  {'id': 4196983835, 'id_str': '4196983835', 'na...            False   \n",
       "3  {'id': 4196983835, 'id_str': '4196983835', 'na...            False   \n",
       "4  {'id': 4196983835, 'id_str': '4196983835', 'na...            False   \n",
       "\n",
       "   retweet_count  favorite_count  favorited  possibly_sensitive  \\\n",
       "0           8853           39467      False               False   \n",
       "1           6514           33819      False               False   \n",
       "2           4328           25461      False               False   \n",
       "3           8964           42908      False               False   \n",
       "4           9774           41048      False               False   \n",
       "\n",
       "   possibly_sensitive_appealable lang dog_stage  \n",
       "0                          False   en     doggo  \n",
       "1                          False   en   floofer  \n",
       "2                          False   en    pupper  \n",
       "3                          False   en     puppo  \n",
       "4                          False   en     doggo  "
      ]
     },
     "execution_count": 184,
     "metadata": {},
     "output_type": "execute_result"
    }
   ],
   "source": [
    "new_data.head()"
   ]
  },
  {
   "cell_type": "markdown",
   "id": "d1f991c5",
   "metadata": {},
   "source": [
    "### 1. which dog stage has the most  average retweet count"
   ]
  },
  {
   "cell_type": "code",
   "execution_count": 185,
   "id": "cdfa2bbb",
   "metadata": {},
   "outputs": [
    {
     "data": {
      "text/plain": [
       "dog_stage\n",
       "puppo      3252.92\n",
       "floofer    2998.04\n",
       "pupper     2838.33\n",
       "doggo      2815.38\n",
       "Name: retweet_count, dtype: float64"
      ]
     },
     "execution_count": 185,
     "metadata": {},
     "output_type": "execute_result"
    }
   ],
   "source": [
    "#1 which dog stage has the most  average retweet count\n",
    "round(new_data.groupby(\"dog_stage\")[\"retweet_count\"].mean().sort_values(ascending=False),2)"
   ]
  },
  {
   "cell_type": "code",
   "execution_count": 186,
   "id": "788851be",
   "metadata": {},
   "outputs": [
    {
     "data": {
      "image/png": "[encoded data removed]",
      "text/plain": [
       "<Figure size 640x480 with 1 Axes>"
      ]
     },
     "metadata": {},
     "output_type": "display_data"
    }
   ],
   "source": [
    "\n",
    "plt.title(\"Dog Stage with the highest average retweet count\".upper())\n",
    "plt.ylabel(\"Number of retweets\")\n",
    "new_data.groupby(\"dog_stage\")[\"retweet_count\"].mean().plot(kind = \"bar\");"
   ]
  },
  {
   "cell_type": "markdown",
   "id": "e1cac337",
   "metadata": {},
   "source": [
    "The puppo stage of the dogs are the dogs that get the highest retweets among the dogs on the WeRateDogs twitter account. People consider this stage to be the cutest stage of the dog stage, this stage is followed by the floofer stage in rank"
   ]
  },
  {
   "cell_type": "markdown",
   "id": "f6b0abc8",
   "metadata": {},
   "source": [
    "### 2 which dog stage has the most  average favorite count(likes)"
   ]
  },
  {
   "cell_type": "code",
   "execution_count": 187,
   "id": "ddf75463",
   "metadata": {},
   "outputs": [
    {
     "data": {
      "text/plain": [
       "dog_stage\n",
       "puppo      8993.393822\n",
       "doggo      8445.113680\n",
       "floofer    8421.330116\n",
       "pupper     8367.250965\n",
       "Name: favorite_count, dtype: float64"
      ]
     },
     "execution_count": 187,
     "metadata": {},
     "output_type": "execute_result"
    }
   ],
   "source": [
    "#2 which dog stage has the most  average favorite count(likes)\n",
    "new_data.groupby(\"dog_stage\")[\"favorite_count\"].mean().sort_values(ascending=False)"
   ]
  },
  {
   "cell_type": "code",
   "execution_count": 188,
   "id": "b89b06da",
   "metadata": {},
   "outputs": [
    {
     "data": {
      "image/png": "[encoded data removed]",
      "text/plain": [
       "<Figure size 640x480 with 1 Axes>"
      ]
     },
     "metadata": {},
     "output_type": "display_data"
    }
   ],
   "source": [
    "# which dog stage has the most  average favorite count(likes)\n",
    "plt.title(\"Dog Stage with the most favorite count\".upper())\n",
    "plt.ylabel(\"Number of retweets\")\n",
    "new_data.groupby(\"dog_stage\")[\"favorite_count\"].mean().plot(kind=\"bar\");"
   ]
  },
  {
   "cell_type": "markdown",
   "id": "e0030c91",
   "metadata": {},
   "source": [
    "The Puppo stage of the dogs has 8993 likes on the average which is the most likes by any categories of dogs in the dataset, the doggo stage follows closely with8445 likes, while the floofer stage rank second with the most average retweets, it rank third on likes ranking"
   ]
  },
  {
   "cell_type": "markdown",
   "id": "2dc3b1a8",
   "metadata": {},
   "source": [
    "### 3. Which dog has the highest rating over 10"
   ]
  },
  {
   "cell_type": "code",
   "execution_count": 189,
   "id": "a042d94a",
   "metadata": {},
   "outputs": [],
   "source": [
    "\n",
    "denominator = new_data[new_data.rating_denominator == 10]\n",
    "numerator = max(denominator.rating_numerator)"
   ]
  },
  {
   "cell_type": "code",
   "execution_count": 190,
   "id": "47ef0aef",
   "metadata": {
    "scrolled": true
   },
   "outputs": [
    {
     "data": {
      "text/html": [
       "<div>\n",
       "<style scoped>\n",
       "    .dataframe tbody tr th:only-of-type {\n",
       "        vertical-align: middle;\n",
       "    }\n",
       "\n",
       "    .dataframe tbody tr th {\n",
       "        vertical-align: top;\n",
       "    }\n",
       "\n",
       "    .dataframe thead th {\n",
       "        text-align: right;\n",
       "    }\n",
       "</style>\n",
       "<table border=\"1\" class=\"dataframe\">\n",
       "  <thead>\n",
       "    <tr style=\"text-align: right;\">\n",
       "      <th></th>\n",
       "      <th>index</th>\n",
       "      <th>tweet_id</th>\n",
       "      <th>timestamp</th>\n",
       "      <th>source_x</th>\n",
       "      <th>text</th>\n",
       "      <th>expanded_urls</th>\n",
       "      <th>rating_numerator</th>\n",
       "      <th>rating_denominator</th>\n",
       "      <th>name</th>\n",
       "      <th>jpg_url</th>\n",
       "      <th>img_num</th>\n",
       "      <th>p1</th>\n",
       "      <th>p1_conf</th>\n",
       "      <th>p1_dog</th>\n",
       "      <th>p2</th>\n",
       "      <th>p2_conf</th>\n",
       "      <th>p2_dog</th>\n",
       "      <th>p3</th>\n",
       "      <th>p3_conf</th>\n",
       "      <th>p3_dog</th>\n",
       "      <th>created_at</th>\n",
       "      <th>id</th>\n",
       "      <th>id_str</th>\n",
       "      <th>full_text</th>\n",
       "      <th>truncated</th>\n",
       "      <th>display_text_range</th>\n",
       "      <th>entities</th>\n",
       "      <th>user</th>\n",
       "      <th>is_quote_status</th>\n",
       "      <th>retweet_count</th>\n",
       "      <th>favorite_count</th>\n",
       "      <th>favorited</th>\n",
       "      <th>possibly_sensitive</th>\n",
       "      <th>possibly_sensitive_appealable</th>\n",
       "      <th>lang</th>\n",
       "      <th>dog_stage</th>\n",
       "    </tr>\n",
       "  </thead>\n",
       "  <tbody>\n",
       "    <tr>\n",
       "      <th>802</th>\n",
       "      <td>3208</td>\n",
       "      <td>749981277374128128</td>\n",
       "      <td>2016-07-04 15:00:45+00:00</td>\n",
       "      <td>&lt;a href=\"https://about.twitter.com/products/tw...</td>\n",
       "      <td>This is Atticus. He's quite simply America af....</td>\n",
       "      <td>https://twitter.com/dog_rates/status/749981277...</td>\n",
       "      <td>1776</td>\n",
       "      <td>10</td>\n",
       "      <td>Atticus</td>\n",
       "      <td>https://pbs.twimg.com/media/CmgBZ7kWcAAlzFD.jpg</td>\n",
       "      <td>1</td>\n",
       "      <td>Bow Tie</td>\n",
       "      <td>0.533941</td>\n",
       "      <td>False</td>\n",
       "      <td>Sunglasses</td>\n",
       "      <td>0.080822</td>\n",
       "      <td>False</td>\n",
       "      <td>Sunglass</td>\n",
       "      <td>0.050776</td>\n",
       "      <td>False</td>\n",
       "      <td>Mon Jul 04 15:00:45 +0000 2016</td>\n",
       "      <td>749981277374128128</td>\n",
       "      <td>749981277374128128</td>\n",
       "      <td>This is Atticus. He's quite simply America af....</td>\n",
       "      <td>False</td>\n",
       "      <td>0-54</td>\n",
       "      <td>{'hashtags': [], 'symbols': [], 'user_mentions...</td>\n",
       "      <td>{'id': 4196983835, 'id_str': '4196983835', 'na...</td>\n",
       "      <td>False</td>\n",
       "      <td>2772</td>\n",
       "      <td>5569</td>\n",
       "      <td>False</td>\n",
       "      <td>False</td>\n",
       "      <td>False</td>\n",
       "      <td>en</td>\n",
       "      <td>pupper</td>\n",
       "    </tr>\n",
       "  </tbody>\n",
       "</table>\n",
       "</div>"
      ],
      "text/plain": [
       "     index            tweet_id                  timestamp  \\\n",
       "802   3208  749981277374128128  2016-07-04 15:00:45+00:00   \n",
       "\n",
       "                                              source_x  \\\n",
       "802  <a href=\"https://about.twitter.com/products/tw...   \n",
       "\n",
       "                                                  text  \\\n",
       "802  This is Atticus. He's quite simply America af....   \n",
       "\n",
       "                                         expanded_urls  rating_numerator  \\\n",
       "802  https://twitter.com/dog_rates/status/749981277...              1776   \n",
       "\n",
       "     rating_denominator     name  \\\n",
       "802                  10  Atticus   \n",
       "\n",
       "                                             jpg_url  img_num       p1  \\\n",
       "802  https://pbs.twimg.com/media/CmgBZ7kWcAAlzFD.jpg        1  Bow Tie   \n",
       "\n",
       "      p1_conf  p1_dog          p2   p2_conf  p2_dog        p3   p3_conf  \\\n",
       "802  0.533941   False  Sunglasses  0.080822   False  Sunglass  0.050776   \n",
       "\n",
       "     p3_dog                      created_at                  id  \\\n",
       "802   False  Mon Jul 04 15:00:45 +0000 2016  749981277374128128   \n",
       "\n",
       "                 id_str                                          full_text  \\\n",
       "802  749981277374128128  This is Atticus. He's quite simply America af....   \n",
       "\n",
       "     truncated display_text_range  \\\n",
       "802      False               0-54   \n",
       "\n",
       "                                              entities  \\\n",
       "802  {'hashtags': [], 'symbols': [], 'user_mentions...   \n",
       "\n",
       "                                                  user  is_quote_status  \\\n",
       "802  {'id': 4196983835, 'id_str': '4196983835', 'na...            False   \n",
       "\n",
       "     retweet_count  favorite_count  favorited  possibly_sensitive  \\\n",
       "802           2772            5569      False               False   \n",
       "\n",
       "     possibly_sensitive_appealable lang dog_stage  \n",
       "802                          False   en    pupper  "
      ]
     },
     "execution_count": 190,
     "metadata": {},
     "output_type": "execute_result"
    }
   ],
   "source": [
    "denominator[denominator.rating_numerator == numerator]"
   ]
  },
  {
   "cell_type": "markdown",
   "id": "e7a1caa2",
   "metadata": {},
   "source": [
    "This individual decided to give his dog a 1776 rating over 10 making it the highest rated dog over 10, dog name is Atticus. meanwhile noneof the prediction algorithms could not classify this dog has True"
   ]
  },
  {
   "cell_type": "markdown",
   "id": "13f06bad",
   "metadata": {},
   "source": [
    "### Conclusion\n",
    "Data from tweet archive of the Twitter user @dog_rates also known as WeRateDogs was gathered, assessed, cleaned and analysed in this project. The data was gathered from three different sources, 1. through direct download, 2. Through api using the request module 3. Through external API using token. the data was assessed visually and programmatically to discover and highlight variou quality and tidiness issues in the data, The data was later cleaned using various Pandas methods. The cleaned data was later merged into a master dataframe which was used for analysis and visualization among which include, the dog stage with the highest retweets and likes."
   ]
  },
  {
   "cell_type": "markdown",
   "id": "aea1102e",
   "metadata": {},
   "source": [
    "#### REFRENCES\n",
    "[https://stackoverflow.com/questions/72673587/pandas-melt-duplication-issue]\n",
    "[https://stackoverflow.com/questions/9760588/how-do-you-extract-a-url-from-a-string-using-python]\n",
    "[https://stackoverflow.com/questions/68412800/tweeperror-attribute-error-when-using-tweepy]"
   ]
  },
  {
   "cell_type": "code",
   "execution_count": null,
   "id": "43ff58ec",
   "metadata": {},
   "outputs": [],
   "source": []
  }
 ],
 "metadata": {
  "kernelspec": {
   "display_name": "Python 3 (ipykernel)",
   "language": "python",
   "name": "python3"
  },
  "language_info": {
   "codemirror_mode": {
    "name": "ipython",
    "version": 3
   },
   "file_extension": ".py",
   "mimetype": "text/x-python",
   "name": "python",
   "nbconvert_exporter": "python",
   "pygments_lexer": "ipython3",
   "version": "3.10.8"
  }
 },
 "nbformat": 4,
 "nbformat_minor": 5
}
